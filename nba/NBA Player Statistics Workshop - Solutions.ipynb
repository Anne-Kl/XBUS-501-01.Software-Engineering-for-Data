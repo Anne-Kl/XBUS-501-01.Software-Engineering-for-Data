{
 "cells": [
  {
   "cell_type": "markdown",
   "metadata": {},
   "source": [
    "# NBA Player Statistics Workshop - Solutions\n",
    "\n",
    "Given a dataset of NBA players performance and salary in 2014, use Python to load the dataset and compute the summary statistics for the `SALARY` field:\n",
    "\n",
    "- mean\n",
    "- median\n",
    "- mode\n",
    "- minimum\n",
    "- maximum\n",
    "\n",
    "You will need to make use of the csv module to load the data and interact with it. Computations should require only simple arithmetic. (For the purposes of this exercise, attempt to use pure Python and no third party dependencies like Pandas - you can then compare and contrast the use of Pandas for this task later). \n",
    "\n",
    "**Bonus:**\n",
    "\n",
    "Determine the relationship of PER (Player Efficiency Rating) to Salary via a visualization of the data.\n",
    "\n",
    "\n",
    "NBA 2014 Players Dataset: [http://bit.ly/2cdIpUc](http://bit.ly/2cdIpUc)"
   ]
  },
  {
   "cell_type": "code",
   "execution_count": 1,
   "metadata": {
    "collapsed": true
   },
   "outputs": [],
   "source": [
    "# Imports\n",
    "\n",
    "import os\n",
    "import csv\n",
    "import json\n",
    "\n",
    "from collections import Counter\n",
    "from operator import itemgetter\n",
    "from urllib.request import urlopen"
   ]
  },
  {
   "cell_type": "markdown",
   "metadata": {},
   "source": [
    "## Fetching the Data\n",
    "\n",
    "You have a couple of options of fetching the data set to begin your analysis:\n",
    "\n",
    "1. Click on the link above and Download the file. \n",
    "2. Write a Python function that automatically downloads the data as a comma-separated value file (CSV) and writes it to disk. \n",
    "\n",
    "In either case, you'll have to be cognizant of where the CSV file lands. Here is a quick implementation of a function to download a URL at a file and write it to disk. Note the many approaches to do this as outlined here: [How do I download a file over HTTP using Python?](http://stackoverflow.com/questions/22676/how-do-i-download-a-file-over-http-using-python). "
   ]
  },
  {
   "cell_type": "code",
   "execution_count": 2,
   "metadata": {
    "collapsed": true
   },
   "outputs": [],
   "source": [
    "def download(url, path):\n",
    "    \"\"\"\n",
    "    Downloads a URL and writes it to the specified path. The \"path\" \n",
    "    is like the mailing address for the file - it tells the function \n",
    "    where on your computer to send it!\n",
    "    \n",
    "    Also note the use of \"with\" to automatically close files - this \n",
    "    is a good standard practice to follow.\n",
    "    \"\"\"\n",
    "    response = urlopen(url)\n",
    "    with open(path, 'wb') as f:\n",
    "        f.write(response.read())\n",
    "    \n",
    "    response.close()"
   ]
  },
  {
   "cell_type": "markdown",
   "metadata": {},
   "source": [
    "**Your turn: use the above function to download the data!**"
   ]
  },
  {
   "cell_type": "code",
   "execution_count": 3,
   "metadata": {
    "collapsed": false
   },
   "outputs": [],
   "source": [
    "## Write the Python to execute the function and download the file here:\n",
    "download('http://bit.ly/2cdIpUc', 'nba_players.csv') # Whatever your path is"
   ]
  },
  {
   "cell_type": "markdown",
   "metadata": {},
   "source": [
    "## Loading the Data\n",
    "\n",
    "Now that we have the CSV file that we're looking for, we need to be able to open the file and read it into memory. The trick is that we want to read only a single line at a time - consider really large CSV files. Python provides memory efficient iteration in the form of `generators` and the `csv.reader` module exposes one such generator, that reads the data from the CSV one row at a time. Moreover, we also want to parse our data so that we have specific access to the fields we're looking for. The `csv.DictReader` class will give you each row as a dictionary, where the keys are derived from the first, header line of the file. \n",
    "\n",
    "Here is a function that reads data from disk one line at a time and `yield`s it to the user. "
   ]
  },
  {
   "cell_type": "code",
   "execution_count": 4,
   "metadata": {
    "collapsed": false
   },
   "outputs": [],
   "source": [
    "def read_csv(path):\n",
    "    # First open the file\n",
    "    with open(path, 'rt') as f:\n",
    "        # Create a DictReader to parse the CSV\n",
    "        reader = csv.DictReader(f)\n",
    "        for row in reader:\n",
    "            # HINT: Convert SALARY column values into integers & PER column into floats.\n",
    "            # Otherwise CSVs can turn ints into strs! You'll thank me later :D\n",
    "            row['SALARY'] = int(row['SALARY'])\n",
    "            row['PER'] = float(row['PER'])\n",
    "            # Now yield each row one at a time.\n",
    "            yield row"
   ]
  },
  {
   "cell_type": "markdown",
   "metadata": {},
   "source": [
    "**Your turn: use the above function to open the file and print out the first row of the CSV!**\n",
    "\n",
    "To do this, you'll need to do three things:\n",
    "\n",
    "First, remember where you told the `download` function to store your file? Pass that same path into `read_csv`:"
   ]
  },
  {
   "cell_type": "code",
   "execution_count": 5,
   "metadata": {
    "collapsed": false
   },
   "outputs": [],
   "source": [
    "## Write the Python to execute our read_csv function.\n",
    "x = read_csv('fixtures/nba_players.csv') # Whatever your path is"
   ]
  },
  {
   "cell_type": "markdown",
   "metadata": {},
   "source": [
    "Next step: The `read_csv` function \"returns\" a generator. How can we access just the first row? Remember [how to access the next row of a generator](http://stackoverflow.com/questions/4741243/how-to-pick-just-one-item-from-a-generator-in-python)? "
   ]
  },
  {
   "cell_type": "code",
   "execution_count": 6,
   "metadata": {
    "collapsed": false
   },
   "outputs": [
    {
     "name": "stdout",
     "output_type": "stream",
     "text": [
      "{'WT': '240', 'GP': '81', 'TEAM': ' OKC', 'AST': '16.1', 'ORR': '2.2', 'PLAYER': 'Kevin Durant', 'POS': 'SF', 'VA': '903.8', 'AGE': '25', 'HT': '81', 'TS%': '0.635', 'DRR': '18.6', 'TO': '10.3', 'MPG': '38.5', 'EWA': '30.1', 'SALARY': 18995624, 'REBR': '10.8', 'USG': '31.2', 'PER': 29.9}\n"
     ]
    }
   ],
   "source": [
    "## Now write the Python to print the first row of the CSV here.\n",
    "print(next(x))"
   ]
  },
  {
   "cell_type": "markdown",
   "metadata": {},
   "source": [
    "Are there different ways to print the first _n_ rows of something? Sure! Try using break, which will stop a for loop from running. E.g. the code:\n",
    "\n",
    "```python\n",
    "for idx in xrange(100):\n",
    "    if idx > 10:\n",
    "        break\n",
    "```\n",
    "\n",
    "...will stop the for loop after 10 iterations."
   ]
  },
  {
   "cell_type": "markdown",
   "metadata": {},
   "source": [
    "Next, write a `for` loop that can access and print every row."
   ]
  },
  {
   "cell_type": "code",
   "execution_count": 7,
   "metadata": {
    "collapsed": false
   },
   "outputs": [
    {
     "name": "stdout",
     "output_type": "stream",
     "text": [
      "{'WT': '243', 'GP': '77', 'TEAM': ' MIN', 'AST': '15.2', 'ORR': '8.5', 'PLAYER': 'Kevin Love', 'POS': 'PF', 'VA': '645.8', 'AGE': '25', 'HT': '82', 'TS%': '0.591', 'DRR': '29.5', 'TO': '8.7', 'MPG': '36.3', 'EWA': '21.5', 'SALARY': 15719063, 'REBR': '18.7', 'USG': '27.7', 'PER': 26.97}\n",
      "{'WT': '270', 'GP': '71', 'TEAM': ' SAC', 'AST': '10.8', 'ORR': '10.6', 'PLAYER': 'DeMarcus Cousins', 'POS': 'C', 'VA': '534.5', 'AGE': '24', 'HT': '83', 'TS%': '0.555', 'DRR': '30.5', 'TO': '13.1', 'MPG': '32.4', 'EWA': '17.8', 'SALARY': 14746000, 'REBR': '20.4', 'USG': '30.7', 'PER': 26.18}\n",
      "{'WT': '275', 'GP': '17', 'TEAM': ' BKN', 'AST': '4.9', 'ORR': '8.8', 'PLAYER': 'Brook Lopez', 'POS': 'C', 'VA': '118.6', 'AGE': '26', 'HT': '85', 'TS%': '0.629', 'DRR': '14.1', 'TO': '8.7', 'MPG': '31.4', 'EWA': '4', 'SALARY': 15719062, 'REBR': '11.5', 'USG': '24.1', 'PER': 25.5}\n",
      "{'WT': '235', 'GP': '77', 'TEAM': ' NY', 'AST': '10.4', 'ORR': '5.6', 'PLAYER': 'Carmelo Anthony', 'POS': 'SF', 'VA': '623', 'AGE': '30', 'HT': '80', 'TS%': '0.561', 'DRR': '19.4', 'TO': '8.5', 'MPG': '38.7', 'EWA': '20.8', 'SALARY': 22458401, 'REBR': '12.3', 'USG': '30.1', 'PER': 24.5}\n",
      "{'WT': '251', 'GP': '80', 'TEAM': ' LAC', 'AST': '14.1', 'ORR': '7.7', 'PLAYER': 'Blake Griffin', 'POS': 'PF', 'VA': '533.3', 'AGE': '25', 'HT': '82', 'TS%': '0.583', 'DRR': '21.2', 'TO': '10.2', 'MPG': '35.8', 'EWA': '17.8', 'SALARY': 17674613, 'REBR': '14.7', 'USG': '27.1', 'PER': 23.98}\n",
      "{'WT': '210', 'GP': '58', 'TEAM': ' DAL', 'AST': '7', 'ORR': '11', 'PLAYER': 'Brandan Wright', 'POS': 'PF', 'VA': '194.5', 'AGE': '26', 'HT': '82', 'TS%': '0.695', 'DRR': '15.1', 'TO': '7.9', 'MPG': '18.6', 'EWA': '6.5', 'SALARY': 5000000, 'REBR': '13.1', 'USG': '15.8', 'PER': 23.6}\n",
      "{'WT': '289', 'GP': '73', 'TEAM': ' CHA', 'AST': '8.7', 'ORR': '6.9', 'PLAYER': 'Al Jefferson', 'POS': 'C', 'VA': '462.9', 'AGE': '29', 'HT': '82', 'TS%': '0.532', 'DRR': '28.3', 'TO': '7', 'MPG': '35', 'EWA': '15.4', 'SALARY': 13500000, 'REBR': '17.5', 'USG': '26.7', 'PER': 22.75}\n",
      "{'WT': '250', 'GP': '29', 'TEAM': ' ATL', 'AST': '12.7', 'ORR': '8', 'PLAYER': 'Al Horford', 'POS': 'C', 'VA': '164.2', 'AGE': '28', 'HT': '82', 'TS%': '0.588', 'DRR': '21.4', 'TO': '10.7', 'MPG': '33', 'EWA': '5.5', 'SALARY': 12000000, 'REBR': '14.8', 'USG': '22.7', 'PER': 22.08}\n",
      "{'WT': '240', 'GP': '69', 'TEAM': ' POR', 'AST': '9.5', 'ORR': '7.2', 'PLAYER': 'LaMarcus Aldridge', 'POS': 'PF', 'VA': '385.7', 'AGE': '29', 'HT': '83', 'TS%': '0.507', 'DRR': '25.6', 'TO': '6.5', 'MPG': '36.2', 'EWA': '12.9', 'SALARY': 16006000, 'REBR': '16.5', 'USG': '27.9', 'PER': 21.84}\n",
      "{'WT': '250', 'GP': '74', 'TEAM': ' SA', 'AST': '15.4', 'ORR': '8.6', 'PLAYER': 'Tim Duncan', 'POS': 'PF', 'VA': '318.8', 'AGE': '38', 'HT': '83', 'TS%': '0.535', 'DRR': '28.3', 'TO': '11.2', 'MPG': '29.2', 'EWA': '10.6', 'SALARY': 10361446, 'REBR': '18.8', 'USG': '23.5', 'PER': 21.4}\n",
      "{'WT': '285', 'GP': '54', 'TEAM': ' MIN', 'AST': '5.3', 'ORR': '13.1', 'PLAYER': 'Nikola Pekovic', 'POS': 'C', 'VA': '251.2', 'AGE': '28', 'HT': '83', 'TS%': '0.582', 'DRR': '17.6', 'TO': '8.9', 'MPG': '30.8', 'EWA': '8.4', 'SALARY': 12100000, 'REBR': '15.3', 'USG': '21.1', 'PER': 20.72}\n",
      "{'WT': '205', 'GP': '79', 'TEAM': ' TOR', 'AST': '28.9', 'ORR': '3.6', 'PLAYER': 'Kyle Lowry', 'POS': 'PG', 'VA': '392.9', 'AGE': '28', 'HT': '73', 'TS%': '0.567', 'DRR': '11.5', 'TO': '9.6', 'MPG': '36.2', 'EWA': '13.1', 'SALARY': 12000000, 'REBR': '7.5', 'USG': '23.4', 'PER': 20.2}\n",
      "{'WT': '193', 'GP': '71', 'TEAM': ' CLE', 'AST': '21.6', 'ORR': '2.3', 'PLAYER': 'Kyrie Irving', 'POS': 'PG', 'VA': '340.4', 'AGE': '22', 'HT': '75', 'TS%': '0.533', 'DRR': '9.5', 'TO': '9.5', 'MPG': '35.2', 'EWA': '11.3', 'SALARY': 7070730, 'REBR': '5.8', 'USG': '27.8', 'PER': 20.14}\n",
      "{'WT': '205', 'GP': '68', 'TEAM': ' SA', 'AST': '25.7', 'ORR': '2.3', 'PLAYER': 'Manu Ginobili', 'POS': 'SG', 'VA': '221.2', 'AGE': '37', 'HT': '78', 'TS%': '0.59', 'DRR': '12', 'TO': '12.2', 'MPG': '22.8', 'EWA': '7.4', 'SALARY': 7000000, 'REBR': '7.3', 'USG': '24.2', 'PER': 20.06}\n",
      "{'WT': '228', 'GP': '80', 'TEAM': ' DEN', 'AST': '8.1', 'ORR': '11.8', 'PLAYER': 'Kenneth Faried', 'POS': 'PF', 'VA': '273.1', 'AGE': '24', 'HT': '80', 'TS%': '0.573', 'DRR': '22.2', 'TO': '11.4', 'MPG': '27.2', 'EWA': '9.1', 'SALARY': 2249768, 'REBR': '16.9', 'USG': '19.7', 'PER': 19.9}\n",
      "{'WT': '245', 'GP': '81', 'TEAM': ' OKC', 'AST': '6.7', 'ORR': '10', 'PLAYER': 'Serge Ibaka', 'POS': 'PF', 'VA': '324.8', 'AGE': '24', 'HT': '82', 'TS%': '0.576', 'DRR': '19.6', 'TO': '9.7', 'MPG': '32.9', 'EWA': '10.8', 'SALARY': 12350000, 'REBR': '15', 'USG': '18', 'PER': 19.66}\n",
      "{'WT': '195', 'GP': '82', 'TEAM': ' WSH', 'AST': '28.5', 'ORR': '1.5', 'PLAYER': 'John Wall', 'POS': 'PG', 'VA': '383', 'AGE': '23', 'HT': '76', 'TS%': '0.524', 'DRR': '11.7', 'TO': '11.7', 'MPG': '36.3', 'EWA': '12.8', 'SALARY': 14746000, 'REBR': '6.5', 'USG': '27.7', 'PER': 19.61}\n",
      "{'WT': '235', 'GP': '72', 'TEAM': ' LAL', 'AST': '7.4', 'ORR': '13.8', 'PLAYER': 'Jordan Hill', 'POS': 'PF', 'VA': '176.6', 'AGE': '27', 'HT': '82', 'TS%': '0.579', 'DRR': '24.3', 'TO': '10.3', 'MPG': '20.8', 'EWA': '5.9', 'SALARY': 9000000, 'REBR': '19', 'USG': '17.6', 'PER': 19.39}\n",
      "{'WT': '240', 'GP': '69', 'TEAM': ' GS', 'AST': '10.4', 'ORR': '8.8', 'PLAYER': 'David Lee', 'POS': 'PF', 'VA': '263.2', 'AGE': '31', 'HT': '81', 'TS%': '0.566', 'DRR': '21.6', 'TO': '10.8', 'MPG': '33.2', 'EWA': '8.8', 'SALARY': 15012000, 'REBR': '15.3', 'USG': '22.4', 'PER': 19.21}\n",
      "{'WT': '235', 'GP': '79', 'TEAM': ' MIA', 'AST': '6.8', 'ORR': '5.1', 'PLAYER': 'Chris Bosh', 'POS': 'C', 'VA': '321.5', 'AGE': '30', 'HT': '83', 'TS%': '0.597', 'DRR': '20.3', 'TO': '9.7', 'MPG': '32', 'EWA': '10.7', 'SALARY': 20644400, 'REBR': '13', 'USG': '20', 'PER': 19.11}\n",
      "{'WT': '195', 'GP': '62', 'TEAM': ' DEN', 'AST': '31.4', 'ORR': '1.9', 'PLAYER': 'Ty Lawson', 'POS': 'PG', 'VA': '266', 'AGE': '26', 'HT': '71', 'TS%': '0.553', 'DRR': '8.5', 'TO': '11.6', 'MPG': '35.8', 'EWA': '8.9', 'SALARY': 11595506, 'REBR': '5.2', 'USG': '23.5', 'PER': 19.02}\n",
      "{'WT': '185', 'GP': '68', 'TEAM': ' SA', 'AST': '24.9', 'ORR': '1', 'PLAYER': 'Tony Parker', 'POS': 'PG', 'VA': '238.5', 'AGE': '32', 'HT': '74', 'TS%': '0.555', 'DRR': '7.5', 'TO': '9.7', 'MPG': '29.4', 'EWA': '7.9', 'SALARY': 12500000, 'REBR': '4.4', 'USG': '25.9', 'PER': 19.0}\n",
      "{'WT': '245', 'GP': '65', 'TEAM': ' NY', 'AST': '4.4', 'ORR': '8.7', 'PLAYER': \"Amar'e Stoudemire\", 'POS': 'PF', 'VA': '161.6', 'AGE': '31', 'HT': '83', 'TS%': '0.596', 'DRR': '17.2', 'TO': '11.8', 'MPG': '22.6', 'EWA': '5.4', 'SALARY': 23410988, 'REBR': '12.8', 'USG': '21.3', 'PER': 18.89}\n",
      "{'WT': '250', 'GP': '57', 'TEAM': ' ORL', 'AST': '10.7', 'ORR': '11.5', 'PLAYER': 'Nikola Vucevic', 'POS': 'C', 'VA': '223', 'AGE': '23', 'HT': '85', 'TS%': '0.536', 'DRR': '27.6', 'TO': '11.5', 'MPG': '31.8', 'EWA': '7.4', 'SALARY': 2751260, 'REBR': '19.5', 'USG': '20', 'PER': 18.85}\n",
      "{'WT': '195', 'GP': '82', 'TEAM': ' POR', 'AST': '21.3', 'ORR': '1.3', 'PLAYER': 'Damian Lillard', 'POS': 'PG', 'VA': '337.1', 'AGE': '24', 'HT': '75', 'TS%': '0.568', 'DRR': '9.2', 'TO': '9', 'MPG': '35.8', 'EWA': '11.2', 'SALARY': 3340920, 'REBR': '5.3', 'USG': '24.7', 'PER': 18.69}\n",
      "{'WT': '248', 'GP': '52', 'TEAM': ' MEM', 'AST': '21.2', 'ORR': '7.4', 'PLAYER': 'James Johnson', 'POS': 'PF', 'VA': '99.9', 'AGE': '27', 'HT': '81', 'TS%': '0.552', 'DRR': '13.2', 'TO': '12.6', 'MPG': '18.4', 'EWA': '3.3', 'SALARY': 2500000, 'REBR': '10.3', 'USG': '19.7', 'PER': 18.5}\n",
      "{'WT': '220', 'GP': '72', 'TEAM': ' NO', 'AST': '23.1', 'ORR': '4.3', 'PLAYER': 'Tyreke Evans', 'POS': 'SF', 'VA': '239.9', 'AGE': '24', 'HT': '78', 'TS%': '0.504', 'DRR': '15.4', 'TO': '11.1', 'MPG': '28.2', 'EWA': '8', 'SALARY': 11265416, 'REBR': '9.8', 'USG': '26.7', 'PER': 18.43}\n",
      "{'WT': '230', 'GP': '73', 'TEAM': ' SAC/TOR', 'AST': '11.7', 'ORR': '5', 'PLAYER': 'Rudy Gay', 'POS': 'SF', 'VA': '298.3', 'AGE': '28', 'HT': '80', 'TS%': '0.54', 'DRR': '14.7', 'TO': '12.6', 'MPG': '34.7', 'EWA': '9.9', 'SALARY': 19317326, 'REBR': '9.8', 'USG': '25.2', 'PER': 18.4}\n",
      "{'WT': '235', 'GP': '69', 'TEAM': ' BOS', 'AST': '10.2', 'ORR': '10.2', 'PLAYER': 'Kris Humphries', 'POS': 'PF', 'VA': '157.8', 'AGE': '29', 'HT': '81', 'TS%': '0.552', 'DRR': '24', 'TO': '9.8', 'MPG': '19.9', 'EWA': '5.3', 'SALARY': 4250000, 'REBR': '16.9', 'USG': '17.8', 'PER': 18.28}\n",
      "{'WT': '265', 'GP': '82', 'TEAM': ' LAC', 'AST': '8.4', 'ORR': '13.3', 'PLAYER': 'DeAndre Jordan', 'POS': 'C', 'VA': '325.1', 'AGE': '26', 'HT': '83', 'TS%': '0.63', 'DRR': '29.3', 'TO': '14', 'MPG': '35', 'EWA': '10.8', 'SALARY': 11440123, 'REBR': '21.6', 'USG': '11.3', 'PER': 18.19}\n",
      "{'WT': '220', 'GP': '70', 'TEAM': ' MIL', 'AST': '12', 'ORR': '10.2', 'PLAYER': 'John Henson', 'POS': 'C', 'VA': '204', 'AGE': '23', 'HT': '83', 'TS%': '0.543', 'DRR': '20.8', 'TO': '12.1', 'MPG': '26.5', 'EWA': '6.8', 'SALARY': 1987320, 'REBR': '15.3', 'USG': '19.1', 'PER': 17.97}\n",
      "{'WT': '255', 'GP': '82', 'TEAM': ' POR', 'AST': '8', 'ORR': '13.6', 'PLAYER': 'Robin Lopez', 'POS': 'C', 'VA': '275.2', 'AGE': '26', 'HT': '85', 'TS%': '0.605', 'DRR': '15.3', 'TO': '9.3', 'MPG': '31.8', 'EWA': '9.2', 'SALARY': 6124729, 'REBR': '14.5', 'USG': '13', 'PER': 17.68}\n",
      "{'WT': '228', 'GP': '49', 'TEAM': ' MEM', 'AST': '6.4', 'ORR': '6.8', 'PLAYER': 'Jon Leuer', 'POS': 'PF', 'VA': '58.9', 'AGE': '25', 'HT': '82', 'TS%': '0.566', 'DRR': '22.4', 'TO': '8.6', 'MPG': '13.1', 'EWA': '2', 'SALARY': 967500, 'REBR': '14.6', 'USG': '19.5', 'PER': 17.65}\n",
      "{'WT': '245', 'GP': '53', 'TEAM': ' MIL/CHA', 'AST': '9.4', 'ORR': '11.8', 'PLAYER': 'Jeff Adrien', 'POS': 'SF', 'VA': '85.9', 'AGE': '28', 'HT': '79', 'TS%': '0.553', 'DRR': '24.8', 'TO': '9.6', 'MPG': '18.1', 'EWA': '2.9', 'SALARY': 915243, 'REBR': '18.2', 'USG': '18.4', 'PER': 17.49}\n",
      "{'WT': '270', 'GP': '78', 'TEAM': ' DAL', 'AST': '11.8', 'ORR': '13.3', 'PLAYER': 'DeJuan Blair', 'POS': 'C', 'VA': '121.9', 'AGE': '25', 'HT': '79', 'TS%': '0.557', 'DRR': '21.6', 'TO': '13', 'MPG': '15.6', 'EWA': '4.1', 'SALARY': 2000000, 'REBR': '17.5', 'USG': '18.1', 'PER': 17.33}\n",
      "{'WT': '181', 'GP': '79', 'TEAM': ' ATL', 'AST': '26.9', 'ORR': '1.6', 'PLAYER': 'Jeff Teague', 'POS': 'PG', 'VA': '233.6', 'AGE': '26', 'HT': '74', 'TS%': '0.541', 'DRR': '7.9', 'TO': '11.8', 'MPG': '32.2', 'EWA': '7.8', 'SALARY': 8000000, 'REBR': '4.7', 'USG': '25.2', 'PER': 17.16}\n",
      "{'WT': '265', 'GP': '39', 'TEAM': ' LAL', 'AST': '11.4', 'ORR': '7.8', 'PLAYER': 'Chris Kaman', 'POS': 'C', 'VA': '71', 'AGE': '32', 'HT': '85', 'TS%': '0.537', 'DRR': '25.4', 'TO': '14.6', 'MPG': '18.9', 'EWA': '2.4', 'SALARY': 4800000, 'REBR': '16.6', 'USG': '24.3', 'PER': 17.06}\n",
      "{'WT': '250', 'GP': '80', 'TEAM': ' DAL', 'AST': '6.7', 'ORR': '14.4', 'PLAYER': 'Samuel Dalembert', 'POS': 'C', 'VA': '151.3', 'AGE': '33', 'HT': '83', 'TS%': '0.605', 'DRR': '24.2', 'TO': '15.9', 'MPG': '20.2', 'EWA': '5', 'SALARY': 4051527, 'REBR': '19.4', 'USG': '13.5', 'PER': 16.88}\n",
      "{'WT': '184', 'GP': '73', 'TEAM': ' CHA', 'AST': '23.4', 'ORR': '1.7', 'PLAYER': 'Kemba Walker', 'POS': 'PG', 'VA': '227.1', 'AGE': '24', 'HT': '73', 'TS%': '0.499', 'DRR': '11.6', 'TO': '8.9', 'MPG': '35.8', 'EWA': '7.6', 'SALARY': 3272091, 'REBR': '6.6', 'USG': '25', 'PER': 16.82}\n",
      "{'WT': '250', 'GP': '82', 'TEAM': ' DEN', 'AST': '7.4', 'ORR': '10.4', 'PLAYER': 'Timofey Mozgov', 'POS': 'C', 'VA': '162.9', 'AGE': '28', 'HT': '85', 'TS%': '0.584', 'DRR': '21.9', 'TO': '14.5', 'MPG': '21.6', 'EWA': '5.4', 'SALARY': 4650000, 'REBR': '16.1', 'USG': '17.3', 'PER': 16.77}\n",
      "{'WT': '230', 'GP': '79', 'TEAM': ' PHI', 'AST': '10.5', 'ORR': '6.3', 'PLAYER': 'Thaddeus Young', 'POS': 'PF', 'VA': '208.6', 'AGE': '26', 'HT': '80', 'TS%': '0.512', 'DRR': '12.8', 'TO': '9.5', 'MPG': '34.4', 'EWA': '7', 'SALARY': 9410869, 'REBR': '9.5', 'USG': '22.5', 'PER': 16.64}\n",
      "{'WT': '238', 'GP': '60', 'TEAM': ' MIN', 'AST': '10.8', 'ORR': '13.4', 'PLAYER': 'Gorgui Dieng', 'POS': 'C', 'VA': '73', 'AGE': '24', 'HT': '83', 'TS%': '0.534', 'DRR': '26.9', 'TO': '15', 'MPG': '13.6', 'EWA': '2.4', 'SALARY': 1413480, 'REBR': '20', 'USG': '15.8', 'PER': 16.58}\n",
      "{'WT': '210', 'GP': '82', 'TEAM': ' PHX', 'AST': '8.9', 'ORR': '2.3', 'PLAYER': 'Gerald Green', 'POS': 'SG', 'VA': '210.4', 'AGE': '28', 'HT': '80', 'TS%': '0.585', 'DRR': '10.9', 'TO': '10.6', 'MPG': '28.4', 'EWA': '7', 'SALARY': 3500000, 'REBR': '6.6', 'USG': '21.8', 'PER': 16.55}\n",
      "{'WT': '265', 'GP': '80', 'TEAM': ' MEM', 'AST': '6.4', 'ORR': '14', 'PLAYER': 'Kosta Koufos', 'POS': 'C', 'VA': '119.6', 'AGE': '25', 'HT': '85', 'TS%': '0.514', 'DRR': '22.7', 'TO': '11.1', 'MPG': '16.9', 'EWA': '4', 'SALARY': 3000000, 'REBR': '18.4', 'USG': '18', 'PER': 16.54}\n",
      "{'WT': '240', 'GP': '55', 'TEAM': ' NY', 'AST': '11.3', 'ORR': '10.9', 'PLAYER': 'Tyson Chandler', 'POS': 'C', 'VA': '145.8', 'AGE': '31', 'HT': '85', 'TS%': '0.615', 'DRR': '27', 'TO': '13.6', 'MPG': '30.2', 'EWA': '4.9', 'SALARY': 14846888, 'REBR': '18.7', 'USG': '12', 'PER': 16.48}\n",
      "{'WT': '197', 'GP': '68', 'TEAM': ' MIN', 'AST': '8.8', 'ORR': '1.7', 'PLAYER': 'Kevin Martin', 'POS': 'SG', 'VA': '190.8', 'AGE': '31', 'HT': '79', 'TS%': '0.553', 'DRR': '8.7', 'TO': '7.6', 'MPG': '32', 'EWA': '6.4', 'SALARY': 6792500, 'REBR': '5.1', 'USG': '23.4', 'PER': 16.37}\n",
      "{'WT': '197', 'GP': '66', 'TEAM': ' UTAH', 'AST': '9.8', 'ORR': '11.1', 'PLAYER': 'Jeremy Evans', 'POS': 'SF', 'VA': '104.1', 'AGE': '26', 'HT': '81', 'TS%': '0.549', 'DRR': '18.7', 'TO': '8.9', 'MPG': '18.3', 'EWA': '3.5', 'SALARY': 1794871, 'REBR': '14.8', 'USG': '14.3', 'PER': 16.27}\n",
      "{'WT': '220', 'GP': '77', 'TEAM': ' UTAH', 'AST': '22.1', 'ORR': '2.5', 'PLAYER': 'Gordon Hayward', 'POS': 'SG', 'VA': '238.9', 'AGE': '24', 'HT': '80', 'TS%': '0.52', 'DRR': '14', 'TO': '11.7', 'MPG': '36.4', 'EWA': '8', 'SALARY': 14746000, 'REBR': '8', 'USG': '22.7', 'PER': 16.22}\n",
      "{'WT': '231', 'GP': '81', 'TEAM': ' TOR', 'AST': '5.8', 'ORR': '11.5', 'PLAYER': 'Jonas Valanciunas', 'POS': 'C', 'VA': '189.6', 'AGE': '22', 'HT': '83', 'TS%': '0.579', 'DRR': '25.1', 'TO': '13.8', 'MPG': '28.2', 'EWA': '6.3', 'SALARY': 3678360, 'REBR': '18.2', 'USG': '16.9', 'PER': 16.17}\n",
      "{'WT': '210', 'GP': '64', 'TEAM': ' LAL', 'AST': '7.9', 'ORR': '1.7', 'PLAYER': 'Nick Young', 'POS': 'SF', 'VA': '151.6', 'AGE': '29', 'HT': '79', 'TS%': '0.564', 'DRR': '8.1', 'TO': '7.9', 'MPG': '28.3', 'EWA': '5.1', 'SALARY': 4994420, 'REBR': '4.9', 'USG': '24.1', 'PER': 16.11}\n",
      "{'WT': '225', 'GP': '82', 'TEAM': ' CHI', 'AST': '7.2', 'ORR': '9.8', 'PLAYER': 'Taj Gibson', 'POS': 'PF', 'VA': '161', 'AGE': '29', 'HT': '81', 'TS%': '0.524', 'DRR': '17.1', 'TO': '11.9', 'MPG': '28.7', 'EWA': '5.4', 'SALARY': 8000000, 'REBR': '13.5', 'USG': '21.2', 'PER': 16.09}\n",
      "{'WT': '231', 'GP': '51', 'TEAM': ' CLE', 'AST': '9.7', 'ORR': '2', 'PLAYER': 'C.J. Miles', 'POS': 'SG', 'VA': '81.2', 'AGE': '27', 'HT': '78', 'TS%': '0.569', 'DRR': '9.9', 'TO': '8.2', 'MPG': '19.3', 'EWA': '2.7', 'SALARY': 4205000, 'REBR': '5.9', 'USG': '20.6', 'PER': 16.03}\n",
      "{'WT': '220', 'GP': '81', 'TEAM': ' DAL', 'AST': '17.4', 'ORR': '4', 'PLAYER': 'Vince Carter', 'POS': 'SG', 'VA': '161.2', 'AGE': '37', 'HT': '78', 'TS%': '0.539', 'DRR': '12.6', 'TO': '8.9', 'MPG': '24.4', 'EWA': '5.4', 'SALARY': 3911981, 'REBR': '8.3', 'USG': '21.9', 'PER': 15.97}\n",
      "{'WT': '195', 'GP': '49', 'TEAM': ' CHI/SAC', 'AST': '18.4', 'ORR': '1.7', 'PLAYER': 'Jimmer Fredette', 'POS': 'PG', 'VA': '37.8', 'AGE': '25', 'HT': '74', 'TS%': '0.578', 'DRR': '9.7', 'TO': '13.8', 'MPG': '10.6', 'EWA': '1.3', 'SALARY': 915243, 'REBR': '5.7', 'USG': '25.9', 'PER': 15.88}\n",
      "{'WT': '200', 'GP': '82', 'TEAM': ' POR', 'AST': '27.3', 'ORR': '4.3', 'PLAYER': 'Nicolas Batum', 'POS': 'SF', 'VA': '236.7', 'AGE': '25', 'HT': '80', 'TS%': '0.589', 'DRR': '17.8', 'TO': '13.5', 'MPG': '36', 'EWA': '7.9', 'SALARY': 11765500, 'REBR': '11.1', 'USG': '16.8', 'PER': 15.86}\n",
      "{'WT': '245', 'GP': '80', 'TEAM': ' CLE/PHI', 'AST': '17.6', 'ORR': '5.6', 'PLAYER': 'Spencer Hawes', 'POS': 'PF', 'VA': '190.6', 'AGE': '26', 'HT': '85', 'TS%': '0.554', 'DRR': '24.2', 'TO': '12.7', 'MPG': '30.9', 'EWA': '6.4', 'SALARY': 5305000, 'REBR': '14.6', 'USG': '19.8', 'PER': 15.77}\n",
      "{'WT': '247', 'GP': '80', 'TEAM': ' UTAH', 'AST': '6.5', 'ORR': '11.6', 'PLAYER': 'Enes Kanter', 'POS': 'C', 'VA': '162.7', 'AGE': '22', 'HT': '83', 'TS%': '0.523', 'DRR': '20.9', 'TO': '12.4', 'MPG': '26.7', 'EWA': '5.4', 'SALARY': 5694674, 'REBR': '16.1', 'USG': '21.4', 'PER': 15.7}\n",
      "{'WT': '213', 'GP': '55', 'TEAM': ' MEM', 'AST': '14.5', 'ORR': '7.3', 'PLAYER': 'Tony Allen', 'POS': 'SG', 'VA': '98.1', 'AGE': '32', 'HT': '76', 'TS%': '0.531', 'DRR': '12', 'TO': '13.8', 'MPG': '23.2', 'EWA': '3.3', 'SALARY': 4831461, 'REBR': '9.6', 'USG': '19.2', 'PER': 15.64}\n",
      "{'WT': '185', 'GP': '70', 'TEAM': ' PHI', 'AST': '23.2', 'ORR': '4.3', 'PLAYER': 'Michael Carter-Williams', 'POS': 'PG', 'VA': '165.4', 'AGE': '22', 'HT': '78', 'TS%': '0.48', 'DRR': '15.6', 'TO': '13', 'MPG': '34.5', 'EWA': '5.5', 'SALARY': 2300040, 'REBR': '9.8', 'USG': '25.3', 'PER': 15.59}\n",
      "{'WT': '210', 'GP': '77', 'TEAM': ' TOR', 'AST': '12.6', 'ORR': '9', 'PLAYER': 'Amir Johnson', 'POS': 'PF', 'VA': '130.2', 'AGE': '27', 'HT': '81', 'TS%': '0.592', 'DRR': '17.6', 'TO': '13.5', 'MPG': '28.8', 'EWA': '4.3', 'SALARY': 7000000, 'REBR': '13.3', 'USG': '15.4', 'PER': 15.44}\n",
      "{'WT': '253', 'GP': '70', 'TEAM': ' CLE', 'AST': '8.2', 'ORR': '10.8', 'PLAYER': 'Tyler Zeller', 'POS': 'C', 'VA': '75.5', 'AGE': '24', 'HT': '85', 'TS%': '0.581', 'DRR': '19.6', 'TO': '13.7', 'MPG': '15', 'EWA': '2.5', 'SALARY': 1703760, 'REBR': '15.1', 'USG': '15.9', 'PER': 15.43}\n",
      "{'WT': '237', 'GP': '80', 'TEAM': ' ATL', 'AST': '8.9', 'ORR': '4.9', 'PLAYER': 'Mike Scott', 'POS': 'PF', 'VA': '85', 'AGE': '26', 'HT': '80', 'TS%': '0.559', 'DRR': '17.2', 'TO': '9.4', 'MPG': '18.5', 'EWA': '2.8', 'SALARY': 0, 'REBR': '11.1', 'USG': '21.2', 'PER': 15.34}\n",
      "{'WT': '186', 'GP': '30', 'TEAM': ' BOS', 'AST': '38.1', 'ORR': '2.4', 'PLAYER': 'Rajon Rondo', 'POS': 'PG', 'VA': '64.6', 'AGE': '28', 'HT': '73', 'TS%': '0.461', 'DRR': '16.6', 'TO': '12.8', 'MPG': '33.3', 'EWA': '2.2', 'SALARY': 12909090, 'REBR': '9.3', 'USG': '23.2', 'PER': 15.34}\n",
      "{'WT': '235', 'GP': '58', 'TEAM': ' NO', 'AST': '12.6', 'ORR': '8.2', 'PLAYER': 'Jeff Withey', 'POS': 'C', 'VA': '47.5', 'AGE': '24', 'HT': '85', 'TS%': '0.59', 'DRR': '17.4', 'TO': '9.7', 'MPG': '11.8', 'EWA': '1.6', 'SALARY': 816482, 'REBR': '12.7', 'USG': '11.3', 'PER': 15.25}\n",
      "{'WT': '211', 'GP': '81', 'TEAM': ' DAL', 'AST': '30', 'ORR': '1.4', 'PLAYER': 'Jose Calderon', 'POS': 'PG', 'VA': '156.4', 'AGE': '32', 'HT': '75', 'TS%': '0.596', 'DRR': '7.6', 'TO': '8.2', 'MPG': '30.5', 'EWA': '5.2', 'SALARY': 7097191, 'REBR': '4.5', 'USG': '16.4', 'PER': 15.25}\n",
      "{'WT': '255', 'GP': '79', 'TEAM': ' GS', 'AST': '5.3', 'ORR': '11.4', 'PLAYER': 'Marreese Speights', 'POS': 'PF', 'VA': '54.5', 'AGE': '27', 'HT': '82', 'TS%': '0.507', 'DRR': '20.6', 'TO': '11', 'MPG': '12.4', 'EWA': '1.8', 'SALARY': 3657500, 'REBR': '16.1', 'USG': '23', 'PER': 15.22}\n",
      "{'WT': '180', 'GP': '41', 'TEAM': ' LAL', 'AST': '29.1', 'ORR': '2.3', 'PLAYER': 'Jordan Farmar', 'POS': 'PG', 'VA': '55.2', 'AGE': '27', 'HT': '74', 'TS%': '0.533', 'DRR': '9.8', 'TO': '13.9', 'MPG': '22.2', 'EWA': '1.8', 'SALARY': 2077000, 'REBR': '6.1', 'USG': '23.1', 'PER': 15.05}\n",
      "{'WT': '250', 'GP': '82', 'TEAM': ' BOS', 'AST': '8.5', 'ORR': '7.8', 'PLAYER': 'Brandon Bass', 'POS': 'PF', 'VA': '118.8', 'AGE': '29', 'HT': '80', 'TS%': '0.549', 'DRR': '15.9', 'TO': '10', 'MPG': '27.6', 'EWA': '4', 'SALARY': 6900000, 'REBR': '11.8', 'USG': '17', 'PER': 15.01}\n",
      "{'WT': '215', 'GP': '64', 'TEAM': ' NO', 'AST': '16.5', 'ORR': '1.7', 'PLAYER': 'Eric Gordon', 'POS': 'SG', 'VA': '135.8', 'AGE': '25', 'HT': '76', 'TS%': '0.54', 'DRR': '7.7', 'TO': '10.7', 'MPG': '32.1', 'EWA': '4.5', 'SALARY': 14898938, 'REBR': '4.7', 'USG': '22.2', 'PER': 14.92}\n",
      "{'WT': '208', 'GP': '77', 'TEAM': ' LAL', 'AST': '11', 'ORR': '1.3', 'PLAYER': 'Jodie Meeks', 'POS': 'SG', 'VA': '162.2', 'AGE': '27', 'HT': '76', 'TS%': '0.601', 'DRR': '6.9', 'TO': '8.8', 'MPG': '33.2', 'EWA': '5.4', 'SALARY': 6000000, 'REBR': '4.1', 'USG': '17.4', 'PER': 14.75}\n",
      "{'WT': '230', 'GP': '78', 'TEAM': ' IND', 'AST': '23.5', 'ORR': '4.1', 'PLAYER': 'Lance Stephenson', 'POS': 'SG', 'VA': '173.3', 'AGE': '23', 'HT': '77', 'TS%': '0.564', 'DRR': '18.1', 'TO': '13.8', 'MPG': '35.3', 'EWA': '5.8', 'SALARY': 9000000, 'REBR': '11.4', 'USG': '19', 'PER': 14.72}\n",
      "{'WT': '192', 'GP': '40', 'TEAM': ' DAL', 'AST': '32.9', 'ORR': '1.1', 'PLAYER': 'Devin Harris', 'POS': 'PG', 'VA': '44.6', 'AGE': '31', 'HT': '75', 'TS%': '0.517', 'DRR': '10.8', 'TO': '10.9', 'MPG': '20.5', 'EWA': '1.5', 'SALARY': 3878896, 'REBR': '6', 'USG': '20.8', 'PER': 14.66}\n",
      "{'WT': '255', 'GP': '80', 'TEAM': ' PHX', 'AST': '5.6', 'ORR': '11.3', 'PLAYER': 'Miles Plumlee', 'POS': 'C', 'VA': '117.3', 'AGE': '25', 'HT': '83', 'TS%': '0.529', 'DRR': '24.4', 'TO': '14.5', 'MPG': '24.6', 'EWA': '3.9', 'SALARY': 1169880, 'REBR': '17.9', 'USG': '14.7', 'PER': 14.6}\n",
      "{'WT': '175', 'GP': '76', 'TEAM': ' BKN', 'AST': '26.6', 'ORR': '4.1', 'PLAYER': 'Shaun Livingston', 'POS': 'PG', 'VA': '103.8', 'AGE': '28', 'HT': '79', 'TS%': '0.551', 'DRR': '10.8', 'TO': '11.4', 'MPG': '26', 'EWA': '3.5', 'SALARY': 5305000, 'REBR': '7.5', 'USG': '15.8', 'PER': 14.52}\n",
      "{'WT': '185', 'GP': '56', 'TEAM': ' DET', 'AST': '26.9', 'ORR': '2.4', 'PLAYER': 'Will Bynum', 'POS': 'PG', 'VA': '54.1', 'AGE': '31', 'HT': '73', 'TS%': '0.502', 'DRR': '8.2', 'TO': '12.8', 'MPG': '18.8', 'EWA': '1.8', 'SALARY': 2915908, 'REBR': '5.1', 'USG': '24.7', 'PER': 14.44}\n",
      "{'WT': '242', 'GP': '72', 'TEAM': ' BKN', 'AST': '8.5', 'ORR': '5.2', 'PLAYER': 'Mirza Teletovic', 'POS': 'PF', 'VA': '60.1', 'AGE': '28', 'HT': '81', 'TS%': '0.559', 'DRR': '17.6', 'TO': '8.1', 'MPG': '19.4', 'EWA': '2', 'SALARY': 3368100, 'REBR': '11.4', 'USG': '18.5', 'PER': 14.38}\n",
      "{'WT': '205', 'GP': '81', 'TEAM': ' GS', 'AST': '10.9', 'ORR': '1.5', 'PLAYER': 'Klay Thompson', 'POS': 'SG', 'VA': '163.3', 'AGE': '24', 'HT': '79', 'TS%': '0.555', 'DRR': '7.9', 'TO': '8.2', 'MPG': '35.4', 'EWA': '5.4', 'SALARY': 3075880, 'REBR': '4.7', 'USG': '20.9', 'PER': 14.32}\n",
      "{'WT': '175', 'GP': '60', 'TEAM': ' ATL', 'AST': '24', 'ORR': '0.8', 'PLAYER': 'Louis Williams', 'POS': 'SG', 'VA': '80.7', 'AGE': '27', 'HT': '73', 'TS%': '0.547', 'DRR': '9.1', 'TO': '10.5', 'MPG': '24.1', 'EWA': '2.7', 'SALARY': 5450000, 'REBR': '5', 'USG': '20.2', 'PER': 14.24}\n",
      "{'WT': '211', 'GP': '79', 'TEAM': ' SAC/TOR', 'AST': '27.9', 'ORR': '1.3', 'PLAYER': 'Greivis Vasquez', 'POS': 'PG', 'VA': '84.8', 'AGE': '27', 'HT': '78', 'TS%': '0.537', 'DRR': '10', 'TO': '11.1', 'MPG': '22.5', 'EWA': '2.8', 'SALARY': 6400000, 'REBR': '5.6', 'USG': '19.1', 'PER': 14.2}\n",
      "{'WT': '250', 'GP': '79', 'TEAM': ' SA', 'AST': '23', 'ORR': '4.4', 'PLAYER': 'Boris Diaw', 'POS': 'PF', 'VA': '77.2', 'AGE': '32', 'HT': '80', 'TS%': '0.578', 'DRR': '13.8', 'TO': '12.6', 'MPG': '25', 'EWA': '2.6', 'SALARY': 7500000, 'REBR': '9.3', 'USG': '16.4', 'PER': 14.12}\n",
      "{'WT': '225', 'GP': '70', 'TEAM': ' CLE', 'AST': '14.4', 'ORR': '1.7', 'PLAYER': 'Dion Waiters', 'POS': 'SG', 'VA': '111.3', 'AGE': '22', 'HT': '76', 'TS%': '0.508', 'DRR': '9', 'TO': '10.5', 'MPG': '29.6', 'EWA': '3.7', 'SALARY': 4062000, 'REBR': '5.3', 'USG': '25.7', 'PER': 14.1}\n",
      "{'WT': '254', 'GP': '73', 'TEAM': ' ATL', 'AST': '14.6', 'ORR': '8', 'PLAYER': 'Elton Brand', 'POS': 'PF', 'VA': '53.8', 'AGE': '35', 'HT': '81', 'TS%': '0.561', 'DRR': '21.5', 'TO': '11.8', 'MPG': '19.4', 'EWA': '1.8', 'SALARY': 0, 'REBR': '14.8', 'USG': '12.9', 'PER': 14.05}\n",
      "{'WT': '237', 'GP': '66', 'TEAM': ' UTAH', 'AST': '11.3', 'ORR': '5.5', 'PLAYER': 'Marvin Williams', 'POS': 'PF', 'VA': '63.4', 'AGE': '28', 'HT': '81', 'TS%': '0.54', 'DRR': '17.9', 'TO': '7.7', 'MPG': '25.4', 'EWA': '2.1', 'SALARY': 7000000, 'REBR': '11.5', 'USG': '15.7', 'PER': 14.04}\n",
      "{'WT': '275', 'GP': '53', 'TEAM': ' MIL', 'AST': '21.4', 'ORR': '11.8', 'PLAYER': 'Zaza Pachulia', 'POS': 'C', 'VA': '67.9', 'AGE': '30', 'HT': '83', 'TS%': '0.502', 'DRR': '17.1', 'TO': '14.5', 'MPG': '25', 'EWA': '2.3', 'SALARY': 5200000, 'REBR': '14.4', 'USG': '16.8', 'PER': 14.03}\n",
      "{'WT': '220', 'GP': '74', 'TEAM': ' NY', 'AST': '16.3', 'ORR': '1.7', 'PLAYER': 'J.R. Smith', 'POS': 'SG', 'VA': '126.4', 'AGE': '28', 'HT': '78', 'TS%': '0.527', 'DRR': '13.1', 'TO': '8', 'MPG': '32.7', 'EWA': '4.2', 'SALARY': 5982375, 'REBR': '7.2', 'USG': '20.6', 'PER': 14.0}\n",
      "{'WT': '212', 'GP': '73', 'TEAM': ' ATL', 'AST': '14.6', 'ORR': '5.3', 'PLAYER': 'DeMarre Carroll', 'POS': 'SF', 'VA': '120.8', 'AGE': '28', 'HT': '80', 'TS%': '0.575', 'DRR': '14.5', 'TO': '8.6', 'MPG': '32.1', 'EWA': '4', 'SALARY': 2442455, 'REBR': '10', 'USG': '14.1', 'PER': 13.96}\n",
      "{'WT': '215', 'GP': '68', 'TEAM': ' SA', 'AST': '14.6', 'ORR': '1.8', 'PLAYER': 'Danny Green', 'POS': 'SG', 'VA': '83.7', 'AGE': '27', 'HT': '78', 'TS%': '0.58', 'DRR': '13.4', 'TO': '10.7', 'MPG': '24.3', 'EWA': '2.8', 'SALARY': 4025000, 'REBR': '7.8', 'USG': '15.5', 'PER': 13.9}\n",
      "{'WT': '235', 'GP': '55', 'TEAM': ' MIL', 'AST': '9.4', 'ORR': '8', 'PLAYER': 'Ersan Ilyasova', 'POS': 'PF', 'VA': '51.9', 'AGE': '27', 'HT': '82', 'TS%': '0.486', 'DRR': '18.8', 'TO': '7.9', 'MPG': '26.9', 'EWA': '1.7', 'SALARY': 7900000, 'REBR': '13.3', 'USG': '19.9', 'PER': 13.85}\n",
      "{'WT': '240', 'GP': '78', 'TEAM': ' CHA', 'AST': '32.7', 'ORR': '4', 'PLAYER': 'Josh McRoberts', 'POS': 'PF', 'VA': '81.6', 'AGE': '27', 'HT': '82', 'TS%': '0.548', 'DRR': '13.8', 'TO': '8.1', 'MPG': '30.3', 'EWA': '2.7', 'SALARY': 5305000, 'REBR': '8.9', 'USG': '13.7', 'PER': 13.82}\n",
      "{'WT': '228', 'GP': '76', 'TEAM': ' DAL', 'AST': '13', 'ORR': '6.4', 'PLAYER': 'Shawn Marion', 'POS': 'SF', 'VA': '117.9', 'AGE': '36', 'HT': '79', 'TS%': '0.537', 'DRR': '17.4', 'TO': '9.9', 'MPG': '31.7', 'EWA': '3.9', 'SALARY': 0, 'REBR': '11.9', 'USG': '14.6', 'PER': 13.78}\n",
      "{'WT': '215', 'GP': '80', 'TEAM': ' ORL', 'AST': '19.7', 'ORR': '1.9', 'PLAYER': 'Victor Oladipo', 'POS': 'SG', 'VA': '116.5', 'AGE': '22', 'HT': '76', 'TS%': '0.514', 'DRR': '13.1', 'TO': '15.4', 'MPG': '31.1', 'EWA': '3.9', 'SALARY': 4978200, 'REBR': '7.5', 'USG': '23.3', 'PER': 13.64}\n",
      "{'WT': '212', 'GP': '71', 'TEAM': ' ATL', 'AST': '21.7', 'ORR': '1.1', 'PLAYER': 'Kyle Korver', 'POS': 'SG', 'VA': '109.8', 'AGE': '33', 'HT': '79', 'TS%': '0.653', 'DRR': '12.4', 'TO': '10.6', 'MPG': '33.9', 'EWA': '3.7', 'SALARY': 6253521, 'REBR': '6.8', 'USG': '13.6', 'PER': 13.55}\n",
      "{'WT': '173', 'GP': '72', 'TEAM': ' NO', 'AST': '24.2', 'ORR': '1.2', 'PLAYER': 'Brian Roberts', 'POS': 'PG', 'VA': '61.9', 'AGE': '28', 'HT': '73', 'TS%': '0.529', 'DRR': '8.4', 'TO': '9.8', 'MPG': '23.2', 'EWA': '2.1', 'SALARY': 2732000, 'REBR': '4.7', 'USG': '19.9', 'PER': 13.49}\n",
      "{'WT': '240', 'GP': '82', 'TEAM': ' IND', 'AST': '10', 'ORR': '7.2', 'PLAYER': 'Luis Scola', 'POS': 'PF', 'VA': '40.2', 'AGE': '34', 'HT': '81', 'TS%': '0.505', 'DRR': '23.4', 'TO': '13.4', 'MPG': '17.1', 'EWA': '1.3', 'SALARY': 4868499, 'REBR': '15.7', 'USG': '21.9', 'PER': 13.42}\n",
      "{'WT': '188', 'GP': '76', 'TEAM': ' IND', 'AST': '25.2', 'ORR': '2.6', 'PLAYER': 'George Hill', 'POS': 'PG', 'VA': '87.7', 'AGE': '28', 'HT': '75', 'TS%': '0.563', 'DRR': '10.1', 'TO': '8.8', 'MPG': '32', 'EWA': '2.9', 'SALARY': 8000000, 'REBR': '6.5', 'USG': '14.6', 'PER': 13.42}\n",
      "{'WT': '245', 'GP': '77', 'TEAM': ' CHA', 'AST': '3.5', 'ORR': '11', 'PLAYER': 'Bismack Biyombo', 'POS': 'C', 'VA': '43.6', 'AGE': '21', 'HT': '81', 'TS%': '0.606', 'DRR': '27.6', 'TO': '17.3', 'MPG': '13.9', 'EWA': '1.5', 'SALARY': 3873398, 'REBR': '19.3', 'USG': '8.6', 'PER': 13.33}\n",
      "{'WT': '224', 'GP': '81', 'TEAM': ' PHX', 'AST': '14.9', 'ORR': '7.3', 'PLAYER': 'P.J. Tucker', 'POS': 'SF', 'VA': '104.5', 'AGE': '29', 'HT': '78', 'TS%': '0.54', 'DRR': '16.6', 'TO': '10.8', 'MPG': '30.7', 'EWA': '3.5', 'SALARY': 5700000, 'REBR': '11.9', 'USG': '13.4', 'PER': 13.31}\n",
      "{'WT': '245', 'GP': '82', 'TEAM': ' PHX', 'AST': '9.7', 'ORR': '3.6', 'PLAYER': 'Channing Frye', 'POS': 'PF', 'VA': '60.6', 'AGE': '31', 'HT': '83', 'TS%': '0.555', 'DRR': '16.6', 'TO': '8.8', 'MPG': '28.2', 'EWA': '2', 'SALARY': 8579088, 'REBR': '10.1', 'USG': '16', 'PER': 13.26}\n",
      "{'WT': '235', 'GP': '82', 'TEAM': ' BOS', 'AST': '8.5', 'ORR': '2.1', 'PLAYER': 'Jeff Green', 'POS': 'SF', 'VA': '111.7', 'AGE': '27', 'HT': '81', 'TS%': '0.52', 'DRR': '13.6', 'TO': '10.1', 'MPG': '34.2', 'EWA': '3.7', 'SALARY': 9200000, 'REBR': '7.7', 'USG': '22', 'PER': 13.17}\n",
      "{'WT': '215', 'GP': '77', 'TEAM': ' CHA', 'AST': '14.4', 'ORR': '1.4', 'PLAYER': 'Gerald Henderson', 'POS': 'SG', 'VA': '96.6', 'AGE': '26', 'HT': '77', 'TS%': '0.507', 'DRR': '12.9', 'TO': '8.2', 'MPG': '32', 'EWA': '3.2', 'SALARY': 6000000, 'REBR': '7.1', 'USG': '20.6', 'PER': 13.13}\n",
      "{'WT': '175', 'GP': '63', 'TEAM': ' IND', 'AST': '19.8', 'ORR': '1.9', 'PLAYER': 'C.J. Watson', 'POS': 'PG', 'VA': '37', 'AGE': '30', 'HT': '74', 'TS%': '0.555', 'DRR': '7.4', 'TO': '11.1', 'MPG': '18.9', 'EWA': '1.2', 'SALARY': 2077000, 'REBR': '4.8', 'USG': '15.9', 'PER': 13.08}\n",
      "{'WT': '205', 'GP': '72', 'TEAM': ' PHI', 'AST': '15.8', 'ORR': '4.1', 'PLAYER': 'Tony Wroten', 'POS': 'SG', 'VA': '64.9', 'AGE': '21', 'HT': '78', 'TS%': '0.493', 'DRR': '10.1', 'TO': '14.9', 'MPG': '24.5', 'EWA': '2.2', 'SALARY': 1210080, 'REBR': '7', 'USG': '26.4', 'PER': 12.96}\n",
      "{'WT': '205', 'GP': '73', 'TEAM': ' MIA', 'AST': '17.4', 'ORR': '1.6', 'PLAYER': 'Ray Allen', 'POS': 'SG', 'VA': '67.4', 'AGE': '39', 'HT': '77', 'TS%': '0.59', 'DRR': '11.4', 'TO': '10.2', 'MPG': '26.5', 'EWA': '2.2', 'SALARY': 0, 'REBR': '6.7', 'USG': '15.5', 'PER': 12.83}\n",
      "{'WT': '205', 'GP': '81', 'TEAM': ' NY', 'AST': '7.7', 'ORR': '1.2', 'PLAYER': 'Tim Hardaway Jr.', 'POS': 'SG', 'VA': '64.1', 'AGE': '22', 'HT': '78', 'TS%': '0.554', 'DRR': '6.6', 'TO': '5.5', 'MPG': '23.1', 'EWA': '2.1', 'SALARY': 1250640, 'REBR': '3.8', 'USG': '18', 'PER': 12.79}\n",
      "{'WT': '220', 'GP': '60', 'TEAM': ' DEN/HOU', 'AST': '10.5', 'ORR': '3.5', 'PLAYER': 'Jordan Hamilton', 'POS': 'SF', 'VA': '34.2', 'AGE': '23', 'HT': '79', 'TS%': '0.507', 'DRR': '17', 'TO': '9.3', 'MPG': '17', 'EWA': '1.1', 'SALARY': 0, 'REBR': '10.4', 'USG': '17.5', 'PER': 12.75}\n",
      "{'WT': '230', 'GP': '82', 'TEAM': ' GS', 'AST': '20.1', 'ORR': '5.3', 'PLAYER': 'Draymond Green', 'POS': 'SF', 'VA': '59.8', 'AGE': '24', 'HT': '79', 'TS%': '0.498', 'DRR': '19.3', 'TO': '12', 'MPG': '21.9', 'EWA': '2', 'SALARY': 915243, 'REBR': '12.4', 'USG': '14.3', 'PER': 12.73}\n",
      "{'WT': '221', 'GP': '81', 'TEAM': ' MIN', 'AST': '12.6', 'ORR': '7.3', 'PLAYER': 'Dante Cunningham', 'POS': 'PF', 'VA': '28.6', 'AGE': '27', 'HT': '80', 'TS%': '0.475', 'DRR': '14.9', 'TO': '6.3', 'MPG': '20.2', 'EWA': '1', 'SALARY': 0, 'REBR': '11', 'USG': '14.4', 'PER': 12.67}\n",
      "{'WT': '195', 'GP': '54', 'TEAM': ' LAL', 'AST': '44.9', 'ORR': '1', 'PLAYER': 'Kendall Marshall', 'POS': 'PG', 'VA': '38.8', 'AGE': '23', 'HT': '76', 'TS%': '0.494', 'DRR': '9.6', 'TO': '14.1', 'MPG': '29', 'EWA': '1.3', 'SALARY': 915243, 'REBR': '5.3', 'USG': '18.1', 'PER': 12.66}\n",
      "{'WT': '230', 'GP': '82', 'TEAM': ' CHI', 'AST': '16.3', 'ORR': '2.1', 'PLAYER': 'Mike Dunleavy', 'POS': 'SF', 'VA': '81.6', 'AGE': '33', 'HT': '81', 'TS%': '0.549', 'DRR': '13', 'TO': '9.5', 'MPG': '31.5', 'EWA': '2.7', 'SALARY': 3326235, 'REBR': '7.6', 'USG': '16.3', 'PER': 12.62}\n",
      "{'WT': '210', 'GP': '52', 'TEAM': ' MIL/CHA', 'AST': '12.5', 'ORR': '1', 'PLAYER': 'Gary Neal', 'POS': 'SG', 'VA': '34', 'AGE': '29', 'HT': '76', 'TS%': '0.53', 'DRR': '8.3', 'TO': '9.6', 'MPG': '21.4', 'EWA': '1.1', 'SALARY': 3250000, 'REBR': '4.6', 'USG': '23.9', 'PER': 12.54}\n",
      "{'WT': '255', 'GP': '65', 'TEAM': ' IND/PHI', 'AST': '16.2', 'ORR': '11.7', 'PLAYER': 'Lavoy Allen', 'POS': 'PF', 'VA': '16.3', 'AGE': '25', 'HT': '81', 'TS%': '0.47', 'DRR': '20', 'TO': '10.1', 'MPG': '16.5', 'EWA': '0.5', 'SALARY': 915243, 'REBR': '15.7', 'USG': '16.1', 'PER': 12.52}\n",
      "{'WT': '218', 'GP': '82', 'TEAM': ' MEM', 'AST': '19.3', 'ORR': '2.1', 'PLAYER': 'Mike Miller', 'POS': 'SF', 'VA': '51', 'AGE': '34', 'HT': '80', 'TS%': '0.619', 'DRR': '12.3', 'TO': '11.4', 'MPG': '20.8', 'EWA': '1.7', 'SALARY': 2732000, 'REBR': '7.2', 'USG': '14.4', 'PER': 12.5}\n",
      "{'WT': '235', 'GP': '45', 'TEAM': ' BKN', 'AST': '21.3', 'ORR': '7.7', 'PLAYER': 'Andrei Kirilenko', 'POS': 'SF', 'VA': '25.3', 'AGE': '33', 'HT': '81', 'TS%': '0.532', 'DRR': '12.7', 'TO': '16', 'MPG': '19', 'EWA': '0.8', 'SALARY': 3326235, 'REBR': '10.2', 'USG': '13.9', 'PER': 12.48}\n",
      "{'WT': '220', 'GP': '81', 'TEAM': ' IND/PHI', 'AST': '16.5', 'ORR': '2.7', 'PLAYER': 'Evan Turner', 'POS': 'SF', 'VA': '70.9', 'AGE': '25', 'HT': '79', 'TS%': '0.498', 'DRR': '15.7', 'TO': '11.9', 'MPG': '30.3', 'EWA': '2.4', 'SALARY': 0, 'REBR': '9.1', 'USG': '18.5', 'PER': 12.43}\n",
      "{'WT': '213', 'GP': '71', 'TEAM': ' MEM', 'AST': '31.8', 'ORR': '2.3', 'PLAYER': 'Nick Calathes', 'POS': 'SG', 'VA': '32.5', 'AGE': '25', 'HT': '78', 'TS%': '0.506', 'DRR': '11.5', 'TO': '15.5', 'MPG': '16.5', 'EWA': '1.1', 'SALARY': 816482, 'REBR': '6.9', 'USG': '18.3', 'PER': 12.36}\n",
      "{'WT': '225', 'GP': '32', 'TEAM': ' NY', 'AST': '24.1', 'ORR': '6.5', 'PLAYER': 'Kenyon Martin', 'POS': 'PF', 'VA': '7.1', 'AGE': '36', 'HT': '81', 'TS%': '0.521', 'DRR': '18.7', 'TO': '12.5', 'MPG': '19.8', 'EWA': '0.2', 'SALARY': 0, 'REBR': '12.5', 'USG': '11.4', 'PER': 12.25}\n",
      "{'WT': '225', 'GP': '43', 'TEAM': ' DEN', 'AST': '11.5', 'ORR': '4.1', 'PLAYER': 'Anthony Randolph', 'POS': 'SF', 'VA': '13.6', 'AGE': '25', 'HT': '83', 'TS%': '0.499', 'DRR': '21', 'TO': '14.1', 'MPG': '12.3', 'EWA': '0.5', 'SALARY': 1825359, 'REBR': '12.5', 'USG': '18.6', 'PER': 12.23}\n",
      "{'WT': '260', 'GP': '65', 'TEAM': ' LAL', 'AST': '11.7', 'ORR': '8', 'PLAYER': 'Robert Sacre', 'POS': 'C', 'VA': '25.5', 'AGE': '25', 'HT': '85', 'TS%': '0.513', 'DRR': '16.9', 'TO': '10.1', 'MPG': '16.8', 'EWA': '0.9', 'SALARY': 915243, 'REBR': '12.5', 'USG': '14.1', 'PER': 12.17}\n",
      "{'WT': '232', 'GP': '62', 'TEAM': ' CHA', 'AST': '9.5', 'ORR': '8.2', 'PLAYER': 'Michael Kidd-Gilchrist', 'POS': 'SF', 'VA': '35.2', 'AGE': '20', 'HT': '79', 'TS%': '0.516', 'DRR': '16.2', 'TO': '11', 'MPG': '24.2', 'EWA': '1.2', 'SALARY': 5016960, 'REBR': '12.2', 'USG': '13.8', 'PER': 12.07}\n",
      "{'WT': '200', 'GP': '72', 'TEAM': ' BOS/MEM', 'AST': '20.5', 'ORR': '1.5', 'PLAYER': 'Jerryd Bayless', 'POS': 'PG', 'VA': '26.2', 'AGE': '26', 'HT': '75', 'TS%': '0.498', 'DRR': '8.6', 'TO': '8.7', 'MPG': '23.4', 'EWA': '0.9', 'SALARY': 3000000, 'REBR': '5', 'USG': '19.7', 'PER': 12.04}\n",
      "{'WT': '205', 'GP': '68', 'TEAM': ' POR', 'AST': '14.9', 'ORR': '3.2', 'PLAYER': 'Dorell Wright', 'POS': 'SF', 'VA': '21.7', 'AGE': '28', 'HT': '81', 'TS%': '0.524', 'DRR': '17.5', 'TO': '9.1', 'MPG': '14.5', 'EWA': '0.7', 'SALARY': 3150000, 'REBR': '10.5', 'USG': '15.6', 'PER': 11.98}\n",
      "{'WT': '234', 'GP': '82', 'TEAM': ' UTAH', 'AST': '13.7', 'ORR': '0.9', 'PLAYER': 'Richard Jefferson', 'POS': 'SF', 'VA': '45.7', 'AGE': '34', 'HT': '79', 'TS%': '0.573', 'DRR': '10.8', 'TO': '9.9', 'MPG': '27', 'EWA': '1.5', 'SALARY': 915243, 'REBR': '5.7', 'USG': '16.1', 'PER': 11.88}\n",
      "{'WT': '195', 'GP': '74', 'TEAM': ' POR', 'AST': '27.2', 'ORR': '2.5', 'PLAYER': 'Mo Williams', 'POS': 'PG', 'VA': '23.7', 'AGE': '31', 'HT': '73', 'TS%': '0.507', 'DRR': '6.4', 'TO': '12.6', 'MPG': '24.8', 'EWA': '0.8', 'SALARY': 3750000, 'REBR': '4.5', 'USG': '20.9', 'PER': 11.87}\n",
      "{'WT': '255', 'GP': '81', 'TEAM': ' OKC', 'AST': '22.8', 'ORR': '10.2', 'PLAYER': 'Nick Collison', 'POS': 'PF', 'VA': '6.9', 'AGE': '33', 'HT': '82', 'TS%': '0.599', 'DRR': '14.1', 'TO': '15.5', 'MPG': '16.7', 'EWA': '0.2', 'SALARY': 2242003, 'REBR': '12.2', 'USG': '11.3', 'PER': 11.84}\n",
      "{'WT': '175', 'GP': '70', 'TEAM': ' PHX', 'AST': '33', 'ORR': '3.5', 'PLAYER': 'Ish Smith', 'POS': 'PG', 'VA': '10.7', 'AGE': '26', 'HT': '73', 'TS%': '0.438', 'DRR': '10.9', 'TO': '12', 'MPG': '14.4', 'EWA': '0.4', 'SALARY': 915243, 'REBR': '7.2', 'USG': '16.5', 'PER': 11.71}\n",
      "{'WT': '178', 'GP': '79', 'TEAM': ' MIN', 'AST': '26.9', 'ORR': '1.2', 'PLAYER': 'J.J. Barea', 'POS': 'PG', 'VA': '15', 'AGE': '30', 'HT': '73', 'TS%': '0.471', 'DRR': '10.5', 'TO': '11.1', 'MPG': '18.6', 'EWA': '0.5', 'SALARY': 4519500, 'REBR': '5.7', 'USG': '24.3', 'PER': 11.68}\n",
      "{'WT': '200', 'GP': '80', 'TEAM': ' CLE', 'AST': '26.5', 'ORR': '1.1', 'PLAYER': 'Jarrett Jack', 'POS': 'PG', 'VA': '19', 'AGE': '30', 'HT': '75', 'TS%': '0.498', 'DRR': '10.3', 'TO': '10.9', 'MPG': '28.2', 'EWA': '0.6', 'SALARY': 6300000, 'REBR': '5.6', 'USG': '18', 'PER': 11.57}\n",
      "{'WT': '240', 'GP': '78', 'TEAM': ' MIN/SAC', 'AST': '7.7', 'ORR': '4.3', 'PLAYER': 'Derrick Williams', 'POS': 'PF', 'VA': '0.7', 'AGE': '23', 'HT': '80', 'TS%': '0.524', 'DRR': '15.8', 'TO': '10.4', 'MPG': '23.3', 'EWA': '0', 'SALARY': 6331404, 'REBR': '10', 'USG': '16.1', 'PER': 11.53}\n",
      "{'WT': '201', 'GP': '67', 'TEAM': ' GS/LAL', 'AST': '16.2', 'ORR': '1.2', 'PLAYER': 'Kent Bazemore', 'POS': 'SG', 'VA': '10.6', 'AGE': '25', 'HT': '77', 'TS%': '0.515', 'DRR': '12.6', 'TO': '14.1', 'MPG': '13.6', 'EWA': '0.4', 'SALARY': 0, 'REBR': '6.9', 'USG': '21.5', 'PER': 11.28}\n",
      "{'WT': '235', 'GP': '61', 'TEAM': ' SA', 'AST': '14.3', 'ORR': '2.7', 'PLAYER': 'Matt Bonner', 'POS': 'PF', 'VA': '-2.4', 'AGE': '34', 'HT': '82', 'TS%': '0.582', 'DRR': '17.9', 'TO': '7.4', 'MPG': '11.3', 'EWA': '-0.1', 'SALARY': 915243, 'REBR': '10.6', 'USG': '11.3', 'PER': 11.27}\n",
      "{'WT': '191', 'GP': '79', 'TEAM': ' ORL', 'AST': '17.2', 'ORR': '2.2', 'PLAYER': \"E'Twaun Moore\", 'POS': 'PG', 'VA': '4.1', 'AGE': '25', 'HT': '76', 'TS%': '0.513', 'DRR': '8.1', 'TO': '8.4', 'MPG': '19.1', 'EWA': '0.1', 'SALARY': 0, 'REBR': '5.1', 'USG': '15.4', 'PER': 11.18}\n",
      "{'WT': '250', 'GP': '82', 'TEAM': ' SAC', 'AST': '7.5', 'ORR': '8.5', 'PLAYER': 'Jason Thompson', 'POS': 'PF', 'VA': '-10.8', 'AGE': '28', 'HT': '83', 'TS%': '0.523', 'DRR': '21.3', 'TO': '13.4', 'MPG': '24.5', 'EWA': '-0.4', 'SALARY': 6037500, 'REBR': '14.8', 'USG': '13.3', 'PER': 11.14}\n",
      "{'WT': '215', 'GP': '79', 'TEAM': ' LAL', 'AST': '13.8', 'ORR': '3.3', 'PLAYER': 'Wesley Johnson', 'POS': 'SF', 'VA': '19.3', 'AGE': '27', 'HT': '79', 'TS%': '0.522', 'DRR': '13.3', 'TO': '10', 'MPG': '28.4', 'EWA': '0.6', 'SALARY': 915243, 'REBR': '8.3', 'USG': '13.9', 'PER': 11.08}\n",
      "{'WT': '172', 'GP': '55', 'TEAM': ' GS/LAL', 'AST': '39.3', 'ORR': '0.9', 'PLAYER': 'Steve Blake', 'POS': 'PG', 'VA': '0.2', 'AGE': '34', 'HT': '75', 'TS%': '0.508', 'DRR': '10.4', 'TO': '13.1', 'MPG': '27.2', 'EWA': '0', 'SALARY': 2077000, 'REBR': '5.7', 'USG': '12.1', 'PER': 11.01}\n",
      "{'WT': '228', 'GP': '41', 'TEAM': ' IND/LAC', 'AST': '9.7', 'ORR': '4.3', 'PLAYER': 'Danny Granger', 'POS': 'SF', 'VA': '5', 'AGE': '31', 'HT': '81', 'TS%': '0.502', 'DRR': '12.9', 'TO': '10.9', 'MPG': '20.7', 'EWA': '0.2', 'SALARY': 2077000, 'REBR': '8.8', 'USG': '18.2', 'PER': 10.9}\n",
      "{'WT': '201', 'GP': '40', 'TEAM': ' BOS', 'AST': '10.8', 'ORR': '4.3', 'PLAYER': 'Chris Johnson', 'POS': 'SF', 'VA': '3.6', 'AGE': '24', 'HT': '78', 'TS%': '0.537', 'DRR': '9.8', 'TO': '7.7', 'MPG': '19.7', 'EWA': '0.1', 'SALARY': 915243, 'REBR': '7', 'USG': '13.5', 'PER': 10.8}\n",
      "{'WT': '222', 'GP': '62', 'TEAM': ' HOU', 'AST': '8.1', 'ORR': '7.4', 'PLAYER': 'Donatas Motiejunas', 'POS': 'PF', 'VA': '-10.5', 'AGE': '23', 'HT': '85', 'TS%': '0.504', 'DRR': '18.2', 'TO': '11.6', 'MPG': '15.4', 'EWA': '-0.4', 'SALARY': 1483920, 'REBR': '13.1', 'USG': '16.3', 'PER': 10.76}\n",
      "{'WT': '235', 'GP': '46', 'TEAM': ' MIA', 'AST': '6.4', 'ORR': '8.4', 'PLAYER': 'Udonis Haslem', 'POS': 'PF', 'VA': '-9.1', 'AGE': '34', 'HT': '80', 'TS%': '0.523', 'DRR': '24.7', 'TO': '11.9', 'MPG': '14.2', 'EWA': '-0.3', 'SALARY': 2732000, 'REBR': '16.8', 'USG': '12.3', 'PER': 10.57}\n",
      "{'WT': '222', 'GP': '61', 'TEAM': ' OKC', 'AST': '18.1', 'ORR': '3.7', 'PLAYER': 'Thabo Sefolosha', 'POS': 'SG', 'VA': '-2', 'AGE': '30', 'HT': '79', 'TS%': '0.517', 'DRR': '11.5', 'TO': '10.6', 'MPG': '26', 'EWA': '-0.1', 'SALARY': 4150000, 'REBR': '7.8', 'USG': '11.3', 'PER': 10.42}\n",
      "{'WT': '198', 'GP': '52', 'TEAM': ' PHX', 'AST': '7.8', 'ORR': '5.3', 'PLAYER': 'Archie Goodwin', 'POS': 'SG', 'VA': '-1.3', 'AGE': '20', 'HT': '77', 'TS%': '0.507', 'DRR': '13', 'TO': '17.2', 'MPG': '10.3', 'EWA': '0', 'SALARY': 1112280, 'REBR': '9.2', 'USG': '17.8', 'PER': 10.34}\n",
      "{'WT': '250', 'GP': '80', 'TEAM': ' CHI', 'AST': '10.2', 'ORR': '13.6', 'PLAYER': 'Nazr Mohammed', 'POS': 'C', 'VA': '-3.5', 'AGE': '36', 'HT': '82', 'TS%': '0.445', 'DRR': '21.7', 'TO': '18.9', 'MPG': '7', 'EWA': '-0.1', 'SALARY': 0, 'REBR': '17.7', 'USG': '13.5', 'PER': 10.18}\n",
      "{'WT': '225', 'GP': '63', 'TEAM': ' SAC/TOR', 'AST': '12.6', 'ORR': '9.5', 'PLAYER': 'Quincy Acy', 'POS': 'SF', 'VA': '-4.5', 'AGE': '23', 'HT': '79', 'TS%': '0.52', 'DRR': '19.5', 'TO': '13.5', 'MPG': '13.4', 'EWA': '-0.2', 'SALARY': 915243, 'REBR': '14.4', 'USG': '9.3', 'PER': 10.14}\n",
      "{'WT': '250', 'GP': '61', 'TEAM': ' SAC/TOR', 'AST': '16.7', 'ORR': '10.5', 'PLAYER': 'Chuck Hayes', 'POS': 'PF', 'VA': '-16.5', 'AGE': '31', 'HT': '78', 'TS%': '0.468', 'DRR': '21.8', 'TO': '15.8', 'MPG': '12.3', 'EWA': '-0.5', 'SALARY': 5958750, 'REBR': '16.1', 'USG': '9.8', 'PER': 10.04}\n",
      "{'WT': '250', 'GP': '76', 'TEAM': ' ORL', 'AST': '4.8', 'ORR': '5.1', 'PLAYER': 'Andrew Nicholson', 'POS': 'PF', 'VA': '-28.1', 'AGE': '24', 'HT': '81', 'TS%': '0.489', 'DRR': '19.5', 'TO': '9.8', 'MPG': '15.4', 'EWA': '-0.9', 'SALARY': 1545840, 'REBR': '12.3', 'USG': '17.3', 'PER': 9.9}\n",
      "{'WT': '190', 'GP': '45', 'TEAM': ' SAC', 'AST': '25.1', 'ORR': '2.2', 'PLAYER': 'Ray McCallum', 'POS': 'PG', 'VA': '-16.9', 'AGE': '23', 'HT': '75', 'TS%': '0.439', 'DRR': '7.8', 'TO': '8.2', 'MPG': '19.9', 'EWA': '-0.6', 'SALARY': 816482, 'REBR': '5', 'USG': '17.7', 'PER': 9.74}\n",
      "{'WT': '220', 'GP': '53', 'TEAM': ' MIN', 'AST': '10.6', 'ORR': '5.7', 'PLAYER': 'Robbie Hummel', 'POS': 'SF', 'VA': '-8.1', 'AGE': '25', 'HT': '80', 'TS%': '0.492', 'DRR': '16.6', 'TO': '4.6', 'MPG': '12.4', 'EWA': '-0.3', 'SALARY': 880000, 'REBR': '11', 'USG': '11.9', 'PER': 9.67}\n",
      "{'WT': '230', 'GP': '36', 'TEAM': ' LAL', 'AST': '11.9', 'ORR': '3.6', 'PLAYER': 'Shawne Williams', 'POS': 'SF', 'VA': '0', 'AGE': '28', 'HT': '81', 'TS%': '0.503', 'DRR': '20.2', 'TO': '8.3', 'MPG': '20.9', 'EWA': '0', 'SALARY': 1227985, 'REBR': '11.9', 'USG': '11.8', 'PER': 9.51}\n",
      "{'WT': '220', 'GP': '78', 'TEAM': ' BKN', 'AST': '11.9', 'ORR': '2.7', 'PLAYER': 'Alan Anderson', 'POS': 'SF', 'VA': '-26.4', 'AGE': '31', 'HT': '78', 'TS%': '0.525', 'DRR': '9.1', 'TO': '9.1', 'MPG': '22.7', 'EWA': '-0.9', 'SALARY': 1276061, 'REBR': '5.9', 'USG': '14.5', 'PER': 9.5}\n",
      "{'WT': '235', 'GP': '68', 'TEAM': ' DEN', 'AST': '11', 'ORR': '4.8', 'PLAYER': 'Darrell Arthur', 'POS': 'PF', 'VA': '-36.3', 'AGE': '26', 'HT': '81', 'TS%': '0.459', 'DRR': '14.7', 'TO': '10.4', 'MPG': '17.1', 'EWA': '-1.2', 'SALARY': 3457149, 'REBR': '9.8', 'USG': '17', 'PER': 9.41}\n",
      "{'WT': '195', 'GP': '51', 'TEAM': ' GS/MIA', 'AST': '22.2', 'ORR': '3.3', 'PLAYER': 'Toney Douglas', 'POS': 'PG', 'VA': '-18.1', 'AGE': '28', 'HT': '74', 'TS%': '0.493', 'DRR': '11.8', 'TO': '11.1', 'MPG': '13.2', 'EWA': '-0.6', 'SALARY': 0, 'REBR': '7.6', 'USG': '16.5', 'PER': 9.2}\n",
      "{'WT': '175', 'GP': '61', 'TEAM': ' MIL/CHA', 'AST': '30.3', 'ORR': '2.2', 'PLAYER': 'Luke Ridnour', 'POS': 'PG', 'VA': '-33.9', 'AGE': '33', 'HT': '74', 'TS%': '0.452', 'DRR': '7.6', 'TO': '11.4', 'MPG': '18.7', 'EWA': '-1.1', 'SALARY': 2750000, 'REBR': '4.8', 'USG': '16.8', 'PER': 9.01}\n",
      "{'WT': '175', 'GP': '82', 'TEAM': ' MIA', 'AST': '27.4', 'ORR': '1.1', 'PLAYER': 'Norris Cole', 'POS': 'PG', 'VA': '-66', 'AGE': '25', 'HT': '74', 'TS%': '0.497', 'DRR': '8.6', 'TO': '14', 'MPG': '24.6', 'EWA': '-2.2', 'SALARY': 2038206, 'REBR': '5', 'USG': '15.2', 'PER': 8.8}\n",
      "{'WT': '180', 'GP': '67', 'TEAM': ' PHI', 'AST': '13.6', 'ORR': '2.7', 'PLAYER': 'Elliot Williams', 'POS': 'SG', 'VA': '-31', 'AGE': '25', 'HT': '77', 'TS%': '0.519', 'DRR': '9.7', 'TO': '12.8', 'MPG': '17.3', 'EWA': '-1', 'SALARY': 981084, 'REBR': '6.1', 'USG': '15.8', 'PER': 8.71}\n",
      "{'WT': '210', 'GP': '52', 'TEAM': ' DEN', 'AST': '7.3', 'ORR': '4.9', 'PLAYER': 'Quincy Miller', 'POS': 'SF', 'VA': '-22.1', 'AGE': '21', 'HT': '81', 'TS%': '0.459', 'DRR': '15.2', 'TO': '13.6', 'MPG': '15.2', 'EWA': '-0.7', 'SALARY': 915243, 'REBR': '10.1', 'USG': '16.3', 'PER': 8.62}\n",
      "{'WT': '215', 'GP': '76', 'TEAM': ' MEM', 'AST': '17.5', 'ORR': '1.9', 'PLAYER': 'Tayshaun Prince', 'POS': 'SF', 'VA': '-67.4', 'AGE': '34', 'HT': '81', 'TS%': '0.438', 'DRR': '12.3', 'TO': '6', 'MPG': '25.6', 'EWA': '-2.2', 'SALARY': 7707865, 'REBR': '7.1', 'USG': '12.8', 'PER': 8.18}\n",
      "{'WT': '195', 'GP': '75', 'TEAM': ' WSH', 'AST': '26.3', 'ORR': '3.8', 'PLAYER': 'Garrett Temple', 'POS': 'SG', 'VA': '-25.6', 'AGE': '28', 'HT': '78', 'TS%': '0.431', 'DRR': '8.7', 'TO': '15.3', 'MPG': '8.5', 'EWA': '-0.9', 'SALARY': 981084, 'REBR': '6.2', 'USG': '14.3', 'PER': 7.81}\n",
      "{'WT': '245', 'GP': '42', 'TEAM': ' MIL', 'AST': '13.3', 'ORR': '8.4', 'PLAYER': 'Ekpe Udoh', 'POS': 'PF', 'VA': '-46.5', 'AGE': '27', 'HT': '82', 'TS%': '0.44', 'DRR': '12.8', 'TO': '16.3', 'MPG': '19.1', 'EWA': '-1.6', 'SALARY': 0, 'REBR': '10.5', 'USG': '10.8', 'PER': 7.62}\n",
      "{'WT': '180', 'GP': '35', 'TEAM': ' BKN', 'AST': '23.2', 'ORR': '0.8', 'PLAYER': 'Jason Terry', 'POS': 'SG', 'VA': '-25.7', 'AGE': '36', 'HT': '74', 'TS%': '0.501', 'DRR': '6.9', 'TO': '11.2', 'MPG': '16.3', 'EWA': '-0.9', 'SALARY': 5850313, 'REBR': '3.9', 'USG': '14.7', 'PER': 7.48}\n",
      "{'WT': '259', 'GP': '52', 'TEAM': ' CLE', 'AST': '5.3', 'ORR': '8.1', 'PLAYER': 'Anthony Bennett', 'POS': 'SF', 'VA': '-35.1', 'AGE': '21', 'HT': '80', 'TS%': '0.425', 'DRR': '18.4', 'TO': '14.7', 'MPG': '12.8', 'EWA': '-1.2', 'SALARY': 5563920, 'REBR': '13.1', 'USG': '18.7', 'PER': 6.95}\n",
      "{'WT': '225', 'GP': '26', 'TEAM': ' CHA', 'AST': '7.7', 'ORR': '2.7', 'PLAYER': 'Jeff Taylor', 'POS': 'SF', 'VA': '-42.5', 'AGE': '25', 'HT': '79', 'TS%': '0.436', 'DRR': '8.1', 'TO': '8.8', 'MPG': '24.2', 'EWA': '-1.4', 'SALARY': 915243, 'REBR': '5.4', 'USG': '17.5', 'PER': 5.97}\n",
      "{'WT': '166', 'GP': '42', 'TEAM': ' UTAH', 'AST': '16.1', 'ORR': '2.3', 'PLAYER': 'John Lucas III', 'POS': 'PG', 'VA': '-50.9', 'AGE': '31', 'HT': '71', 'TS%': '0.403', 'DRR': '5.4', 'TO': '8.4', 'MPG': '14.1', 'EWA': '-1.7', 'SALARY': 1600000, 'REBR': '3.8', 'USG': '16.2', 'PER': 5.23}\n"
     ]
    }
   ],
   "source": [
    "## Write the Python to print *every* row of the CSV here.\n",
    "for player in x:\n",
    "    print(next(x))"
   ]
  },
  {
   "cell_type": "markdown",
   "metadata": {},
   "source": [
    "## Summary Statistics\n",
    "\n",
    "In this section, you'll use the CSV data to write computations for mean, median, mode, minimum, and maximum. Use Python to access the values in the `SALARY` column."
   ]
  },
  {
   "cell_type": "code",
   "execution_count": 8,
   "metadata": {
    "collapsed": false
   },
   "outputs": [
    {
     "name": "stdout",
     "output_type": "stream",
     "text": [
      "There are 323 total players.\n",
      "The median salary is 3657500.\n",
      "The minimum salary is 0.\n",
      "The maximum salary is 23410988.\n",
      "The mean salary is 5323345.\n"
     ]
    }
   ],
   "source": [
    "data = list(read_csv('fixtures/nba_players.csv')) #You can put in your own path here.\n",
    "data  = sorted(data, key=itemgetter('SALARY'))\n",
    "\\\n",
    "total = 0\n",
    "count = 0\n",
    "\n",
    "for row in data:\n",
    "        count += 1\n",
    "        total += row['SALARY']\n",
    "\n",
    "# Total Count\n",
    "print(\"There are {0:d} total players.\".format(count))\n",
    "\n",
    "# Median\n",
    "midway_point = (count)//2 # But what happens if the length of the list is even?\n",
    "median = data[midway_point]['SALARY']  \n",
    "print(\"The median salary is {0:d}.\".format(median))\n",
    "\n",
    "# Minimum\n",
    "minimum = data[0]['SALARY']\n",
    "print(\"The minimum salary is {0:d}.\".format(minimum))\n",
    "\n",
    "# Maximum\n",
    "maximum = data[-1]['SALARY']\n",
    "print(\"The maximum salary is {0:d}.\".format(maximum))\n",
    "\n",
    "# Mean\n",
    "mean = total//(count)\n",
    "print(\"The mean salary is {0:d}.\".format(mean))"
   ]
  },
  {
   "cell_type": "markdown",
   "metadata": {},
   "source": [
    "Nice work! Now... calculating the mode is a bit different. Remember about the [Decorate-Sort-Undecorate](http://www.greenteapress.com/thinkpython/html/thinkpython013.html) pattern that we learned about in ThinkPython? That will work here!"
   ]
  },
  {
   "cell_type": "code",
   "execution_count": 9,
   "metadata": {
    "collapsed": false
   },
   "outputs": [
    {
     "name": "stdout",
     "output_type": "stream",
     "text": [
      "The mode salary is 0, which appears 24 times.\n"
     ]
    }
   ],
   "source": [
    "frequency = {}\n",
    "\n",
    "for row in data:\n",
    "    if row['SALARY'] not in frequency:\n",
    "        frequency[row['SALARY']] = 1\n",
    "    else:\n",
    "        frequency[row['SALARY']] += 1\n",
    "\n",
    "sort_freq = []\n",
    "for key,val in frequency.items():\n",
    "    sort_freq.append((val,key))\n",
    "sort_freq.sort(reverse = True)\n",
    "\n",
    "mode = sort_freq[0][1]\n",
    "mode_count = sort_freq[0][0]\n",
    "print(\"The mode salary is {0:d}, which appears {1:d} times.\".format(mode,mode_count))"
   ]
  },
  {
   "cell_type": "markdown",
   "metadata": {},
   "source": [
    "The \"DSU\" approach is a little inefficient. Instead of using a dictionary as our data type to solve the mode problem, we could use counter() from the Collections module. [Read more about counter()](https://pymotw.com/2/collections/counter.html) and try it out here:"
   ]
  },
  {
   "cell_type": "code",
   "execution_count": 10,
   "metadata": {
    "collapsed": false
   },
   "outputs": [
    {
     "name": "stdout",
     "output_type": "stream",
     "text": [
      "[(0, 24), (915243, 23)]\n"
     ]
    }
   ],
   "source": [
    "count = 0\n",
    "total = 0.0\n",
    "freqs = Counter() # Here it is!\n",
    "\n",
    "for row in data:\n",
    "    count += 1\n",
    "    total += row['SALARY']\n",
    "    freqs[row['SALARY']] += 1\n",
    "    \n",
    "mode = freqs.most_common(2)\n",
    "print(mode)"
   ]
  },
  {
   "cell_type": "markdown",
   "metadata": {},
   "source": [
    "#### Putting the pieces together\n",
    "\n",
    "The above summary statistics can actually be computed inside of a single (and elegant!) function. Give it a try!"
   ]
  },
  {
   "cell_type": "code",
   "execution_count": 11,
   "metadata": {
    "collapsed": false
   },
   "outputs": [],
   "source": [
    "def statistics(path):\n",
    "    data  = list(read_csv(path))\n",
    "    data  = sorted(data, key=itemgetter('SALARY'))\n",
    "\n",
    "    count = 0\n",
    "    total = 0.0\n",
    "    freqs = Counter()\n",
    "\n",
    "    for row in data:\n",
    "        count += 1\n",
    "        total += row['SALARY']\n",
    "        freqs[row['SALARY']] += 1\n",
    "\n",
    "    stats = {\n",
    "        'maximum': data[-1]['SALARY'],\n",
    "        'minimum': data[0]['SALARY'],\n",
    "        'median': data[count / 2]['SALARY'], # But what happens if the length of the list is even?\n",
    "        'mode': freqs.most_common(2),\n",
    "        'mean': total / count,\n",
    "    }\n",
    "\n",
    "    return stats"
   ]
  },
  {
   "cell_type": "markdown",
   "metadata": {},
   "source": [
    "Isn't that nice? But we could still make it better. Keep playing with the above function to get it to work more efficiently or to reduce bad data in the computation - e.g. what are all those zero salaries? \n",
    "\n",
    "\n",
    "## Visualization\n",
    "\n",
    "Congratulations if you've made it this far! It's time for the bonus round!\n",
    "\n",
    "You've now had some summary statistics about the salaries of NBA players, but what we're really interested in is the relationship between `SALARY` and the rest of the fields in the data set. The `PER` - Player Efficiency Rating, is an aggregate score of all performance statistics; therefore if we determine the relationship of `PER` to `SALARY`, we might learn a lot about how to model NBA salaries. \n",
    "\n",
    "In order to explore this, let's create a scatter plot of `SALARY` to `PER`, where each point is an NBA player.\n",
    "\n",
    "Visualization is going to require a third party library. You probably already have matplotlib, so that might be the simplest if you're having trouble with installation. If you don't, `pip install` it now! Follow the documentation to create the scatter plot inline in the notebook in the following cells."
   ]
  },
  {
   "cell_type": "code",
   "execution_count": 12,
   "metadata": {
    "collapsed": false
   },
   "outputs": [
    {
     "data": {
      "image/png": "[encoded data removed]",
      "text/plain": [
       "<matplotlib.figure.Figure at 0x1171bdb38>"
      ]
     },
     "metadata": {},
     "output_type": "display_data"
    }
   ],
   "source": [
    "# Insert your Python to create the visualization here\n",
    "import os\n",
    "import pandas as pd\n",
    "import numpy as np\n",
    "\n",
    "import matplotlib.pyplot as plt\n",
    "%matplotlib inline  \n",
    "\n",
    "def read_data(path):\n",
    "    return pd.DataFrame(pd.read_csv(path))\n",
    "\n",
    "def graph_data(path, xkey='PER', ykey='SALARY'):\n",
    "    data = read_data(path)\n",
    "    xval = data['PER']\n",
    "    yval = data['SALARY']\n",
    "\n",
    "    fig,axe = plt.subplots()\n",
    "    plt.scatter(xval, yval, alpha=0.7)\n",
    "    plt.ylim([-10000, data['SALARY'].max()+500000])\n",
    "\n",
    "    plt.ylabel('salary')\n",
    "    plt.xlabel('player efficiency rating')\n",
    "    plt.title('NBA 2013 Player Efficieny Rating and Salary Correlation')\n",
    "\n",
    "    plt.grid(True)\n",
    "    plt.show()\n",
    "\n",
    "graph_data('fixtures/nba_players.csv') # Or whatever your path is"
   ]
  },
  {
   "cell_type": "markdown",
   "metadata": {},
   "source": [
    "Nice work!! Matplotlib is pretty useful, but also kind of bare bones. Once you're ready to experiment with other libraries and take your visualizations to the next level, check out the following:\n",
    "\n",
    "- Seaborn\n",
    "- Bokeh\n",
    "- Pandas\n",
    "\n",
    "Our favorite is Bokeh - it's interactive!"
   ]
  },
  {
   "cell_type": "code",
   "execution_count": null,
   "metadata": {
    "collapsed": true
   },
   "outputs": [],
   "source": []
  }
 ],
 "metadata": {
  "kernelspec": {
   "display_name": "Python 3",
   "language": "python",
   "name": "python3"
  },
  "language_info": {
   "codemirror_mode": {
    "name": "ipython",
    "version": 3
   },
   "file_extension": ".py",
   "mimetype": "text/x-python",
   "name": "python",
   "nbconvert_exporter": "python",
   "pygments_lexer": "ipython3",
   "version": "3.5.1"
  }
 },
 "nbformat": 4,
 "nbformat_minor": 0
}
