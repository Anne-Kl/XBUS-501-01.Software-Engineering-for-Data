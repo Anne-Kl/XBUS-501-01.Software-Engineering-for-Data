{
 "cells": [
  {
   "cell_type": "markdown",
   "metadata": {},
   "source": [
    "# NBA Player Statistics Workshop - Solutions\n",
    "\n",
    "Given a dataset of NBA players performance and salary in 2014, use Python to load the dataset and compute the summary statistics for the `SALARY` field:\n",
    "\n",
    "- mean\n",
    "- median\n",
    "- mode\n",
    "- minimum\n",
    "- maximum\n",
    "\n",
    "You will need to make use of the csv module to load the data and interact with it. Computations should require only simple arithmetic. (For the purposes of this exercise, attempt to use pure Python and no third party dependencies like Pandas - you can then compare and contrast the use of Pandas for this task later). \n",
    "\n",
    "**Bonus:**\n",
    "\n",
    "Determine the relationship of PER (Player Efficiency Rating) to Salary via a visualization of the data.\n",
    "\n",
    "\n",
    "NBA 2014 Players Dataset: [http://bit.ly/2cdIpUc](http://bit.ly/2cdIpUc)"
   ]
  },
  {
   "cell_type": "code",
   "execution_count": 1,
   "metadata": {
    "collapsed": true
   },
   "outputs": [],
   "source": [
    "# Imports\n",
    "\n",
    "import os\n",
    "import csv\n",
    "import json\n",
    "\n",
    "from collections import Counter\n",
    "from operator import itemgetter\n",
    "from urllib.request import urlopen"
   ]
  },
  {
   "cell_type": "markdown",
   "metadata": {},
   "source": [
    "## Fetching the Data\n",
    "\n",
    "You have a couple of options of fetching the data set to begin your analysis:\n",
    "\n",
    "1. Click on the link above and Download the file. \n",
    "2. Write a Python function that automatically downloads the data as a comma-separated value file (CSV) and writes it to disk. \n",
    "\n",
    "In either case, you'll have to be cognizant of where the CSV file lands. Here is a quick implementation of a function to download a URL at a file and write it to disk. Note the many approaches to do this as outlined here: [How do I download a file over HTTP using Python?](http://stackoverflow.com/questions/22676/how-do-i-download-a-file-over-http-using-python). "
   ]
  },
  {
   "cell_type": "code",
   "execution_count": 2,
   "metadata": {
    "collapsed": true
   },
   "outputs": [],
   "source": [
    "def download(url, path):\n",
    "    \"\"\"\n",
    "    Downloads a URL and writes it to the specified path. The \"path\" \n",
    "    is like the mailing address for the file - it tells the function \n",
    "    where on your computer to send it!\n",
    "    \n",
    "    Also note the use of \"with\" to automatically close files - this \n",
    "    is a good standard practice to follow.\n",
    "    \"\"\"\n",
    "    response = urlopen(url)\n",
    "    with open(path, 'wb') as f:\n",
    "        f.write(response.read())\n",
    "    \n",
    "    response.close()"
   ]
  },
  {
   "cell_type": "markdown",
   "metadata": {},
   "source": [
    "**Your turn: use the above function to download the data!**"
   ]
  },
  {
   "cell_type": "code",
   "execution_count": 3,
   "metadata": {
    "collapsed": false
   },
   "outputs": [],
   "source": [
    "## Write the Python to execute the function and download the file here:\n",
    "download('http://bit.ly/2cdIpUc', 'nba_players.csv') # Whatever your path is"
   ]
  },
  {
   "cell_type": "markdown",
   "metadata": {},
   "source": [
    "## Loading the Data\n",
    "\n",
    "Now that we have the CSV file that we're looking for, we need to be able to open the file and read it into memory. The trick is that we want to read only a single line at a time - consider really large CSV files. Python provides memory efficient iteration in the form of `generators` and the `csv.reader` module exposes one such generator, that reads the data from the CSV one row at a time. Moreover, we also want to parse our data so that we have specific access to the fields we're looking for. The `csv.DictReader` class will give you each row as a dictionary, where the keys are derived from the first, header line of the file. \n",
    "\n",
    "Here is a function that reads data from disk one line at a time and `yield`s it to the user. "
   ]
  },
  {
   "cell_type": "code",
   "execution_count": 4,
   "metadata": {
    "collapsed": false
   },
   "outputs": [],
   "source": [
    "def read_csv(path):\n",
    "    # First open the file\n",
    "    with open(path, 'rt') as f:\n",
    "        # Create a DictReader to parse the CSV\n",
    "        reader = csv.DictReader(f)\n",
    "        for row in reader:\n",
    "            # HINT: Convert SALARY column values into integers & PER column into floats.\n",
    "            # Otherwise CSVs can turn ints into strs! You'll thank me later :D\n",
    "            row['SALARY'] = int(row['SALARY'])\n",
    "            row['PER'] = float(row['PER'])\n",
    "            # Now yield each row one at a time.\n",
    "            yield row"
   ]
  },
  {
   "cell_type": "markdown",
   "metadata": {},
   "source": [
    "**Your turn: use the above function to open the file and print out the first row of the CSV!**\n",
    "\n",
    "To do this, you'll need to do three things:\n",
    "\n",
    "First, remember where you told the `download` function to store your file? Pass that same path into `read_csv`:"
   ]
  },
  {
   "cell_type": "code",
   "execution_count": 5,
   "metadata": {
    "collapsed": false
   },
   "outputs": [],
   "source": [
    "## Write the Python to execute our read_csv function.\n",
    "x = read_csv('fixtures/nba_players.csv') # Whatever your path is"
   ]
  },
  {
   "cell_type": "markdown",
   "metadata": {},
   "source": [
    "Next step: The `read_csv` function \"returns\" a generator. How can we access just the first row? Remember [how to access the next row of a generator](http://stackoverflow.com/questions/4741243/how-to-pick-just-one-item-from-a-generator-in-python)? "
   ]
  },
  {
   "cell_type": "code",
   "execution_count": 6,
   "metadata": {
    "collapsed": false
   },
   "outputs": [
    {
     "name": "stdout",
     "output_type": "stream",
     "text": [
      "{'EWA': '30.1', 'TO': '10.3', 'MPG': '38.5', 'GP': '81', 'HT': '81', 'ORR': '2.2', 'PLAYER': 'Kevin Durant', 'POS': 'SF', 'WT': '240', 'TS%': '0.635', 'TEAM': ' OKC', 'DRR': '18.6', 'REBR': '10.8', 'VA': '903.8', 'PER': 29.9, 'SALARY': 18995624, 'AGE': '25', 'USG': '31.2', 'AST': '16.1'}\n"
     ]
    }
   ],
   "source": [
    "## Now write the Python to print the first row of the CSV here.\n",
    "print(next(x))"
   ]
  },
  {
   "cell_type": "markdown",
   "metadata": {},
   "source": [
    "Are there different ways to print the first _n_ rows of something? Sure! Try using break, which will stop a for loop from running. E.g. the code:\n",
    "\n",
    "```python\n",
    "for idx in xrange(100):\n",
    "    if idx > 10:\n",
    "        break\n",
    "```\n",
    "\n",
    "...will stop the for loop after 10 iterations."
   ]
  },
  {
   "cell_type": "markdown",
   "metadata": {},
   "source": [
    "Next, write a `for` loop that can access and print every row."
   ]
  },
  {
   "cell_type": "code",
   "execution_count": 7,
   "metadata": {
    "collapsed": false
   },
   "outputs": [
    {
     "name": "stdout",
     "output_type": "stream",
     "text": [
      "{'EWA': '21.5', 'TO': '8.7', 'MPG': '36.3', 'GP': '77', 'HT': '82', 'ORR': '8.5', 'PLAYER': 'Kevin Love', 'POS': 'PF', 'WT': '243', 'TS%': '0.591', 'TEAM': ' MIN', 'DRR': '29.5', 'REBR': '18.7', 'VA': '645.8', 'PER': 26.97, 'SALARY': 15719063, 'AGE': '25', 'USG': '27.7', 'AST': '15.2'}\n",
      "{'EWA': '17.8', 'TO': '13.1', 'MPG': '32.4', 'GP': '71', 'HT': '83', 'ORR': '10.6', 'PLAYER': 'DeMarcus Cousins', 'POS': 'C', 'WT': '270', 'TS%': '0.555', 'TEAM': ' SAC', 'DRR': '30.5', 'REBR': '20.4', 'VA': '534.5', 'PER': 26.18, 'SALARY': 14746000, 'AGE': '24', 'USG': '30.7', 'AST': '10.8'}\n",
      "{'EWA': '4', 'TO': '8.7', 'MPG': '31.4', 'GP': '17', 'HT': '85', 'ORR': '8.8', 'PLAYER': 'Brook Lopez', 'POS': 'C', 'WT': '275', 'TS%': '0.629', 'TEAM': ' BKN', 'DRR': '14.1', 'REBR': '11.5', 'VA': '118.6', 'PER': 25.5, 'SALARY': 15719062, 'AGE': '26', 'USG': '24.1', 'AST': '4.9'}\n",
      "{'EWA': '20.8', 'TO': '8.5', 'MPG': '38.7', 'GP': '77', 'HT': '80', 'ORR': '5.6', 'PLAYER': 'Carmelo Anthony', 'POS': 'SF', 'WT': '235', 'TS%': '0.561', 'TEAM': ' NY', 'DRR': '19.4', 'REBR': '12.3', 'VA': '623', 'PER': 24.5, 'SALARY': 22458401, 'AGE': '30', 'USG': '30.1', 'AST': '10.4'}\n",
      "{'EWA': '17.8', 'TO': '10.2', 'MPG': '35.8', 'GP': '80', 'HT': '82', 'ORR': '7.7', 'PLAYER': 'Blake Griffin', 'POS': 'PF', 'WT': '251', 'TS%': '0.583', 'TEAM': ' LAC', 'DRR': '21.2', 'REBR': '14.7', 'VA': '533.3', 'PER': 23.98, 'SALARY': 17674613, 'AGE': '25', 'USG': '27.1', 'AST': '14.1'}\n",
      "{'EWA': '6.5', 'TO': '7.9', 'MPG': '18.6', 'GP': '58', 'HT': '82', 'ORR': '11', 'PLAYER': 'Brandan Wright', 'POS': 'PF', 'WT': '210', 'TS%': '0.695', 'TEAM': ' DAL', 'DRR': '15.1', 'REBR': '13.1', 'VA': '194.5', 'PER': 23.6, 'SALARY': 5000000, 'AGE': '26', 'USG': '15.8', 'AST': '7'}\n",
      "{'EWA': '15.4', 'TO': '7', 'MPG': '35', 'GP': '73', 'HT': '82', 'ORR': '6.9', 'PLAYER': 'Al Jefferson', 'POS': 'C', 'WT': '289', 'TS%': '0.532', 'TEAM': ' CHA', 'DRR': '28.3', 'REBR': '17.5', 'VA': '462.9', 'PER': 22.75, 'SALARY': 13500000, 'AGE': '29', 'USG': '26.7', 'AST': '8.7'}\n",
      "{'EWA': '5.5', 'TO': '10.7', 'MPG': '33', 'GP': '29', 'HT': '82', 'ORR': '8', 'PLAYER': 'Al Horford', 'POS': 'C', 'WT': '250', 'TS%': '0.588', 'TEAM': ' ATL', 'DRR': '21.4', 'REBR': '14.8', 'VA': '164.2', 'PER': 22.08, 'SALARY': 12000000, 'AGE': '28', 'USG': '22.7', 'AST': '12.7'}\n",
      "{'EWA': '12.9', 'TO': '6.5', 'MPG': '36.2', 'GP': '69', 'HT': '83', 'ORR': '7.2', 'PLAYER': 'LaMarcus Aldridge', 'POS': 'PF', 'WT': '240', 'TS%': '0.507', 'TEAM': ' POR', 'DRR': '25.6', 'REBR': '16.5', 'VA': '385.7', 'PER': 21.84, 'SALARY': 16006000, 'AGE': '29', 'USG': '27.9', 'AST': '9.5'}\n",
      "{'EWA': '10.6', 'TO': '11.2', 'MPG': '29.2', 'GP': '74', 'HT': '83', 'ORR': '8.6', 'PLAYER': 'Tim Duncan', 'POS': 'PF', 'WT': '250', 'TS%': '0.535', 'TEAM': ' SA', 'DRR': '28.3', 'REBR': '18.8', 'VA': '318.8', 'PER': 21.4, 'SALARY': 10361446, 'AGE': '38', 'USG': '23.5', 'AST': '15.4'}\n",
      "{'EWA': '8.4', 'TO': '8.9', 'MPG': '30.8', 'GP': '54', 'HT': '83', 'ORR': '13.1', 'PLAYER': 'Nikola Pekovic', 'POS': 'C', 'WT': '285', 'TS%': '0.582', 'TEAM': ' MIN', 'DRR': '17.6', 'REBR': '15.3', 'VA': '251.2', 'PER': 20.72, 'SALARY': 12100000, 'AGE': '28', 'USG': '21.1', 'AST': '5.3'}\n",
      "{'EWA': '13.1', 'TO': '9.6', 'MPG': '36.2', 'GP': '79', 'HT': '73', 'ORR': '3.6', 'PLAYER': 'Kyle Lowry', 'POS': 'PG', 'WT': '205', 'TS%': '0.567', 'TEAM': ' TOR', 'DRR': '11.5', 'REBR': '7.5', 'VA': '392.9', 'PER': 20.2, 'SALARY': 12000000, 'AGE': '28', 'USG': '23.4', 'AST': '28.9'}\n",
      "{'EWA': '11.3', 'TO': '9.5', 'MPG': '35.2', 'GP': '71', 'HT': '75', 'ORR': '2.3', 'PLAYER': 'Kyrie Irving', 'POS': 'PG', 'WT': '193', 'TS%': '0.533', 'TEAM': ' CLE', 'DRR': '9.5', 'REBR': '5.8', 'VA': '340.4', 'PER': 20.14, 'SALARY': 7070730, 'AGE': '22', 'USG': '27.8', 'AST': '21.6'}\n",
      "{'EWA': '7.4', 'TO': '12.2', 'MPG': '22.8', 'GP': '68', 'HT': '78', 'ORR': '2.3', 'PLAYER': 'Manu Ginobili', 'POS': 'SG', 'WT': '205', 'TS%': '0.59', 'TEAM': ' SA', 'DRR': '12', 'REBR': '7.3', 'VA': '221.2', 'PER': 20.06, 'SALARY': 7000000, 'AGE': '37', 'USG': '24.2', 'AST': '25.7'}\n",
      "{'EWA': '9.1', 'TO': '11.4', 'MPG': '27.2', 'GP': '80', 'HT': '80', 'ORR': '11.8', 'PLAYER': 'Kenneth Faried', 'POS': 'PF', 'WT': '228', 'TS%': '0.573', 'TEAM': ' DEN', 'DRR': '22.2', 'REBR': '16.9', 'VA': '273.1', 'PER': 19.9, 'SALARY': 2249768, 'AGE': '24', 'USG': '19.7', 'AST': '8.1'}\n",
      "{'EWA': '10.8', 'TO': '9.7', 'MPG': '32.9', 'GP': '81', 'HT': '82', 'ORR': '10', 'PLAYER': 'Serge Ibaka', 'POS': 'PF', 'WT': '245', 'TS%': '0.576', 'TEAM': ' OKC', 'DRR': '19.6', 'REBR': '15', 'VA': '324.8', 'PER': 19.66, 'SALARY': 12350000, 'AGE': '24', 'USG': '18', 'AST': '6.7'}\n",
      "{'EWA': '12.8', 'TO': '11.7', 'MPG': '36.3', 'GP': '82', 'HT': '76', 'ORR': '1.5', 'PLAYER': 'John Wall', 'POS': 'PG', 'WT': '195', 'TS%': '0.524', 'TEAM': ' WSH', 'DRR': '11.7', 'REBR': '6.5', 'VA': '383', 'PER': 19.61, 'SALARY': 14746000, 'AGE': '23', 'USG': '27.7', 'AST': '28.5'}\n",
      "{'EWA': '5.9', 'TO': '10.3', 'MPG': '20.8', 'GP': '72', 'HT': '82', 'ORR': '13.8', 'PLAYER': 'Jordan Hill', 'POS': 'PF', 'WT': '235', 'TS%': '0.579', 'TEAM': ' LAL', 'DRR': '24.3', 'REBR': '19', 'VA': '176.6', 'PER': 19.39, 'SALARY': 9000000, 'AGE': '27', 'USG': '17.6', 'AST': '7.4'}\n",
      "{'EWA': '8.8', 'TO': '10.8', 'MPG': '33.2', 'GP': '69', 'HT': '81', 'ORR': '8.8', 'PLAYER': 'David Lee', 'POS': 'PF', 'WT': '240', 'TS%': '0.566', 'TEAM': ' GS', 'DRR': '21.6', 'REBR': '15.3', 'VA': '263.2', 'PER': 19.21, 'SALARY': 15012000, 'AGE': '31', 'USG': '22.4', 'AST': '10.4'}\n",
      "{'EWA': '10.7', 'TO': '9.7', 'MPG': '32', 'GP': '79', 'HT': '83', 'ORR': '5.1', 'PLAYER': 'Chris Bosh', 'POS': 'C', 'WT': '235', 'TS%': '0.597', 'TEAM': ' MIA', 'DRR': '20.3', 'REBR': '13', 'VA': '321.5', 'PER': 19.11, 'SALARY': 20644400, 'AGE': '30', 'USG': '20', 'AST': '6.8'}\n",
      "{'EWA': '8.9', 'TO': '11.6', 'MPG': '35.8', 'GP': '62', 'HT': '71', 'ORR': '1.9', 'PLAYER': 'Ty Lawson', 'POS': 'PG', 'WT': '195', 'TS%': '0.553', 'TEAM': ' DEN', 'DRR': '8.5', 'REBR': '5.2', 'VA': '266', 'PER': 19.02, 'SALARY': 11595506, 'AGE': '26', 'USG': '23.5', 'AST': '31.4'}\n",
      "{'EWA': '7.9', 'TO': '9.7', 'MPG': '29.4', 'GP': '68', 'HT': '74', 'ORR': '1', 'PLAYER': 'Tony Parker', 'POS': 'PG', 'WT': '185', 'TS%': '0.555', 'TEAM': ' SA', 'DRR': '7.5', 'REBR': '4.4', 'VA': '238.5', 'PER': 19.0, 'SALARY': 12500000, 'AGE': '32', 'USG': '25.9', 'AST': '24.9'}\n",
      "{'EWA': '5.4', 'TO': '11.8', 'MPG': '22.6', 'GP': '65', 'HT': '83', 'ORR': '8.7', 'PLAYER': \"Amar'e Stoudemire\", 'POS': 'PF', 'WT': '245', 'TS%': '0.596', 'TEAM': ' NY', 'DRR': '17.2', 'REBR': '12.8', 'VA': '161.6', 'PER': 18.89, 'SALARY': 23410988, 'AGE': '31', 'USG': '21.3', 'AST': '4.4'}\n",
      "{'EWA': '7.4', 'TO': '11.5', 'MPG': '31.8', 'GP': '57', 'HT': '85', 'ORR': '11.5', 'PLAYER': 'Nikola Vucevic', 'POS': 'C', 'WT': '250', 'TS%': '0.536', 'TEAM': ' ORL', 'DRR': '27.6', 'REBR': '19.5', 'VA': '223', 'PER': 18.85, 'SALARY': 2751260, 'AGE': '23', 'USG': '20', 'AST': '10.7'}\n",
      "{'EWA': '11.2', 'TO': '9', 'MPG': '35.8', 'GP': '82', 'HT': '75', 'ORR': '1.3', 'PLAYER': 'Damian Lillard', 'POS': 'PG', 'WT': '195', 'TS%': '0.568', 'TEAM': ' POR', 'DRR': '9.2', 'REBR': '5.3', 'VA': '337.1', 'PER': 18.69, 'SALARY': 3340920, 'AGE': '24', 'USG': '24.7', 'AST': '21.3'}\n",
      "{'EWA': '3.3', 'TO': '12.6', 'MPG': '18.4', 'GP': '52', 'HT': '81', 'ORR': '7.4', 'PLAYER': 'James Johnson', 'POS': 'PF', 'WT': '248', 'TS%': '0.552', 'TEAM': ' MEM', 'DRR': '13.2', 'REBR': '10.3', 'VA': '99.9', 'PER': 18.5, 'SALARY': 2500000, 'AGE': '27', 'USG': '19.7', 'AST': '21.2'}\n",
      "{'EWA': '8', 'TO': '11.1', 'MPG': '28.2', 'GP': '72', 'HT': '78', 'ORR': '4.3', 'PLAYER': 'Tyreke Evans', 'POS': 'SF', 'WT': '220', 'TS%': '0.504', 'TEAM': ' NO', 'DRR': '15.4', 'REBR': '9.8', 'VA': '239.9', 'PER': 18.43, 'SALARY': 11265416, 'AGE': '24', 'USG': '26.7', 'AST': '23.1'}\n",
      "{'EWA': '9.9', 'TO': '12.6', 'MPG': '34.7', 'GP': '73', 'HT': '80', 'ORR': '5', 'PLAYER': 'Rudy Gay', 'POS': 'SF', 'WT': '230', 'TS%': '0.54', 'TEAM': ' SAC/TOR', 'DRR': '14.7', 'REBR': '9.8', 'VA': '298.3', 'PER': 18.4, 'SALARY': 19317326, 'AGE': '28', 'USG': '25.2', 'AST': '11.7'}\n",
      "{'EWA': '5.3', 'TO': '9.8', 'MPG': '19.9', 'GP': '69', 'HT': '81', 'ORR': '10.2', 'PLAYER': 'Kris Humphries', 'POS': 'PF', 'WT': '235', 'TS%': '0.552', 'TEAM': ' BOS', 'DRR': '24', 'REBR': '16.9', 'VA': '157.8', 'PER': 18.28, 'SALARY': 4250000, 'AGE': '29', 'USG': '17.8', 'AST': '10.2'}\n",
      "{'EWA': '10.8', 'TO': '14', 'MPG': '35', 'GP': '82', 'HT': '83', 'ORR': '13.3', 'PLAYER': 'DeAndre Jordan', 'POS': 'C', 'WT': '265', 'TS%': '0.63', 'TEAM': ' LAC', 'DRR': '29.3', 'REBR': '21.6', 'VA': '325.1', 'PER': 18.19, 'SALARY': 11440123, 'AGE': '26', 'USG': '11.3', 'AST': '8.4'}\n",
      "{'EWA': '6.8', 'TO': '12.1', 'MPG': '26.5', 'GP': '70', 'HT': '83', 'ORR': '10.2', 'PLAYER': 'John Henson', 'POS': 'C', 'WT': '220', 'TS%': '0.543', 'TEAM': ' MIL', 'DRR': '20.8', 'REBR': '15.3', 'VA': '204', 'PER': 17.97, 'SALARY': 1987320, 'AGE': '23', 'USG': '19.1', 'AST': '12'}\n",
      "{'EWA': '9.2', 'TO': '9.3', 'MPG': '31.8', 'GP': '82', 'HT': '85', 'ORR': '13.6', 'PLAYER': 'Robin Lopez', 'POS': 'C', 'WT': '255', 'TS%': '0.605', 'TEAM': ' POR', 'DRR': '15.3', 'REBR': '14.5', 'VA': '275.2', 'PER': 17.68, 'SALARY': 6124729, 'AGE': '26', 'USG': '13', 'AST': '8'}\n",
      "{'EWA': '2', 'TO': '8.6', 'MPG': '13.1', 'GP': '49', 'HT': '82', 'ORR': '6.8', 'PLAYER': 'Jon Leuer', 'POS': 'PF', 'WT': '228', 'TS%': '0.566', 'TEAM': ' MEM', 'DRR': '22.4', 'REBR': '14.6', 'VA': '58.9', 'PER': 17.65, 'SALARY': 967500, 'AGE': '25', 'USG': '19.5', 'AST': '6.4'}\n",
      "{'EWA': '2.9', 'TO': '9.6', 'MPG': '18.1', 'GP': '53', 'HT': '79', 'ORR': '11.8', 'PLAYER': 'Jeff Adrien', 'POS': 'SF', 'WT': '245', 'TS%': '0.553', 'TEAM': ' MIL/CHA', 'DRR': '24.8', 'REBR': '18.2', 'VA': '85.9', 'PER': 17.49, 'SALARY': 915243, 'AGE': '28', 'USG': '18.4', 'AST': '9.4'}\n",
      "{'EWA': '4.1', 'TO': '13', 'MPG': '15.6', 'GP': '78', 'HT': '79', 'ORR': '13.3', 'PLAYER': 'DeJuan Blair', 'POS': 'C', 'WT': '270', 'TS%': '0.557', 'TEAM': ' DAL', 'DRR': '21.6', 'REBR': '17.5', 'VA': '121.9', 'PER': 17.33, 'SALARY': 2000000, 'AGE': '25', 'USG': '18.1', 'AST': '11.8'}\n",
      "{'EWA': '7.8', 'TO': '11.8', 'MPG': '32.2', 'GP': '79', 'HT': '74', 'ORR': '1.6', 'PLAYER': 'Jeff Teague', 'POS': 'PG', 'WT': '181', 'TS%': '0.541', 'TEAM': ' ATL', 'DRR': '7.9', 'REBR': '4.7', 'VA': '233.6', 'PER': 17.16, 'SALARY': 8000000, 'AGE': '26', 'USG': '25.2', 'AST': '26.9'}\n",
      "{'EWA': '2.4', 'TO': '14.6', 'MPG': '18.9', 'GP': '39', 'HT': '85', 'ORR': '7.8', 'PLAYER': 'Chris Kaman', 'POS': 'C', 'WT': '265', 'TS%': '0.537', 'TEAM': ' LAL', 'DRR': '25.4', 'REBR': '16.6', 'VA': '71', 'PER': 17.06, 'SALARY': 4800000, 'AGE': '32', 'USG': '24.3', 'AST': '11.4'}\n",
      "{'EWA': '5', 'TO': '15.9', 'MPG': '20.2', 'GP': '80', 'HT': '83', 'ORR': '14.4', 'PLAYER': 'Samuel Dalembert', 'POS': 'C', 'WT': '250', 'TS%': '0.605', 'TEAM': ' DAL', 'DRR': '24.2', 'REBR': '19.4', 'VA': '151.3', 'PER': 16.88, 'SALARY': 4051527, 'AGE': '33', 'USG': '13.5', 'AST': '6.7'}\n",
      "{'EWA': '7.6', 'TO': '8.9', 'MPG': '35.8', 'GP': '73', 'HT': '73', 'ORR': '1.7', 'PLAYER': 'Kemba Walker', 'POS': 'PG', 'WT': '184', 'TS%': '0.499', 'TEAM': ' CHA', 'DRR': '11.6', 'REBR': '6.6', 'VA': '227.1', 'PER': 16.82, 'SALARY': 3272091, 'AGE': '24', 'USG': '25', 'AST': '23.4'}\n",
      "{'EWA': '5.4', 'TO': '14.5', 'MPG': '21.6', 'GP': '82', 'HT': '85', 'ORR': '10.4', 'PLAYER': 'Timofey Mozgov', 'POS': 'C', 'WT': '250', 'TS%': '0.584', 'TEAM': ' DEN', 'DRR': '21.9', 'REBR': '16.1', 'VA': '162.9', 'PER': 16.77, 'SALARY': 4650000, 'AGE': '28', 'USG': '17.3', 'AST': '7.4'}\n",
      "{'EWA': '7', 'TO': '9.5', 'MPG': '34.4', 'GP': '79', 'HT': '80', 'ORR': '6.3', 'PLAYER': 'Thaddeus Young', 'POS': 'PF', 'WT': '230', 'TS%': '0.512', 'TEAM': ' PHI', 'DRR': '12.8', 'REBR': '9.5', 'VA': '208.6', 'PER': 16.64, 'SALARY': 9410869, 'AGE': '26', 'USG': '22.5', 'AST': '10.5'}\n",
      "{'EWA': '2.4', 'TO': '15', 'MPG': '13.6', 'GP': '60', 'HT': '83', 'ORR': '13.4', 'PLAYER': 'Gorgui Dieng', 'POS': 'C', 'WT': '238', 'TS%': '0.534', 'TEAM': ' MIN', 'DRR': '26.9', 'REBR': '20', 'VA': '73', 'PER': 16.58, 'SALARY': 1413480, 'AGE': '24', 'USG': '15.8', 'AST': '10.8'}\n",
      "{'EWA': '7', 'TO': '10.6', 'MPG': '28.4', 'GP': '82', 'HT': '80', 'ORR': '2.3', 'PLAYER': 'Gerald Green', 'POS': 'SG', 'WT': '210', 'TS%': '0.585', 'TEAM': ' PHX', 'DRR': '10.9', 'REBR': '6.6', 'VA': '210.4', 'PER': 16.55, 'SALARY': 3500000, 'AGE': '28', 'USG': '21.8', 'AST': '8.9'}\n",
      "{'EWA': '4', 'TO': '11.1', 'MPG': '16.9', 'GP': '80', 'HT': '85', 'ORR': '14', 'PLAYER': 'Kosta Koufos', 'POS': 'C', 'WT': '265', 'TS%': '0.514', 'TEAM': ' MEM', 'DRR': '22.7', 'REBR': '18.4', 'VA': '119.6', 'PER': 16.54, 'SALARY': 3000000, 'AGE': '25', 'USG': '18', 'AST': '6.4'}\n",
      "{'EWA': '4.9', 'TO': '13.6', 'MPG': '30.2', 'GP': '55', 'HT': '85', 'ORR': '10.9', 'PLAYER': 'Tyson Chandler', 'POS': 'C', 'WT': '240', 'TS%': '0.615', 'TEAM': ' NY', 'DRR': '27', 'REBR': '18.7', 'VA': '145.8', 'PER': 16.48, 'SALARY': 14846888, 'AGE': '31', 'USG': '12', 'AST': '11.3'}\n",
      "{'EWA': '6.4', 'TO': '7.6', 'MPG': '32', 'GP': '68', 'HT': '79', 'ORR': '1.7', 'PLAYER': 'Kevin Martin', 'POS': 'SG', 'WT': '197', 'TS%': '0.553', 'TEAM': ' MIN', 'DRR': '8.7', 'REBR': '5.1', 'VA': '190.8', 'PER': 16.37, 'SALARY': 6792500, 'AGE': '31', 'USG': '23.4', 'AST': '8.8'}\n",
      "{'EWA': '3.5', 'TO': '8.9', 'MPG': '18.3', 'GP': '66', 'HT': '81', 'ORR': '11.1', 'PLAYER': 'Jeremy Evans', 'POS': 'SF', 'WT': '197', 'TS%': '0.549', 'TEAM': ' UTAH', 'DRR': '18.7', 'REBR': '14.8', 'VA': '104.1', 'PER': 16.27, 'SALARY': 1794871, 'AGE': '26', 'USG': '14.3', 'AST': '9.8'}\n",
      "{'EWA': '8', 'TO': '11.7', 'MPG': '36.4', 'GP': '77', 'HT': '80', 'ORR': '2.5', 'PLAYER': 'Gordon Hayward', 'POS': 'SG', 'WT': '220', 'TS%': '0.52', 'TEAM': ' UTAH', 'DRR': '14', 'REBR': '8', 'VA': '238.9', 'PER': 16.22, 'SALARY': 14746000, 'AGE': '24', 'USG': '22.7', 'AST': '22.1'}\n",
      "{'EWA': '6.3', 'TO': '13.8', 'MPG': '28.2', 'GP': '81', 'HT': '83', 'ORR': '11.5', 'PLAYER': 'Jonas Valanciunas', 'POS': 'C', 'WT': '231', 'TS%': '0.579', 'TEAM': ' TOR', 'DRR': '25.1', 'REBR': '18.2', 'VA': '189.6', 'PER': 16.17, 'SALARY': 3678360, 'AGE': '22', 'USG': '16.9', 'AST': '5.8'}\n",
      "{'EWA': '5.1', 'TO': '7.9', 'MPG': '28.3', 'GP': '64', 'HT': '79', 'ORR': '1.7', 'PLAYER': 'Nick Young', 'POS': 'SF', 'WT': '210', 'TS%': '0.564', 'TEAM': ' LAL', 'DRR': '8.1', 'REBR': '4.9', 'VA': '151.6', 'PER': 16.11, 'SALARY': 4994420, 'AGE': '29', 'USG': '24.1', 'AST': '7.9'}\n",
      "{'EWA': '5.4', 'TO': '11.9', 'MPG': '28.7', 'GP': '82', 'HT': '81', 'ORR': '9.8', 'PLAYER': 'Taj Gibson', 'POS': 'PF', 'WT': '225', 'TS%': '0.524', 'TEAM': ' CHI', 'DRR': '17.1', 'REBR': '13.5', 'VA': '161', 'PER': 16.09, 'SALARY': 8000000, 'AGE': '29', 'USG': '21.2', 'AST': '7.2'}\n",
      "{'EWA': '2.7', 'TO': '8.2', 'MPG': '19.3', 'GP': '51', 'HT': '78', 'ORR': '2', 'PLAYER': 'C.J. Miles', 'POS': 'SG', 'WT': '231', 'TS%': '0.569', 'TEAM': ' CLE', 'DRR': '9.9', 'REBR': '5.9', 'VA': '81.2', 'PER': 16.03, 'SALARY': 4205000, 'AGE': '27', 'USG': '20.6', 'AST': '9.7'}\n",
      "{'EWA': '5.4', 'TO': '8.9', 'MPG': '24.4', 'GP': '81', 'HT': '78', 'ORR': '4', 'PLAYER': 'Vince Carter', 'POS': 'SG', 'WT': '220', 'TS%': '0.539', 'TEAM': ' DAL', 'DRR': '12.6', 'REBR': '8.3', 'VA': '161.2', 'PER': 15.97, 'SALARY': 3911981, 'AGE': '37', 'USG': '21.9', 'AST': '17.4'}\n",
      "{'EWA': '1.3', 'TO': '13.8', 'MPG': '10.6', 'GP': '49', 'HT': '74', 'ORR': '1.7', 'PLAYER': 'Jimmer Fredette', 'POS': 'PG', 'WT': '195', 'TS%': '0.578', 'TEAM': ' CHI/SAC', 'DRR': '9.7', 'REBR': '5.7', 'VA': '37.8', 'PER': 15.88, 'SALARY': 915243, 'AGE': '25', 'USG': '25.9', 'AST': '18.4'}\n",
      "{'EWA': '7.9', 'TO': '13.5', 'MPG': '36', 'GP': '82', 'HT': '80', 'ORR': '4.3', 'PLAYER': 'Nicolas Batum', 'POS': 'SF', 'WT': '200', 'TS%': '0.589', 'TEAM': ' POR', 'DRR': '17.8', 'REBR': '11.1', 'VA': '236.7', 'PER': 15.86, 'SALARY': 11765500, 'AGE': '25', 'USG': '16.8', 'AST': '27.3'}\n",
      "{'EWA': '6.4', 'TO': '12.7', 'MPG': '30.9', 'GP': '80', 'HT': '85', 'ORR': '5.6', 'PLAYER': 'Spencer Hawes', 'POS': 'PF', 'WT': '245', 'TS%': '0.554', 'TEAM': ' CLE/PHI', 'DRR': '24.2', 'REBR': '14.6', 'VA': '190.6', 'PER': 15.77, 'SALARY': 5305000, 'AGE': '26', 'USG': '19.8', 'AST': '17.6'}\n",
      "{'EWA': '5.4', 'TO': '12.4', 'MPG': '26.7', 'GP': '80', 'HT': '83', 'ORR': '11.6', 'PLAYER': 'Enes Kanter', 'POS': 'C', 'WT': '247', 'TS%': '0.523', 'TEAM': ' UTAH', 'DRR': '20.9', 'REBR': '16.1', 'VA': '162.7', 'PER': 15.7, 'SALARY': 5694674, 'AGE': '22', 'USG': '21.4', 'AST': '6.5'}\n",
      "{'EWA': '3.3', 'TO': '13.8', 'MPG': '23.2', 'GP': '55', 'HT': '76', 'ORR': '7.3', 'PLAYER': 'Tony Allen', 'POS': 'SG', 'WT': '213', 'TS%': '0.531', 'TEAM': ' MEM', 'DRR': '12', 'REBR': '9.6', 'VA': '98.1', 'PER': 15.64, 'SALARY': 4831461, 'AGE': '32', 'USG': '19.2', 'AST': '14.5'}\n",
      "{'EWA': '5.5', 'TO': '13', 'MPG': '34.5', 'GP': '70', 'HT': '78', 'ORR': '4.3', 'PLAYER': 'Michael Carter-Williams', 'POS': 'PG', 'WT': '185', 'TS%': '0.48', 'TEAM': ' PHI', 'DRR': '15.6', 'REBR': '9.8', 'VA': '165.4', 'PER': 15.59, 'SALARY': 2300040, 'AGE': '22', 'USG': '25.3', 'AST': '23.2'}\n",
      "{'EWA': '4.3', 'TO': '13.5', 'MPG': '28.8', 'GP': '77', 'HT': '81', 'ORR': '9', 'PLAYER': 'Amir Johnson', 'POS': 'PF', 'WT': '210', 'TS%': '0.592', 'TEAM': ' TOR', 'DRR': '17.6', 'REBR': '13.3', 'VA': '130.2', 'PER': 15.44, 'SALARY': 7000000, 'AGE': '27', 'USG': '15.4', 'AST': '12.6'}\n",
      "{'EWA': '2.5', 'TO': '13.7', 'MPG': '15', 'GP': '70', 'HT': '85', 'ORR': '10.8', 'PLAYER': 'Tyler Zeller', 'POS': 'C', 'WT': '253', 'TS%': '0.581', 'TEAM': ' CLE', 'DRR': '19.6', 'REBR': '15.1', 'VA': '75.5', 'PER': 15.43, 'SALARY': 1703760, 'AGE': '24', 'USG': '15.9', 'AST': '8.2'}\n",
      "{'EWA': '2.8', 'TO': '9.4', 'MPG': '18.5', 'GP': '80', 'HT': '80', 'ORR': '4.9', 'PLAYER': 'Mike Scott', 'POS': 'PF', 'WT': '237', 'TS%': '0.559', 'TEAM': ' ATL', 'DRR': '17.2', 'REBR': '11.1', 'VA': '85', 'PER': 15.34, 'SALARY': 0, 'AGE': '26', 'USG': '21.2', 'AST': '8.9'}\n",
      "{'EWA': '2.2', 'TO': '12.8', 'MPG': '33.3', 'GP': '30', 'HT': '73', 'ORR': '2.4', 'PLAYER': 'Rajon Rondo', 'POS': 'PG', 'WT': '186', 'TS%': '0.461', 'TEAM': ' BOS', 'DRR': '16.6', 'REBR': '9.3', 'VA': '64.6', 'PER': 15.34, 'SALARY': 12909090, 'AGE': '28', 'USG': '23.2', 'AST': '38.1'}\n",
      "{'EWA': '1.6', 'TO': '9.7', 'MPG': '11.8', 'GP': '58', 'HT': '85', 'ORR': '8.2', 'PLAYER': 'Jeff Withey', 'POS': 'C', 'WT': '235', 'TS%': '0.59', 'TEAM': ' NO', 'DRR': '17.4', 'REBR': '12.7', 'VA': '47.5', 'PER': 15.25, 'SALARY': 816482, 'AGE': '24', 'USG': '11.3', 'AST': '12.6'}\n",
      "{'EWA': '5.2', 'TO': '8.2', 'MPG': '30.5', 'GP': '81', 'HT': '75', 'ORR': '1.4', 'PLAYER': 'Jose Calderon', 'POS': 'PG', 'WT': '211', 'TS%': '0.596', 'TEAM': ' DAL', 'DRR': '7.6', 'REBR': '4.5', 'VA': '156.4', 'PER': 15.25, 'SALARY': 7097191, 'AGE': '32', 'USG': '16.4', 'AST': '30'}\n",
      "{'EWA': '1.8', 'TO': '11', 'MPG': '12.4', 'GP': '79', 'HT': '82', 'ORR': '11.4', 'PLAYER': 'Marreese Speights', 'POS': 'PF', 'WT': '255', 'TS%': '0.507', 'TEAM': ' GS', 'DRR': '20.6', 'REBR': '16.1', 'VA': '54.5', 'PER': 15.22, 'SALARY': 3657500, 'AGE': '27', 'USG': '23', 'AST': '5.3'}\n",
      "{'EWA': '1.8', 'TO': '13.9', 'MPG': '22.2', 'GP': '41', 'HT': '74', 'ORR': '2.3', 'PLAYER': 'Jordan Farmar', 'POS': 'PG', 'WT': '180', 'TS%': '0.533', 'TEAM': ' LAL', 'DRR': '9.8', 'REBR': '6.1', 'VA': '55.2', 'PER': 15.05, 'SALARY': 2077000, 'AGE': '27', 'USG': '23.1', 'AST': '29.1'}\n",
      "{'EWA': '4', 'TO': '10', 'MPG': '27.6', 'GP': '82', 'HT': '80', 'ORR': '7.8', 'PLAYER': 'Brandon Bass', 'POS': 'PF', 'WT': '250', 'TS%': '0.549', 'TEAM': ' BOS', 'DRR': '15.9', 'REBR': '11.8', 'VA': '118.8', 'PER': 15.01, 'SALARY': 6900000, 'AGE': '29', 'USG': '17', 'AST': '8.5'}\n",
      "{'EWA': '4.5', 'TO': '10.7', 'MPG': '32.1', 'GP': '64', 'HT': '76', 'ORR': '1.7', 'PLAYER': 'Eric Gordon', 'POS': 'SG', 'WT': '215', 'TS%': '0.54', 'TEAM': ' NO', 'DRR': '7.7', 'REBR': '4.7', 'VA': '135.8', 'PER': 14.92, 'SALARY': 14898938, 'AGE': '25', 'USG': '22.2', 'AST': '16.5'}\n",
      "{'EWA': '5.4', 'TO': '8.8', 'MPG': '33.2', 'GP': '77', 'HT': '76', 'ORR': '1.3', 'PLAYER': 'Jodie Meeks', 'POS': 'SG', 'WT': '208', 'TS%': '0.601', 'TEAM': ' LAL', 'DRR': '6.9', 'REBR': '4.1', 'VA': '162.2', 'PER': 14.75, 'SALARY': 6000000, 'AGE': '27', 'USG': '17.4', 'AST': '11'}\n",
      "{'EWA': '5.8', 'TO': '13.8', 'MPG': '35.3', 'GP': '78', 'HT': '77', 'ORR': '4.1', 'PLAYER': 'Lance Stephenson', 'POS': 'SG', 'WT': '230', 'TS%': '0.564', 'TEAM': ' IND', 'DRR': '18.1', 'REBR': '11.4', 'VA': '173.3', 'PER': 14.72, 'SALARY': 9000000, 'AGE': '23', 'USG': '19', 'AST': '23.5'}\n",
      "{'EWA': '1.5', 'TO': '10.9', 'MPG': '20.5', 'GP': '40', 'HT': '75', 'ORR': '1.1', 'PLAYER': 'Devin Harris', 'POS': 'PG', 'WT': '192', 'TS%': '0.517', 'TEAM': ' DAL', 'DRR': '10.8', 'REBR': '6', 'VA': '44.6', 'PER': 14.66, 'SALARY': 3878896, 'AGE': '31', 'USG': '20.8', 'AST': '32.9'}\n",
      "{'EWA': '3.9', 'TO': '14.5', 'MPG': '24.6', 'GP': '80', 'HT': '83', 'ORR': '11.3', 'PLAYER': 'Miles Plumlee', 'POS': 'C', 'WT': '255', 'TS%': '0.529', 'TEAM': ' PHX', 'DRR': '24.4', 'REBR': '17.9', 'VA': '117.3', 'PER': 14.6, 'SALARY': 1169880, 'AGE': '25', 'USG': '14.7', 'AST': '5.6'}\n",
      "{'EWA': '3.5', 'TO': '11.4', 'MPG': '26', 'GP': '76', 'HT': '79', 'ORR': '4.1', 'PLAYER': 'Shaun Livingston', 'POS': 'PG', 'WT': '175', 'TS%': '0.551', 'TEAM': ' BKN', 'DRR': '10.8', 'REBR': '7.5', 'VA': '103.8', 'PER': 14.52, 'SALARY': 5305000, 'AGE': '28', 'USG': '15.8', 'AST': '26.6'}\n",
      "{'EWA': '1.8', 'TO': '12.8', 'MPG': '18.8', 'GP': '56', 'HT': '73', 'ORR': '2.4', 'PLAYER': 'Will Bynum', 'POS': 'PG', 'WT': '185', 'TS%': '0.502', 'TEAM': ' DET', 'DRR': '8.2', 'REBR': '5.1', 'VA': '54.1', 'PER': 14.44, 'SALARY': 2915908, 'AGE': '31', 'USG': '24.7', 'AST': '26.9'}\n",
      "{'EWA': '2', 'TO': '8.1', 'MPG': '19.4', 'GP': '72', 'HT': '81', 'ORR': '5.2', 'PLAYER': 'Mirza Teletovic', 'POS': 'PF', 'WT': '242', 'TS%': '0.559', 'TEAM': ' BKN', 'DRR': '17.6', 'REBR': '11.4', 'VA': '60.1', 'PER': 14.38, 'SALARY': 3368100, 'AGE': '28', 'USG': '18.5', 'AST': '8.5'}\n",
      "{'EWA': '5.4', 'TO': '8.2', 'MPG': '35.4', 'GP': '81', 'HT': '79', 'ORR': '1.5', 'PLAYER': 'Klay Thompson', 'POS': 'SG', 'WT': '205', 'TS%': '0.555', 'TEAM': ' GS', 'DRR': '7.9', 'REBR': '4.7', 'VA': '163.3', 'PER': 14.32, 'SALARY': 3075880, 'AGE': '24', 'USG': '20.9', 'AST': '10.9'}\n",
      "{'EWA': '2.7', 'TO': '10.5', 'MPG': '24.1', 'GP': '60', 'HT': '73', 'ORR': '0.8', 'PLAYER': 'Louis Williams', 'POS': 'SG', 'WT': '175', 'TS%': '0.547', 'TEAM': ' ATL', 'DRR': '9.1', 'REBR': '5', 'VA': '80.7', 'PER': 14.24, 'SALARY': 5450000, 'AGE': '27', 'USG': '20.2', 'AST': '24'}\n",
      "{'EWA': '2.8', 'TO': '11.1', 'MPG': '22.5', 'GP': '79', 'HT': '78', 'ORR': '1.3', 'PLAYER': 'Greivis Vasquez', 'POS': 'PG', 'WT': '211', 'TS%': '0.537', 'TEAM': ' SAC/TOR', 'DRR': '10', 'REBR': '5.6', 'VA': '84.8', 'PER': 14.2, 'SALARY': 6400000, 'AGE': '27', 'USG': '19.1', 'AST': '27.9'}\n",
      "{'EWA': '2.6', 'TO': '12.6', 'MPG': '25', 'GP': '79', 'HT': '80', 'ORR': '4.4', 'PLAYER': 'Boris Diaw', 'POS': 'PF', 'WT': '250', 'TS%': '0.578', 'TEAM': ' SA', 'DRR': '13.8', 'REBR': '9.3', 'VA': '77.2', 'PER': 14.12, 'SALARY': 7500000, 'AGE': '32', 'USG': '16.4', 'AST': '23'}\n",
      "{'EWA': '3.7', 'TO': '10.5', 'MPG': '29.6', 'GP': '70', 'HT': '76', 'ORR': '1.7', 'PLAYER': 'Dion Waiters', 'POS': 'SG', 'WT': '225', 'TS%': '0.508', 'TEAM': ' CLE', 'DRR': '9', 'REBR': '5.3', 'VA': '111.3', 'PER': 14.1, 'SALARY': 4062000, 'AGE': '22', 'USG': '25.7', 'AST': '14.4'}\n",
      "{'EWA': '1.8', 'TO': '11.8', 'MPG': '19.4', 'GP': '73', 'HT': '81', 'ORR': '8', 'PLAYER': 'Elton Brand', 'POS': 'PF', 'WT': '254', 'TS%': '0.561', 'TEAM': ' ATL', 'DRR': '21.5', 'REBR': '14.8', 'VA': '53.8', 'PER': 14.05, 'SALARY': 0, 'AGE': '35', 'USG': '12.9', 'AST': '14.6'}\n",
      "{'EWA': '2.1', 'TO': '7.7', 'MPG': '25.4', 'GP': '66', 'HT': '81', 'ORR': '5.5', 'PLAYER': 'Marvin Williams', 'POS': 'PF', 'WT': '237', 'TS%': '0.54', 'TEAM': ' UTAH', 'DRR': '17.9', 'REBR': '11.5', 'VA': '63.4', 'PER': 14.04, 'SALARY': 7000000, 'AGE': '28', 'USG': '15.7', 'AST': '11.3'}\n",
      "{'EWA': '2.3', 'TO': '14.5', 'MPG': '25', 'GP': '53', 'HT': '83', 'ORR': '11.8', 'PLAYER': 'Zaza Pachulia', 'POS': 'C', 'WT': '275', 'TS%': '0.502', 'TEAM': ' MIL', 'DRR': '17.1', 'REBR': '14.4', 'VA': '67.9', 'PER': 14.03, 'SALARY': 5200000, 'AGE': '30', 'USG': '16.8', 'AST': '21.4'}\n",
      "{'EWA': '4.2', 'TO': '8', 'MPG': '32.7', 'GP': '74', 'HT': '78', 'ORR': '1.7', 'PLAYER': 'J.R. Smith', 'POS': 'SG', 'WT': '220', 'TS%': '0.527', 'TEAM': ' NY', 'DRR': '13.1', 'REBR': '7.2', 'VA': '126.4', 'PER': 14.0, 'SALARY': 5982375, 'AGE': '28', 'USG': '20.6', 'AST': '16.3'}\n",
      "{'EWA': '4', 'TO': '8.6', 'MPG': '32.1', 'GP': '73', 'HT': '80', 'ORR': '5.3', 'PLAYER': 'DeMarre Carroll', 'POS': 'SF', 'WT': '212', 'TS%': '0.575', 'TEAM': ' ATL', 'DRR': '14.5', 'REBR': '10', 'VA': '120.8', 'PER': 13.96, 'SALARY': 2442455, 'AGE': '28', 'USG': '14.1', 'AST': '14.6'}\n",
      "{'EWA': '2.8', 'TO': '10.7', 'MPG': '24.3', 'GP': '68', 'HT': '78', 'ORR': '1.8', 'PLAYER': 'Danny Green', 'POS': 'SG', 'WT': '215', 'TS%': '0.58', 'TEAM': ' SA', 'DRR': '13.4', 'REBR': '7.8', 'VA': '83.7', 'PER': 13.9, 'SALARY': 4025000, 'AGE': '27', 'USG': '15.5', 'AST': '14.6'}\n",
      "{'EWA': '1.7', 'TO': '7.9', 'MPG': '26.9', 'GP': '55', 'HT': '82', 'ORR': '8', 'PLAYER': 'Ersan Ilyasova', 'POS': 'PF', 'WT': '235', 'TS%': '0.486', 'TEAM': ' MIL', 'DRR': '18.8', 'REBR': '13.3', 'VA': '51.9', 'PER': 13.85, 'SALARY': 7900000, 'AGE': '27', 'USG': '19.9', 'AST': '9.4'}\n",
      "{'EWA': '2.7', 'TO': '8.1', 'MPG': '30.3', 'GP': '78', 'HT': '82', 'ORR': '4', 'PLAYER': 'Josh McRoberts', 'POS': 'PF', 'WT': '240', 'TS%': '0.548', 'TEAM': ' CHA', 'DRR': '13.8', 'REBR': '8.9', 'VA': '81.6', 'PER': 13.82, 'SALARY': 5305000, 'AGE': '27', 'USG': '13.7', 'AST': '32.7'}\n",
      "{'EWA': '3.9', 'TO': '9.9', 'MPG': '31.7', 'GP': '76', 'HT': '79', 'ORR': '6.4', 'PLAYER': 'Shawn Marion', 'POS': 'SF', 'WT': '228', 'TS%': '0.537', 'TEAM': ' DAL', 'DRR': '17.4', 'REBR': '11.9', 'VA': '117.9', 'PER': 13.78, 'SALARY': 0, 'AGE': '36', 'USG': '14.6', 'AST': '13'}\n",
      "{'EWA': '3.9', 'TO': '15.4', 'MPG': '31.1', 'GP': '80', 'HT': '76', 'ORR': '1.9', 'PLAYER': 'Victor Oladipo', 'POS': 'SG', 'WT': '215', 'TS%': '0.514', 'TEAM': ' ORL', 'DRR': '13.1', 'REBR': '7.5', 'VA': '116.5', 'PER': 13.64, 'SALARY': 4978200, 'AGE': '22', 'USG': '23.3', 'AST': '19.7'}\n",
      "{'EWA': '3.7', 'TO': '10.6', 'MPG': '33.9', 'GP': '71', 'HT': '79', 'ORR': '1.1', 'PLAYER': 'Kyle Korver', 'POS': 'SG', 'WT': '212', 'TS%': '0.653', 'TEAM': ' ATL', 'DRR': '12.4', 'REBR': '6.8', 'VA': '109.8', 'PER': 13.55, 'SALARY': 6253521, 'AGE': '33', 'USG': '13.6', 'AST': '21.7'}\n",
      "{'EWA': '2.1', 'TO': '9.8', 'MPG': '23.2', 'GP': '72', 'HT': '73', 'ORR': '1.2', 'PLAYER': 'Brian Roberts', 'POS': 'PG', 'WT': '173', 'TS%': '0.529', 'TEAM': ' NO', 'DRR': '8.4', 'REBR': '4.7', 'VA': '61.9', 'PER': 13.49, 'SALARY': 2732000, 'AGE': '28', 'USG': '19.9', 'AST': '24.2'}\n",
      "{'EWA': '1.3', 'TO': '13.4', 'MPG': '17.1', 'GP': '82', 'HT': '81', 'ORR': '7.2', 'PLAYER': 'Luis Scola', 'POS': 'PF', 'WT': '240', 'TS%': '0.505', 'TEAM': ' IND', 'DRR': '23.4', 'REBR': '15.7', 'VA': '40.2', 'PER': 13.42, 'SALARY': 4868499, 'AGE': '34', 'USG': '21.9', 'AST': '10'}\n",
      "{'EWA': '2.9', 'TO': '8.8', 'MPG': '32', 'GP': '76', 'HT': '75', 'ORR': '2.6', 'PLAYER': 'George Hill', 'POS': 'PG', 'WT': '188', 'TS%': '0.563', 'TEAM': ' IND', 'DRR': '10.1', 'REBR': '6.5', 'VA': '87.7', 'PER': 13.42, 'SALARY': 8000000, 'AGE': '28', 'USG': '14.6', 'AST': '25.2'}\n",
      "{'EWA': '1.5', 'TO': '17.3', 'MPG': '13.9', 'GP': '77', 'HT': '81', 'ORR': '11', 'PLAYER': 'Bismack Biyombo', 'POS': 'C', 'WT': '245', 'TS%': '0.606', 'TEAM': ' CHA', 'DRR': '27.6', 'REBR': '19.3', 'VA': '43.6', 'PER': 13.33, 'SALARY': 3873398, 'AGE': '21', 'USG': '8.6', 'AST': '3.5'}\n",
      "{'EWA': '3.5', 'TO': '10.8', 'MPG': '30.7', 'GP': '81', 'HT': '78', 'ORR': '7.3', 'PLAYER': 'P.J. Tucker', 'POS': 'SF', 'WT': '224', 'TS%': '0.54', 'TEAM': ' PHX', 'DRR': '16.6', 'REBR': '11.9', 'VA': '104.5', 'PER': 13.31, 'SALARY': 5700000, 'AGE': '29', 'USG': '13.4', 'AST': '14.9'}\n",
      "{'EWA': '2', 'TO': '8.8', 'MPG': '28.2', 'GP': '82', 'HT': '83', 'ORR': '3.6', 'PLAYER': 'Channing Frye', 'POS': 'PF', 'WT': '245', 'TS%': '0.555', 'TEAM': ' PHX', 'DRR': '16.6', 'REBR': '10.1', 'VA': '60.6', 'PER': 13.26, 'SALARY': 8579088, 'AGE': '31', 'USG': '16', 'AST': '9.7'}\n",
      "{'EWA': '3.7', 'TO': '10.1', 'MPG': '34.2', 'GP': '82', 'HT': '81', 'ORR': '2.1', 'PLAYER': 'Jeff Green', 'POS': 'SF', 'WT': '235', 'TS%': '0.52', 'TEAM': ' BOS', 'DRR': '13.6', 'REBR': '7.7', 'VA': '111.7', 'PER': 13.17, 'SALARY': 9200000, 'AGE': '27', 'USG': '22', 'AST': '8.5'}\n",
      "{'EWA': '3.2', 'TO': '8.2', 'MPG': '32', 'GP': '77', 'HT': '77', 'ORR': '1.4', 'PLAYER': 'Gerald Henderson', 'POS': 'SG', 'WT': '215', 'TS%': '0.507', 'TEAM': ' CHA', 'DRR': '12.9', 'REBR': '7.1', 'VA': '96.6', 'PER': 13.13, 'SALARY': 6000000, 'AGE': '26', 'USG': '20.6', 'AST': '14.4'}\n",
      "{'EWA': '1.2', 'TO': '11.1', 'MPG': '18.9', 'GP': '63', 'HT': '74', 'ORR': '1.9', 'PLAYER': 'C.J. Watson', 'POS': 'PG', 'WT': '175', 'TS%': '0.555', 'TEAM': ' IND', 'DRR': '7.4', 'REBR': '4.8', 'VA': '37', 'PER': 13.08, 'SALARY': 2077000, 'AGE': '30', 'USG': '15.9', 'AST': '19.8'}\n",
      "{'EWA': '2.2', 'TO': '14.9', 'MPG': '24.5', 'GP': '72', 'HT': '78', 'ORR': '4.1', 'PLAYER': 'Tony Wroten', 'POS': 'SG', 'WT': '205', 'TS%': '0.493', 'TEAM': ' PHI', 'DRR': '10.1', 'REBR': '7', 'VA': '64.9', 'PER': 12.96, 'SALARY': 1210080, 'AGE': '21', 'USG': '26.4', 'AST': '15.8'}\n",
      "{'EWA': '2.2', 'TO': '10.2', 'MPG': '26.5', 'GP': '73', 'HT': '77', 'ORR': '1.6', 'PLAYER': 'Ray Allen', 'POS': 'SG', 'WT': '205', 'TS%': '0.59', 'TEAM': ' MIA', 'DRR': '11.4', 'REBR': '6.7', 'VA': '67.4', 'PER': 12.83, 'SALARY': 0, 'AGE': '39', 'USG': '15.5', 'AST': '17.4'}\n",
      "{'EWA': '2.1', 'TO': '5.5', 'MPG': '23.1', 'GP': '81', 'HT': '78', 'ORR': '1.2', 'PLAYER': 'Tim Hardaway Jr.', 'POS': 'SG', 'WT': '205', 'TS%': '0.554', 'TEAM': ' NY', 'DRR': '6.6', 'REBR': '3.8', 'VA': '64.1', 'PER': 12.79, 'SALARY': 1250640, 'AGE': '22', 'USG': '18', 'AST': '7.7'}\n",
      "{'EWA': '1.1', 'TO': '9.3', 'MPG': '17', 'GP': '60', 'HT': '79', 'ORR': '3.5', 'PLAYER': 'Jordan Hamilton', 'POS': 'SF', 'WT': '220', 'TS%': '0.507', 'TEAM': ' DEN/HOU', 'DRR': '17', 'REBR': '10.4', 'VA': '34.2', 'PER': 12.75, 'SALARY': 0, 'AGE': '23', 'USG': '17.5', 'AST': '10.5'}\n",
      "{'EWA': '2', 'TO': '12', 'MPG': '21.9', 'GP': '82', 'HT': '79', 'ORR': '5.3', 'PLAYER': 'Draymond Green', 'POS': 'SF', 'WT': '230', 'TS%': '0.498', 'TEAM': ' GS', 'DRR': '19.3', 'REBR': '12.4', 'VA': '59.8', 'PER': 12.73, 'SALARY': 915243, 'AGE': '24', 'USG': '14.3', 'AST': '20.1'}\n",
      "{'EWA': '1', 'TO': '6.3', 'MPG': '20.2', 'GP': '81', 'HT': '80', 'ORR': '7.3', 'PLAYER': 'Dante Cunningham', 'POS': 'PF', 'WT': '221', 'TS%': '0.475', 'TEAM': ' MIN', 'DRR': '14.9', 'REBR': '11', 'VA': '28.6', 'PER': 12.67, 'SALARY': 0, 'AGE': '27', 'USG': '14.4', 'AST': '12.6'}\n",
      "{'EWA': '1.3', 'TO': '14.1', 'MPG': '29', 'GP': '54', 'HT': '76', 'ORR': '1', 'PLAYER': 'Kendall Marshall', 'POS': 'PG', 'WT': '195', 'TS%': '0.494', 'TEAM': ' LAL', 'DRR': '9.6', 'REBR': '5.3', 'VA': '38.8', 'PER': 12.66, 'SALARY': 915243, 'AGE': '23', 'USG': '18.1', 'AST': '44.9'}\n",
      "{'EWA': '2.7', 'TO': '9.5', 'MPG': '31.5', 'GP': '82', 'HT': '81', 'ORR': '2.1', 'PLAYER': 'Mike Dunleavy', 'POS': 'SF', 'WT': '230', 'TS%': '0.549', 'TEAM': ' CHI', 'DRR': '13', 'REBR': '7.6', 'VA': '81.6', 'PER': 12.62, 'SALARY': 3326235, 'AGE': '33', 'USG': '16.3', 'AST': '16.3'}\n",
      "{'EWA': '1.1', 'TO': '9.6', 'MPG': '21.4', 'GP': '52', 'HT': '76', 'ORR': '1', 'PLAYER': 'Gary Neal', 'POS': 'SG', 'WT': '210', 'TS%': '0.53', 'TEAM': ' MIL/CHA', 'DRR': '8.3', 'REBR': '4.6', 'VA': '34', 'PER': 12.54, 'SALARY': 3250000, 'AGE': '29', 'USG': '23.9', 'AST': '12.5'}\n",
      "{'EWA': '0.5', 'TO': '10.1', 'MPG': '16.5', 'GP': '65', 'HT': '81', 'ORR': '11.7', 'PLAYER': 'Lavoy Allen', 'POS': 'PF', 'WT': '255', 'TS%': '0.47', 'TEAM': ' IND/PHI', 'DRR': '20', 'REBR': '15.7', 'VA': '16.3', 'PER': 12.52, 'SALARY': 915243, 'AGE': '25', 'USG': '16.1', 'AST': '16.2'}\n",
      "{'EWA': '1.7', 'TO': '11.4', 'MPG': '20.8', 'GP': '82', 'HT': '80', 'ORR': '2.1', 'PLAYER': 'Mike Miller', 'POS': 'SF', 'WT': '218', 'TS%': '0.619', 'TEAM': ' MEM', 'DRR': '12.3', 'REBR': '7.2', 'VA': '51', 'PER': 12.5, 'SALARY': 2732000, 'AGE': '34', 'USG': '14.4', 'AST': '19.3'}\n",
      "{'EWA': '0.8', 'TO': '16', 'MPG': '19', 'GP': '45', 'HT': '81', 'ORR': '7.7', 'PLAYER': 'Andrei Kirilenko', 'POS': 'SF', 'WT': '235', 'TS%': '0.532', 'TEAM': ' BKN', 'DRR': '12.7', 'REBR': '10.2', 'VA': '25.3', 'PER': 12.48, 'SALARY': 3326235, 'AGE': '33', 'USG': '13.9', 'AST': '21.3'}\n",
      "{'EWA': '2.4', 'TO': '11.9', 'MPG': '30.3', 'GP': '81', 'HT': '79', 'ORR': '2.7', 'PLAYER': 'Evan Turner', 'POS': 'SF', 'WT': '220', 'TS%': '0.498', 'TEAM': ' IND/PHI', 'DRR': '15.7', 'REBR': '9.1', 'VA': '70.9', 'PER': 12.43, 'SALARY': 0, 'AGE': '25', 'USG': '18.5', 'AST': '16.5'}\n",
      "{'EWA': '1.1', 'TO': '15.5', 'MPG': '16.5', 'GP': '71', 'HT': '78', 'ORR': '2.3', 'PLAYER': 'Nick Calathes', 'POS': 'SG', 'WT': '213', 'TS%': '0.506', 'TEAM': ' MEM', 'DRR': '11.5', 'REBR': '6.9', 'VA': '32.5', 'PER': 12.36, 'SALARY': 816482, 'AGE': '25', 'USG': '18.3', 'AST': '31.8'}\n",
      "{'EWA': '0.2', 'TO': '12.5', 'MPG': '19.8', 'GP': '32', 'HT': '81', 'ORR': '6.5', 'PLAYER': 'Kenyon Martin', 'POS': 'PF', 'WT': '225', 'TS%': '0.521', 'TEAM': ' NY', 'DRR': '18.7', 'REBR': '12.5', 'VA': '7.1', 'PER': 12.25, 'SALARY': 0, 'AGE': '36', 'USG': '11.4', 'AST': '24.1'}\n",
      "{'EWA': '0.5', 'TO': '14.1', 'MPG': '12.3', 'GP': '43', 'HT': '83', 'ORR': '4.1', 'PLAYER': 'Anthony Randolph', 'POS': 'SF', 'WT': '225', 'TS%': '0.499', 'TEAM': ' DEN', 'DRR': '21', 'REBR': '12.5', 'VA': '13.6', 'PER': 12.23, 'SALARY': 1825359, 'AGE': '25', 'USG': '18.6', 'AST': '11.5'}\n",
      "{'EWA': '0.9', 'TO': '10.1', 'MPG': '16.8', 'GP': '65', 'HT': '85', 'ORR': '8', 'PLAYER': 'Robert Sacre', 'POS': 'C', 'WT': '260', 'TS%': '0.513', 'TEAM': ' LAL', 'DRR': '16.9', 'REBR': '12.5', 'VA': '25.5', 'PER': 12.17, 'SALARY': 915243, 'AGE': '25', 'USG': '14.1', 'AST': '11.7'}\n",
      "{'EWA': '1.2', 'TO': '11', 'MPG': '24.2', 'GP': '62', 'HT': '79', 'ORR': '8.2', 'PLAYER': 'Michael Kidd-Gilchrist', 'POS': 'SF', 'WT': '232', 'TS%': '0.516', 'TEAM': ' CHA', 'DRR': '16.2', 'REBR': '12.2', 'VA': '35.2', 'PER': 12.07, 'SALARY': 5016960, 'AGE': '20', 'USG': '13.8', 'AST': '9.5'}\n",
      "{'EWA': '0.9', 'TO': '8.7', 'MPG': '23.4', 'GP': '72', 'HT': '75', 'ORR': '1.5', 'PLAYER': 'Jerryd Bayless', 'POS': 'PG', 'WT': '200', 'TS%': '0.498', 'TEAM': ' BOS/MEM', 'DRR': '8.6', 'REBR': '5', 'VA': '26.2', 'PER': 12.04, 'SALARY': 3000000, 'AGE': '26', 'USG': '19.7', 'AST': '20.5'}\n",
      "{'EWA': '0.7', 'TO': '9.1', 'MPG': '14.5', 'GP': '68', 'HT': '81', 'ORR': '3.2', 'PLAYER': 'Dorell Wright', 'POS': 'SF', 'WT': '205', 'TS%': '0.524', 'TEAM': ' POR', 'DRR': '17.5', 'REBR': '10.5', 'VA': '21.7', 'PER': 11.98, 'SALARY': 3150000, 'AGE': '28', 'USG': '15.6', 'AST': '14.9'}\n",
      "{'EWA': '1.5', 'TO': '9.9', 'MPG': '27', 'GP': '82', 'HT': '79', 'ORR': '0.9', 'PLAYER': 'Richard Jefferson', 'POS': 'SF', 'WT': '234', 'TS%': '0.573', 'TEAM': ' UTAH', 'DRR': '10.8', 'REBR': '5.7', 'VA': '45.7', 'PER': 11.88, 'SALARY': 915243, 'AGE': '34', 'USG': '16.1', 'AST': '13.7'}\n",
      "{'EWA': '0.8', 'TO': '12.6', 'MPG': '24.8', 'GP': '74', 'HT': '73', 'ORR': '2.5', 'PLAYER': 'Mo Williams', 'POS': 'PG', 'WT': '195', 'TS%': '0.507', 'TEAM': ' POR', 'DRR': '6.4', 'REBR': '4.5', 'VA': '23.7', 'PER': 11.87, 'SALARY': 3750000, 'AGE': '31', 'USG': '20.9', 'AST': '27.2'}\n",
      "{'EWA': '0.2', 'TO': '15.5', 'MPG': '16.7', 'GP': '81', 'HT': '82', 'ORR': '10.2', 'PLAYER': 'Nick Collison', 'POS': 'PF', 'WT': '255', 'TS%': '0.599', 'TEAM': ' OKC', 'DRR': '14.1', 'REBR': '12.2', 'VA': '6.9', 'PER': 11.84, 'SALARY': 2242003, 'AGE': '33', 'USG': '11.3', 'AST': '22.8'}\n",
      "{'EWA': '0.4', 'TO': '12', 'MPG': '14.4', 'GP': '70', 'HT': '73', 'ORR': '3.5', 'PLAYER': 'Ish Smith', 'POS': 'PG', 'WT': '175', 'TS%': '0.438', 'TEAM': ' PHX', 'DRR': '10.9', 'REBR': '7.2', 'VA': '10.7', 'PER': 11.71, 'SALARY': 915243, 'AGE': '26', 'USG': '16.5', 'AST': '33'}\n",
      "{'EWA': '0.5', 'TO': '11.1', 'MPG': '18.6', 'GP': '79', 'HT': '73', 'ORR': '1.2', 'PLAYER': 'J.J. Barea', 'POS': 'PG', 'WT': '178', 'TS%': '0.471', 'TEAM': ' MIN', 'DRR': '10.5', 'REBR': '5.7', 'VA': '15', 'PER': 11.68, 'SALARY': 4519500, 'AGE': '30', 'USG': '24.3', 'AST': '26.9'}\n",
      "{'EWA': '0.6', 'TO': '10.9', 'MPG': '28.2', 'GP': '80', 'HT': '75', 'ORR': '1.1', 'PLAYER': 'Jarrett Jack', 'POS': 'PG', 'WT': '200', 'TS%': '0.498', 'TEAM': ' CLE', 'DRR': '10.3', 'REBR': '5.6', 'VA': '19', 'PER': 11.57, 'SALARY': 6300000, 'AGE': '30', 'USG': '18', 'AST': '26.5'}\n",
      "{'EWA': '0', 'TO': '10.4', 'MPG': '23.3', 'GP': '78', 'HT': '80', 'ORR': '4.3', 'PLAYER': 'Derrick Williams', 'POS': 'PF', 'WT': '240', 'TS%': '0.524', 'TEAM': ' MIN/SAC', 'DRR': '15.8', 'REBR': '10', 'VA': '0.7', 'PER': 11.53, 'SALARY': 6331404, 'AGE': '23', 'USG': '16.1', 'AST': '7.7'}\n",
      "{'EWA': '0.4', 'TO': '14.1', 'MPG': '13.6', 'GP': '67', 'HT': '77', 'ORR': '1.2', 'PLAYER': 'Kent Bazemore', 'POS': 'SG', 'WT': '201', 'TS%': '0.515', 'TEAM': ' GS/LAL', 'DRR': '12.6', 'REBR': '6.9', 'VA': '10.6', 'PER': 11.28, 'SALARY': 0, 'AGE': '25', 'USG': '21.5', 'AST': '16.2'}\n",
      "{'EWA': '-0.1', 'TO': '7.4', 'MPG': '11.3', 'GP': '61', 'HT': '82', 'ORR': '2.7', 'PLAYER': 'Matt Bonner', 'POS': 'PF', 'WT': '235', 'TS%': '0.582', 'TEAM': ' SA', 'DRR': '17.9', 'REBR': '10.6', 'VA': '-2.4', 'PER': 11.27, 'SALARY': 915243, 'AGE': '34', 'USG': '11.3', 'AST': '14.3'}\n",
      "{'EWA': '0.1', 'TO': '8.4', 'MPG': '19.1', 'GP': '79', 'HT': '76', 'ORR': '2.2', 'PLAYER': \"E'Twaun Moore\", 'POS': 'PG', 'WT': '191', 'TS%': '0.513', 'TEAM': ' ORL', 'DRR': '8.1', 'REBR': '5.1', 'VA': '4.1', 'PER': 11.18, 'SALARY': 0, 'AGE': '25', 'USG': '15.4', 'AST': '17.2'}\n",
      "{'EWA': '-0.4', 'TO': '13.4', 'MPG': '24.5', 'GP': '82', 'HT': '83', 'ORR': '8.5', 'PLAYER': 'Jason Thompson', 'POS': 'PF', 'WT': '250', 'TS%': '0.523', 'TEAM': ' SAC', 'DRR': '21.3', 'REBR': '14.8', 'VA': '-10.8', 'PER': 11.14, 'SALARY': 6037500, 'AGE': '28', 'USG': '13.3', 'AST': '7.5'}\n",
      "{'EWA': '0.6', 'TO': '10', 'MPG': '28.4', 'GP': '79', 'HT': '79', 'ORR': '3.3', 'PLAYER': 'Wesley Johnson', 'POS': 'SF', 'WT': '215', 'TS%': '0.522', 'TEAM': ' LAL', 'DRR': '13.3', 'REBR': '8.3', 'VA': '19.3', 'PER': 11.08, 'SALARY': 915243, 'AGE': '27', 'USG': '13.9', 'AST': '13.8'}\n",
      "{'EWA': '0', 'TO': '13.1', 'MPG': '27.2', 'GP': '55', 'HT': '75', 'ORR': '0.9', 'PLAYER': 'Steve Blake', 'POS': 'PG', 'WT': '172', 'TS%': '0.508', 'TEAM': ' GS/LAL', 'DRR': '10.4', 'REBR': '5.7', 'VA': '0.2', 'PER': 11.01, 'SALARY': 2077000, 'AGE': '34', 'USG': '12.1', 'AST': '39.3'}\n",
      "{'EWA': '0.2', 'TO': '10.9', 'MPG': '20.7', 'GP': '41', 'HT': '81', 'ORR': '4.3', 'PLAYER': 'Danny Granger', 'POS': 'SF', 'WT': '228', 'TS%': '0.502', 'TEAM': ' IND/LAC', 'DRR': '12.9', 'REBR': '8.8', 'VA': '5', 'PER': 10.9, 'SALARY': 2077000, 'AGE': '31', 'USG': '18.2', 'AST': '9.7'}\n",
      "{'EWA': '0.1', 'TO': '7.7', 'MPG': '19.7', 'GP': '40', 'HT': '78', 'ORR': '4.3', 'PLAYER': 'Chris Johnson', 'POS': 'SF', 'WT': '201', 'TS%': '0.537', 'TEAM': ' BOS', 'DRR': '9.8', 'REBR': '7', 'VA': '3.6', 'PER': 10.8, 'SALARY': 915243, 'AGE': '24', 'USG': '13.5', 'AST': '10.8'}\n",
      "{'EWA': '-0.4', 'TO': '11.6', 'MPG': '15.4', 'GP': '62', 'HT': '85', 'ORR': '7.4', 'PLAYER': 'Donatas Motiejunas', 'POS': 'PF', 'WT': '222', 'TS%': '0.504', 'TEAM': ' HOU', 'DRR': '18.2', 'REBR': '13.1', 'VA': '-10.5', 'PER': 10.76, 'SALARY': 1483920, 'AGE': '23', 'USG': '16.3', 'AST': '8.1'}\n",
      "{'EWA': '-0.3', 'TO': '11.9', 'MPG': '14.2', 'GP': '46', 'HT': '80', 'ORR': '8.4', 'PLAYER': 'Udonis Haslem', 'POS': 'PF', 'WT': '235', 'TS%': '0.523', 'TEAM': ' MIA', 'DRR': '24.7', 'REBR': '16.8', 'VA': '-9.1', 'PER': 10.57, 'SALARY': 2732000, 'AGE': '34', 'USG': '12.3', 'AST': '6.4'}\n",
      "{'EWA': '-0.1', 'TO': '10.6', 'MPG': '26', 'GP': '61', 'HT': '79', 'ORR': '3.7', 'PLAYER': 'Thabo Sefolosha', 'POS': 'SG', 'WT': '222', 'TS%': '0.517', 'TEAM': ' OKC', 'DRR': '11.5', 'REBR': '7.8', 'VA': '-2', 'PER': 10.42, 'SALARY': 4150000, 'AGE': '30', 'USG': '11.3', 'AST': '18.1'}\n",
      "{'EWA': '0', 'TO': '17.2', 'MPG': '10.3', 'GP': '52', 'HT': '77', 'ORR': '5.3', 'PLAYER': 'Archie Goodwin', 'POS': 'SG', 'WT': '198', 'TS%': '0.507', 'TEAM': ' PHX', 'DRR': '13', 'REBR': '9.2', 'VA': '-1.3', 'PER': 10.34, 'SALARY': 1112280, 'AGE': '20', 'USG': '17.8', 'AST': '7.8'}\n",
      "{'EWA': '-0.1', 'TO': '18.9', 'MPG': '7', 'GP': '80', 'HT': '82', 'ORR': '13.6', 'PLAYER': 'Nazr Mohammed', 'POS': 'C', 'WT': '250', 'TS%': '0.445', 'TEAM': ' CHI', 'DRR': '21.7', 'REBR': '17.7', 'VA': '-3.5', 'PER': 10.18, 'SALARY': 0, 'AGE': '36', 'USG': '13.5', 'AST': '10.2'}\n",
      "{'EWA': '-0.2', 'TO': '13.5', 'MPG': '13.4', 'GP': '63', 'HT': '79', 'ORR': '9.5', 'PLAYER': 'Quincy Acy', 'POS': 'SF', 'WT': '225', 'TS%': '0.52', 'TEAM': ' SAC/TOR', 'DRR': '19.5', 'REBR': '14.4', 'VA': '-4.5', 'PER': 10.14, 'SALARY': 915243, 'AGE': '23', 'USG': '9.3', 'AST': '12.6'}\n",
      "{'EWA': '-0.5', 'TO': '15.8', 'MPG': '12.3', 'GP': '61', 'HT': '78', 'ORR': '10.5', 'PLAYER': 'Chuck Hayes', 'POS': 'PF', 'WT': '250', 'TS%': '0.468', 'TEAM': ' SAC/TOR', 'DRR': '21.8', 'REBR': '16.1', 'VA': '-16.5', 'PER': 10.04, 'SALARY': 5958750, 'AGE': '31', 'USG': '9.8', 'AST': '16.7'}\n",
      "{'EWA': '-0.9', 'TO': '9.8', 'MPG': '15.4', 'GP': '76', 'HT': '81', 'ORR': '5.1', 'PLAYER': 'Andrew Nicholson', 'POS': 'PF', 'WT': '250', 'TS%': '0.489', 'TEAM': ' ORL', 'DRR': '19.5', 'REBR': '12.3', 'VA': '-28.1', 'PER': 9.9, 'SALARY': 1545840, 'AGE': '24', 'USG': '17.3', 'AST': '4.8'}\n",
      "{'EWA': '-0.6', 'TO': '8.2', 'MPG': '19.9', 'GP': '45', 'HT': '75', 'ORR': '2.2', 'PLAYER': 'Ray McCallum', 'POS': 'PG', 'WT': '190', 'TS%': '0.439', 'TEAM': ' SAC', 'DRR': '7.8', 'REBR': '5', 'VA': '-16.9', 'PER': 9.74, 'SALARY': 816482, 'AGE': '23', 'USG': '17.7', 'AST': '25.1'}\n",
      "{'EWA': '-0.3', 'TO': '4.6', 'MPG': '12.4', 'GP': '53', 'HT': '80', 'ORR': '5.7', 'PLAYER': 'Robbie Hummel', 'POS': 'SF', 'WT': '220', 'TS%': '0.492', 'TEAM': ' MIN', 'DRR': '16.6', 'REBR': '11', 'VA': '-8.1', 'PER': 9.67, 'SALARY': 880000, 'AGE': '25', 'USG': '11.9', 'AST': '10.6'}\n",
      "{'EWA': '0', 'TO': '8.3', 'MPG': '20.9', 'GP': '36', 'HT': '81', 'ORR': '3.6', 'PLAYER': 'Shawne Williams', 'POS': 'SF', 'WT': '230', 'TS%': '0.503', 'TEAM': ' LAL', 'DRR': '20.2', 'REBR': '11.9', 'VA': '0', 'PER': 9.51, 'SALARY': 1227985, 'AGE': '28', 'USG': '11.8', 'AST': '11.9'}\n",
      "{'EWA': '-0.9', 'TO': '9.1', 'MPG': '22.7', 'GP': '78', 'HT': '78', 'ORR': '2.7', 'PLAYER': 'Alan Anderson', 'POS': 'SF', 'WT': '220', 'TS%': '0.525', 'TEAM': ' BKN', 'DRR': '9.1', 'REBR': '5.9', 'VA': '-26.4', 'PER': 9.5, 'SALARY': 1276061, 'AGE': '31', 'USG': '14.5', 'AST': '11.9'}\n",
      "{'EWA': '-1.2', 'TO': '10.4', 'MPG': '17.1', 'GP': '68', 'HT': '81', 'ORR': '4.8', 'PLAYER': 'Darrell Arthur', 'POS': 'PF', 'WT': '235', 'TS%': '0.459', 'TEAM': ' DEN', 'DRR': '14.7', 'REBR': '9.8', 'VA': '-36.3', 'PER': 9.41, 'SALARY': 3457149, 'AGE': '26', 'USG': '17', 'AST': '11'}\n",
      "{'EWA': '-0.6', 'TO': '11.1', 'MPG': '13.2', 'GP': '51', 'HT': '74', 'ORR': '3.3', 'PLAYER': 'Toney Douglas', 'POS': 'PG', 'WT': '195', 'TS%': '0.493', 'TEAM': ' GS/MIA', 'DRR': '11.8', 'REBR': '7.6', 'VA': '-18.1', 'PER': 9.2, 'SALARY': 0, 'AGE': '28', 'USG': '16.5', 'AST': '22.2'}\n",
      "{'EWA': '-1.1', 'TO': '11.4', 'MPG': '18.7', 'GP': '61', 'HT': '74', 'ORR': '2.2', 'PLAYER': 'Luke Ridnour', 'POS': 'PG', 'WT': '175', 'TS%': '0.452', 'TEAM': ' MIL/CHA', 'DRR': '7.6', 'REBR': '4.8', 'VA': '-33.9', 'PER': 9.01, 'SALARY': 2750000, 'AGE': '33', 'USG': '16.8', 'AST': '30.3'}\n",
      "{'EWA': '-2.2', 'TO': '14', 'MPG': '24.6', 'GP': '82', 'HT': '74', 'ORR': '1.1', 'PLAYER': 'Norris Cole', 'POS': 'PG', 'WT': '175', 'TS%': '0.497', 'TEAM': ' MIA', 'DRR': '8.6', 'REBR': '5', 'VA': '-66', 'PER': 8.8, 'SALARY': 2038206, 'AGE': '25', 'USG': '15.2', 'AST': '27.4'}\n",
      "{'EWA': '-1', 'TO': '12.8', 'MPG': '17.3', 'GP': '67', 'HT': '77', 'ORR': '2.7', 'PLAYER': 'Elliot Williams', 'POS': 'SG', 'WT': '180', 'TS%': '0.519', 'TEAM': ' PHI', 'DRR': '9.7', 'REBR': '6.1', 'VA': '-31', 'PER': 8.71, 'SALARY': 981084, 'AGE': '25', 'USG': '15.8', 'AST': '13.6'}\n",
      "{'EWA': '-0.7', 'TO': '13.6', 'MPG': '15.2', 'GP': '52', 'HT': '81', 'ORR': '4.9', 'PLAYER': 'Quincy Miller', 'POS': 'SF', 'WT': '210', 'TS%': '0.459', 'TEAM': ' DEN', 'DRR': '15.2', 'REBR': '10.1', 'VA': '-22.1', 'PER': 8.62, 'SALARY': 915243, 'AGE': '21', 'USG': '16.3', 'AST': '7.3'}\n",
      "{'EWA': '-2.2', 'TO': '6', 'MPG': '25.6', 'GP': '76', 'HT': '81', 'ORR': '1.9', 'PLAYER': 'Tayshaun Prince', 'POS': 'SF', 'WT': '215', 'TS%': '0.438', 'TEAM': ' MEM', 'DRR': '12.3', 'REBR': '7.1', 'VA': '-67.4', 'PER': 8.18, 'SALARY': 7707865, 'AGE': '34', 'USG': '12.8', 'AST': '17.5'}\n",
      "{'EWA': '-0.9', 'TO': '15.3', 'MPG': '8.5', 'GP': '75', 'HT': '78', 'ORR': '3.8', 'PLAYER': 'Garrett Temple', 'POS': 'SG', 'WT': '195', 'TS%': '0.431', 'TEAM': ' WSH', 'DRR': '8.7', 'REBR': '6.2', 'VA': '-25.6', 'PER': 7.81, 'SALARY': 981084, 'AGE': '28', 'USG': '14.3', 'AST': '26.3'}\n",
      "{'EWA': '-1.6', 'TO': '16.3', 'MPG': '19.1', 'GP': '42', 'HT': '82', 'ORR': '8.4', 'PLAYER': 'Ekpe Udoh', 'POS': 'PF', 'WT': '245', 'TS%': '0.44', 'TEAM': ' MIL', 'DRR': '12.8', 'REBR': '10.5', 'VA': '-46.5', 'PER': 7.62, 'SALARY': 0, 'AGE': '27', 'USG': '10.8', 'AST': '13.3'}\n",
      "{'EWA': '-0.9', 'TO': '11.2', 'MPG': '16.3', 'GP': '35', 'HT': '74', 'ORR': '0.8', 'PLAYER': 'Jason Terry', 'POS': 'SG', 'WT': '180', 'TS%': '0.501', 'TEAM': ' BKN', 'DRR': '6.9', 'REBR': '3.9', 'VA': '-25.7', 'PER': 7.48, 'SALARY': 5850313, 'AGE': '36', 'USG': '14.7', 'AST': '23.2'}\n",
      "{'EWA': '-1.2', 'TO': '14.7', 'MPG': '12.8', 'GP': '52', 'HT': '80', 'ORR': '8.1', 'PLAYER': 'Anthony Bennett', 'POS': 'SF', 'WT': '259', 'TS%': '0.425', 'TEAM': ' CLE', 'DRR': '18.4', 'REBR': '13.1', 'VA': '-35.1', 'PER': 6.95, 'SALARY': 5563920, 'AGE': '21', 'USG': '18.7', 'AST': '5.3'}\n",
      "{'EWA': '-1.4', 'TO': '8.8', 'MPG': '24.2', 'GP': '26', 'HT': '79', 'ORR': '2.7', 'PLAYER': 'Jeff Taylor', 'POS': 'SF', 'WT': '225', 'TS%': '0.436', 'TEAM': ' CHA', 'DRR': '8.1', 'REBR': '5.4', 'VA': '-42.5', 'PER': 5.97, 'SALARY': 915243, 'AGE': '25', 'USG': '17.5', 'AST': '7.7'}\n",
      "{'EWA': '-1.7', 'TO': '8.4', 'MPG': '14.1', 'GP': '42', 'HT': '71', 'ORR': '2.3', 'PLAYER': 'John Lucas III', 'POS': 'PG', 'WT': '166', 'TS%': '0.403', 'TEAM': ' UTAH', 'DRR': '5.4', 'REBR': '3.8', 'VA': '-50.9', 'PER': 5.23, 'SALARY': 1600000, 'AGE': '31', 'USG': '16.2', 'AST': '16.1'}\n"
     ]
    }
   ],
   "source": [
    "## Write the Python to print *every* row of the CSV here.\n",
    "for player in x:\n",
    "    print(next(x))"
   ]
  },
  {
   "cell_type": "markdown",
   "metadata": {},
   "source": [
    "## Summary Statistics\n",
    "\n",
    "In this section, you'll use the CSV data to write computations for mean, median, mode, minimum, and maximum. Use Python to access the values in the `SALARY` column."
   ]
  },
  {
   "cell_type": "code",
   "execution_count": 8,
   "metadata": {
    "collapsed": false
   },
   "outputs": [
    {
     "name": "stdout",
     "output_type": "stream",
     "text": [
      "There are 323 total players.\n",
      "The median salary is 3657500.\n",
      "The minimum salary is 0.\n",
      "The maximum salary is 23410988.\n",
      "The mean salary is 5323345.\n"
     ]
    }
   ],
   "source": [
    "data = list(read_csv('fixtures/nba_players.csv')) #You can put in your own path here.\n",
    "data  = sorted(data, key=itemgetter('SALARY'))\n",
    "\n",
    "total = 0\n",
    "count = 0\n",
    "\n",
    "for row in data:\n",
    "        count += 1\n",
    "        total += row['SALARY']\n",
    "\n",
    "# Total Count\n",
    "print(\"There are {0:d} total players.\".format(count))\n",
    "\n",
    "# Median\n",
    "midway_point = (count)//2 # But what happens if the length of the list is even?\n",
    "median = data[midway_point]['SALARY']  \n",
    "print(\"The median salary is {0:d}.\".format(median))\n",
    "\n",
    "# Minimum\n",
    "minimum = data[0]['SALARY']\n",
    "print(\"The minimum salary is {0:d}.\".format(minimum))\n",
    "\n",
    "# Maximum\n",
    "maximum = data[-1]['SALARY']\n",
    "print(\"The maximum salary is {0:d}.\".format(maximum))\n",
    "\n",
    "# Mean\n",
    "mean = total//(count)\n",
    "print(\"The mean salary is {0:d}.\".format(mean))"
   ]
  },
  {
   "cell_type": "markdown",
   "metadata": {},
   "source": [
    "Nice work! Now... calculating the mode is a bit different. Remember about the [Decorate-Sort-Undecorate](http://www.greenteapress.com/thinkpython/html/thinkpython013.html) pattern that we learned about in ThinkPython? That will work here!"
   ]
  },
  {
   "cell_type": "code",
   "execution_count": 9,
   "metadata": {
    "collapsed": false
   },
   "outputs": [
    {
     "name": "stdout",
     "output_type": "stream",
     "text": [
      "The mode salary is 0, which appears 24 times.\n"
     ]
    }
   ],
   "source": [
    "frequency = {}\n",
    "\n",
    "for row in data:\n",
    "    if row['SALARY'] not in frequency:\n",
    "        frequency[row['SALARY']] = 1\n",
    "    else:\n",
    "        frequency[row['SALARY']] += 1\n",
    "\n",
    "sort_freq = []\n",
    "for key,val in frequency.items():\n",
    "    sort_freq.append((val,key))\n",
    "sort_freq.sort(reverse = True)\n",
    "\n",
    "mode = sort_freq[0][1]\n",
    "mode_count = sort_freq[0][0]\n",
    "print(\"The mode salary is {0:d}, which appears {1:d} times.\".format(mode,mode_count))"
   ]
  },
  {
   "cell_type": "markdown",
   "metadata": {},
   "source": [
    "The \"DSU\" approach is a little inefficient. Instead of using a dictionary as our data type to solve the mode problem, we could use counter() from the Collections module. [Read more about counter()](https://pymotw.com/2/collections/counter.html) and try it out here:"
   ]
  },
  {
   "cell_type": "code",
   "execution_count": 10,
   "metadata": {
    "collapsed": false
   },
   "outputs": [
    {
     "name": "stdout",
     "output_type": "stream",
     "text": [
      "[(0, 24), (915243, 23)]\n"
     ]
    }
   ],
   "source": [
    "count = 0\n",
    "total = 0.0\n",
    "freqs = Counter() # Here it is!\n",
    "\n",
    "for row in data:\n",
    "    count += 1\n",
    "    total += row['SALARY']\n",
    "    freqs[row['SALARY']] += 1\n",
    "    \n",
    "mode = freqs.most_common(2)\n",
    "print(mode)"
   ]
  },
  {
   "cell_type": "markdown",
   "metadata": {},
   "source": [
    "#### Putting the pieces together\n",
    "\n",
    "The above summary statistics can actually be computed inside of a single (and elegant!) function. Give it a try!"
   ]
  },
  {
   "cell_type": "code",
   "execution_count": 11,
   "metadata": {
    "collapsed": false
   },
   "outputs": [],
   "source": [
    "def statistics(path):\n",
    "    data  = list(read_csv(path))\n",
    "    data  = sorted(data, key=itemgetter('SALARY'))\n",
    "\n",
    "    count = 0\n",
    "    total = 0.0\n",
    "    freqs = Counter()\n",
    "\n",
    "    for row in data:\n",
    "        count += 1\n",
    "        total += row['SALARY']\n",
    "        freqs[row['SALARY']] += 1\n",
    "\n",
    "    stats = {\n",
    "        'maximum': data[-1]['SALARY'],\n",
    "        'minimum': data[0]['SALARY'],\n",
    "        'median': data[count // 2]['SALARY'], # But what happens if the length of the list is even?\n",
    "        'mode': freqs.most_common(2),\n",
    "        'mean': total // count,\n",
    "    }\n",
    "    \n",
    "    return stats"
   ]
  },
  {
   "cell_type": "code",
   "execution_count": 12,
   "metadata": {
    "collapsed": false
   },
   "outputs": [
    {
     "name": "stdout",
     "output_type": "stream",
     "text": [
      "{'mean': 5323345.0, 'maximum': 23410988, 'minimum': 0, 'median': 3657500, 'mode': [(0, 24), (915243, 23)]}\n"
     ]
    }
   ],
   "source": [
    "print(statistics('./fixtures/nba_players.csv'))"
   ]
  },
  {
   "cell_type": "markdown",
   "metadata": {},
   "source": [
    "Isn't that nice? But we could still make it better. Keep playing with the above function to get it to work more efficiently or to reduce bad data in the computation - e.g. what are all those zero salaries? \n",
    "\n",
    "\n",
    "## Visualization\n",
    "\n",
    "Congratulations if you've made it this far! It's time for the bonus round!\n",
    "\n",
    "You've now had some summary statistics about the salaries of NBA players, but what we're really interested in is the relationship between `SALARY` and the rest of the fields in the data set. The `PER` - Player Efficiency Rating, is an aggregate score of all performance statistics; therefore if we determine the relationship of `PER` to `SALARY`, we might learn a lot about how to model NBA salaries. \n",
    "\n",
    "In order to explore this, let's create a scatter plot of `SALARY` to `PER`, where each point is an NBA player.\n",
    "\n",
    "Visualization is going to require a third party library. You probably already have matplotlib, so that might be the simplest if you're having trouble with installation. If you don't, `pip install` it now! Follow the documentation to create the scatter plot inline in the notebook in the following cells."
   ]
  },
  {
   "cell_type": "code",
   "execution_count": 13,
   "metadata": {
    "collapsed": false
   },
   "outputs": [
    {
     "data": {
      "image/png": "[encoded data removed]",
      "text/plain": [
       "<matplotlib.figure.Figure at 0x1171bdc50>"
      ]
     },
     "metadata": {},
     "output_type": "display_data"
    }
   ],
   "source": [
    "# Insert your Python to create the visualization here\n",
    "import os\n",
    "import pandas as pd\n",
    "import numpy as np\n",
    "\n",
    "import matplotlib.pyplot as plt\n",
    "%matplotlib inline  \n",
    "\n",
    "def read_data(path):\n",
    "    return pd.DataFrame(pd.read_csv(path))\n",
    "\n",
    "def graph_data(path, xkey='PER', ykey='SALARY'):\n",
    "    data = read_data(path)\n",
    "    xval = data['PER']\n",
    "    yval = data['SALARY']\n",
    "\n",
    "    fig,axe = plt.subplots()\n",
    "    plt.scatter(xval, yval, alpha=0.7)\n",
    "    plt.ylim([-10000, data['SALARY'].max()+500000])\n",
    "\n",
    "    plt.ylabel('salary')\n",
    "    plt.xlabel('player efficiency rating')\n",
    "    plt.title('NBA 2013 Player Efficieny Rating and Salary Correlation')\n",
    "\n",
    "    plt.grid(True)\n",
    "    plt.show()\n",
    "\n",
    "graph_data('fixtures/nba_players.csv') # Or whatever your path is"
   ]
  },
  {
   "cell_type": "markdown",
   "metadata": {},
   "source": [
    "Nice work!! Matplotlib is pretty useful, but also kind of bare bones. Once you're ready to experiment with other libraries and take your visualizations to the next level, check out the following:\n",
    "\n",
    "- Seaborn\n",
    "- Bokeh\n",
    "- Pandas\n",
    "\n",
    "Our favorite is Bokeh - it's interactive!"
   ]
  },
  {
   "cell_type": "code",
   "execution_count": null,
   "metadata": {
    "collapsed": true
   },
   "outputs": [],
   "source": []
  }
 ],
 "metadata": {
  "kernelspec": {
   "display_name": "Python 3",
   "language": "python",
   "name": "python3"
  },
  "language_info": {
   "codemirror_mode": {
    "name": "ipython",
    "version": 3
   },
   "file_extension": ".py",
   "mimetype": "text/x-python",
   "name": "python",
   "nbconvert_exporter": "python",
   "pygments_lexer": "ipython3",
   "version": "3.5.1"
  }
 },
 "nbformat": 4,
 "nbformat_minor": 0
}
