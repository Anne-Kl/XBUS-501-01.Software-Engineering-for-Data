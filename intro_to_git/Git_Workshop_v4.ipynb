{
 "cells": [
  {
   "cell_type": "code",
   "execution_count": 1,
   "metadata": {
    "collapsed": true
   },
   "outputs": [],
   "source": [
    "from IPython.display import HTML"
   ]
  },
  {
   "cell_type": "code",
   "execution_count": 2,
   "metadata": {
    "collapsed": false
   },
   "outputs": [
    {
     "data": {
      "text/html": [
       "<script>\n",
       "code_show=true; \n",
       "function code_toggle() {\n",
       " if (code_show){\n",
       " $('div.input').hide();\n",
       " } else {\n",
       " $('div.input').show();\n",
       " }\n",
       " code_show = !code_show\n",
       "} \n",
       "$( document ).ready(code_toggle);\n",
       "</script>\n",
       "The raw code for this IPython notebook is by default hidden for easier reading.\n",
       "To toggle on/off the raw code, click <a href=\"javascript:code_toggle()\">here</a>."
      ],
      "text/plain": [
       "<IPython.core.display.HTML object>"
      ]
     },
     "execution_count": 2,
     "metadata": {},
     "output_type": "execute_result"
    }
   ],
   "source": [
    "HTML('''<script>\n",
    "code_show=true; \n",
    "function code_toggle() {\n",
    " if (code_show){\n",
    " $('div.input').hide();\n",
    " } else {\n",
    " $('div.input').show();\n",
    " }\n",
    " code_show = !code_show\n",
    "} \n",
    "$( document ).ready(code_toggle);\n",
    "</script>\n",
    "The raw code for this IPython notebook is by default hidden for easier reading.\n",
    "To toggle on/off the raw code, click <a href=\"javascript:code_toggle()\">here</a>.''')"
   ]
  },
  {
   "cell_type": "markdown",
   "metadata": {},
   "source": [
    "# Introduction to Git, Part 1"
   ]
  },
  {
   "cell_type": "markdown",
   "metadata": {},
   "source": [
    "## Setting up"
   ]
  },
  {
   "cell_type": "markdown",
   "metadata": {},
   "source": [
    "For this lab, pair up with someone else. Open your terminal. If you have questions about how to access your terminal, ask your teammate.\n",
    "\n",
    "Now make sure both of you have Github accounts by typing the following into your terminal:     \n",
    "\n",
    "    git --version"
   ]
  },
  {
   "cell_type": "markdown",
   "metadata": {},
   "source": [
    "*Note: I am working on a Mac. If you are using Windows and want to know the Windows versions of terminal commands, there's a look-up table here: http://www.lemoda.net/windows/windows2unix/windows2unix.html.*"
   ]
  },
  {
   "cell_type": "markdown",
   "metadata": {},
   "source": [
    "If you don't already have Git installed, do that now:    \n",
    "\n",
    "1. Create a Github account at http://github.com \n",
    "2. Download and install the latest version of Git: http://git-scm.com/downloads\n",
    "3. Configure Git with your name and email by typing the following into your terminal:"
   ]
  },
  {
   "cell_type": "markdown",
   "metadata": {},
   "source": [
    "    git config --global user.name \"YOUR NAME\"       \n",
    "    git config --global user.email \"YOUR EMAIL ADDRESS\""
   ]
  },
  {
   "cell_type": "markdown",
   "metadata": {},
   "source": [
    "Each of you should [create a new repository](https://github.com/new) - but **don't call them the same thing**. Add a title and a description, set the repo to Public, initialize with a _README_, and click Create.\n",
    "\n",
    "Now, give your team mate permission to collaborate: Go to the settings tab on your repo page, click on Collaborators, and add your team mate's Github username."
   ]
  },
  {
   "cell_type": "code",
   "execution_count": null,
   "metadata": {
    "collapsed": false
   },
   "outputs": [],
   "source": [
    "from IPython.display import Image\n",
    "Image(filename='images/newrepo.png', width=600, height=300)"
   ]
  },
  {
   "cell_type": "markdown",
   "metadata": {},
   "source": [
    "## Working with a repository"
   ]
  },
  {
   "cell_type": "markdown",
   "metadata": {},
   "source": [
    "Next, clone your empty repo. Look in the bottom righthand corner of the repo page on Github to find the URL. The default is an HTTPS clone. You can read more about [options](https://help.github.com/articles/which-remote-url-should-i-use/). You can always switch between HTTPS and SSH later by following [these instructions](https://help.github.com/articles/changing-a-remote-s-url/)."
   ]
  },
  {
   "cell_type": "code",
   "execution_count": null,
   "metadata": {
    "collapsed": false,
    "scrolled": false
   },
   "outputs": [],
   "source": [
    "Image(filename='images/cloning.png', width=600, height=300)"
   ]
  },
  {
   "cell_type": "markdown",
   "metadata": {},
   "source": [
    "Now in your terminal, type:    \n",
    "\n",
    "    git clone PASTE THE URL HERE myclone       \n",
    "    cd myclone"
   ]
  },
  {
   "cell_type": "markdown",
   "metadata": {},
   "source": [
    "Then add some content to the empty myclone folder. Some simple text documents would be good. "
   ]
  },
  {
   "cell_type": "code",
   "execution_count": null,
   "metadata": {
    "collapsed": false
   },
   "outputs": [],
   "source": [
    "Image(filename='images/cloning_adding.png', width=400, height=250)"
   ]
  },
  {
   "cell_type": "markdown",
   "metadata": {},
   "source": [
    "Now add and commit those changes."
   ]
  },
  {
   "cell_type": "markdown",
   "metadata": {},
   "source": [
    "    git add --all       \n",
    "    git commit -m \"A few additions.\""
   ]
  },
  {
   "cell_type": "markdown",
   "metadata": {},
   "source": [
    "*Note: git add -all can be a bit ham-fisted and is not the only option. You can precision-add files using git add FILENAME.*"
   ]
  },
  {
   "cell_type": "code",
   "execution_count": null,
   "metadata": {
    "collapsed": false,
    "scrolled": false
   },
   "outputs": [],
   "source": [
    "Image(filename='images/commit.png', width=400, height=250)"
   ]
  },
  {
   "cell_type": "markdown",
   "metadata": {},
   "source": [
    "View the log and push the changes back to Github.         \n",
    "\n",
    "    git log       \n",
    "    git push origin master"
   ]
  },
  {
   "cell_type": "code",
   "execution_count": null,
   "metadata": {
    "collapsed": false
   },
   "outputs": [],
   "source": [
    "Image(filename='images/logpush.png', width=400, height=250)"
   ]
  },
  {
   "cell_type": "markdown",
   "metadata": {},
   "source": [
    "View your changes on the repo webpage."
   ]
  },
  {
   "cell_type": "code",
   "execution_count": null,
   "metadata": {
    "collapsed": false
   },
   "outputs": [],
   "source": [
    "Image(filename='images/postpush.png', width=600, height=325)"
   ]
  },
  {
   "cell_type": "markdown",
   "metadata": {},
   "source": [
    "Once you've finished, move on to part two."
   ]
  },
  {
   "cell_type": "markdown",
   "metadata": {},
   "source": [
    "# Introduction to Git, Part 2"
   ]
  },
  {
   "cell_type": "markdown",
   "metadata": {},
   "source": [
    "## Breaking Git*"
   ]
  },
  {
   "cell_type": "markdown",
   "metadata": {},
   "source": [
    "*Don't worry, you won't actually break it."
   ]
  },
  {
   "cell_type": "markdown",
   "metadata": {},
   "source": [
    "#### Now, clone your teammate's repo. Hopefully you gave your repos different names!    \n",
    "\n",
    "    git clone PASTE TEAMMATE'S URL HERE teamclone       \n",
    "    cd teamclone"
   ]
  },
  {
   "cell_type": "markdown",
   "metadata": {},
   "source": [
    "#### Make more changes! Add some new files, commit them, and push back to the master. Remember these 6 commands:     \n",
    "\n",
    "    git add --all                      #Stage all the changes\n",
    "    git add (FILENAME)                 #Just stage one updated file\n",
    "    git status                         #Check the status to see what's changed/staged\n",
    "    git commit -m \"Unique message.\"    #Commit the changes\n",
    "    git log                            #See the commit history\n",
    "    git push origin master             #Push the commits back to Github"
   ]
  },
  {
   "cell_type": "markdown",
   "metadata": {},
   "source": [
    "#### Now, both teammates should edit the *same line* on the *same file*, and try to add, commit, and push changes back to Github."
   ]
  },
  {
   "cell_type": "markdown",
   "metadata": {},
   "source": [
    "What happened??"
   ]
  },
  {
   "cell_type": "markdown",
   "metadata": {},
   "source": [
    "## Conflict Resolution"
   ]
  },
  {
   "cell_type": "markdown",
   "metadata": {},
   "source": [
    "Here, the first person (named Nice Clone in the example below) to push the changes is successful."
   ]
  },
  {
   "cell_type": "code",
   "execution_count": null,
   "metadata": {
    "collapsed": false
   },
   "outputs": [],
   "source": [
    "Image(filename='images/nice.png', width=500, height=250)"
   ]
  },
  {
   "cell_type": "markdown",
   "metadata": {},
   "source": [
    "The next person (Evil Clone) gets a failure message when they try to push. Then they type:\n",
    "\n",
    "    git pull            #syncs up with current repo version (combo of git fetch + git merge)\n",
    "\n",
    "...and Git sends a merge conflict error message:"
   ]
  },
  {
   "cell_type": "code",
   "execution_count": null,
   "metadata": {
    "collapsed": false
   },
   "outputs": [],
   "source": [
    "Image(filename='images/evilclone.png', width=600, height=450)"
   ]
  },
  {
   "cell_type": "markdown",
   "metadata": {},
   "source": [
    "This is called a merge conflict. Git tells you to fix the conflicts and then commit the result. Now let's resolve the merge conflict.\n",
    "\n",
    "Use the error message to identify which file caused the conflict. Open that file in your text editor."
   ]
  },
  {
   "cell_type": "code",
   "execution_count": null,
   "metadata": {
    "collapsed": false
   },
   "outputs": [],
   "source": [
    "Image(filename='images/viewconflict.png', width=550, height=225)"
   ]
  },
  {
   "cell_type": "markdown",
   "metadata": {},
   "source": [
    "The file shows the changes made by both parties. The first section is the version of the current branch head (Evil Clone's). The second section is the version of master branch (Nice Clone's).      \n",
    "\n",
    "#### Let's decide to be nice in order to resolve the conflict. Edit the file accordingly. Then run: \n",
    "\n",
    "    git add NAME OF FIXED FILE\n",
    "    git commit -m \"Fixed merge conflict.\"\n",
    "    git push origin master"
   ]
  },
  {
   "cell_type": "markdown",
   "metadata": {},
   "source": [
    "Nice job! For more on advanced Git topics, check out __Pro Git__ by Scott Chacon and Ben Straub  http://git-scm.com/book/en/v2."
   ]
  }
 ],
 "metadata": {
  "kernelspec": {
   "display_name": "Python 3",
   "language": "python",
   "name": "python3"
  },
  "language_info": {
   "codemirror_mode": {
    "name": "ipython",
    "version": 3
   },
   "file_extension": ".py",
   "mimetype": "text/x-python",
   "name": "python",
   "nbconvert_exporter": "python",
   "pygments_lexer": "ipython3",
   "version": "3.5.1"
  }
 },
 "nbformat": 4,
 "nbformat_minor": 0
}
